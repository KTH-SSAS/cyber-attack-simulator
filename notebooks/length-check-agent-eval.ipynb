{
 "cells": [
  {
   "cell_type": "code",
   "execution_count": 1,
   "id": "bc771859-eec5-4e77-ab73-ffa251c2512f",
   "metadata": {},
   "outputs": [],
   "source": [
    "import os\n",
    "\n",
    "import numpy as np\n",
    "import pandas as pd\n",
    "import seaborn as sns\n",
    "\n",
    "from ray import init, rllib, shutdown"
   ]
  },
  {
   "cell_type": "code",
   "execution_count": 2,
   "id": "96c82f7d-a6f6-4e29-842a-2acbf04761ef",
   "metadata": {},
   "outputs": [],
   "source": [
    "from attack_simulator.agents import ATTACKERS\n",
    "from attack_simulator.env import AttackSimulationEnv\n",
    "from attack_simulator.graph import AttackGraph, SIZES"
   ]
  },
  {
   "cell_type": "code",
   "execution_count": 3,
   "id": "3a6f9690-aea1-416c-a06b-d010f47e5cbd",
   "metadata": {},
   "outputs": [],
   "source": [
    "class NoAction(rllib.policy.Policy):\n",
    "    def compute_actions(self, observations, *args, **kwargs):\n",
    "        # FIXME: use a `numpy` array as a temporary workaround for\n",
    "        #        https://github.com/ray-project/ray/issues/10100\n",
    "        return np.zeros(len(observations)), [], {}\n",
    "\n",
    "    def get_weights(self):\n",
    "        return {}\n",
    "\n",
    "    def set_weights(self, weights):\n",
    "        pass\n",
    "\n",
    "\n",
    "no_action = rllib.agents.trainer_template.build_trainer(name=\"NoAction\", default_policy=NoAction)"
   ]
  },
  {
   "cell_type": "code",
   "execution_count": 4,
   "id": "64c4d23f-10ba-4509-9014-32f7f737c7aa",
   "metadata": {},
   "outputs": [],
   "source": [
    "from ray.util.client import worker\n",
    "\n",
    "worker.INITIAL_TIMEOUT_SEC = worker.MAX_TIMEOUT_SEC = 1\n",
    "\n",
    "\n",
    "def ray_init():\n",
    "    if os.path.isdir(\"/var/run/secrets/kubernetes.io\") or os.path.exists(\n",
    "        os.path.expanduser(\"~/ray_bootstrap_config.yaml\")\n",
    "    ):\n",
    "        # inside k8s pod or a cluster managed by Ray's autoscaler\n",
    "        context = init(address=\"auto\")\n",
    "    else:\n",
    "        ray_client_server = \"host.docker.internal\" if os.path.exists(\"/.dockerenv\") else \"127.0.0.1\"\n",
    "        try:\n",
    "            context = init(address=f\"ray://{ray_client_server}:10001\")\n",
    "        except ConnectionError:\n",
    "            # clean up after failed connection attempt\n",
    "            shutdown()\n",
    "            # listen on all interfaces inside a container for port-forwarding to work\n",
    "            dashboard_host = \"0.0.0.0\" if os.path.exists(\"/.dockerenv\") else \"127.0.0.1\"\n",
    "            context = init(num_cpus=4, dashboard_host=dashboard_host)\n",
    "    print(\"\\x1b[33;1m\", context, \"\\x1b[m\")\n",
    "    return context"
   ]
  },
  {
   "cell_type": "code",
   "execution_count": 5,
   "id": "30168117-33b6-4b02-a966-7fd15e1397a7",
   "metadata": {},
   "outputs": [
    {
     "name": "stdout",
     "output_type": "stream",
     "text": [
      "AttackGraph(en2720.yaml[tiny], 2 services, 7 attack steps)\n",
      "AttackGraph(en2720.yaml[small], 5 services, 27 attack steps)\n",
      "AttackGraph(en2720.yaml[medium-small], 9 services, 44 attack steps)\n",
      "AttackGraph(en2720.yaml[medium], 13 services, 56 attack steps)\n",
      "AttackGraph(en2720.yaml[large], 16 services, 62 attack steps)\n",
      "AttackGraph(en2720.yaml[extra-large], 16 services, 65 attack steps)\n",
      "AttackGraph(en2720.yaml[full], 18 services, 78 attack steps)\n"
     ]
    }
   ],
   "source": [
    "from tqdm.auto import tqdm\n",
    "\n",
    "rename = dict(\n",
    "    attacker=\"Attacker\",\n",
    "    graph_size=\"Graph size\",\n",
    "    episode_reward=\"Returns\",\n",
    "    episode_lengths=\"Episode lengths\",\n",
    ")\n",
    "\n",
    "num_episodes = 5  # run 5 episodes on the same environment\n",
    "attackers = list(ATTACKERS)\n",
    "graphs = [AttackGraph(dict(graph_size=size)) for size in SIZES]\n",
    "seeds = [0, 1, 2, 3, 6, 7, 11, 28, 42, 1337]\n",
    "\n",
    "\n",
    "def generate(savename):\n",
    "    ray_init()\n",
    "\n",
    "    frames = []\n",
    "    for seed in tqdm(seeds, \"seeds\"):\n",
    "        for attacker in tqdm(attackers, f\"└── {seed}\"):\n",
    "            for graph in tqdm(graphs, f\"\\u00a0\\u2001\\u2001\\u2001└── {attacker}@{seed}\"):\n",
    "                config = dict(\n",
    "                    log_level=\"CRITICAL\",\n",
    "                    framework=\"torch\",\n",
    "                    env=AttackSimulationEnv,\n",
    "                    env_config=dict(attack_graph=graph, attacker=attacker),\n",
    "                    seed=seed,\n",
    "                    num_workers=0,\n",
    "                    rollout_fragment_length=0,\n",
    "                    evaluation_interval=1,\n",
    "                    evaluation_num_workers=1,\n",
    "                    evaluation_config=dict(explore=False),\n",
    "                    evaluation_num_episodes=num_episodes,\n",
    "                )\n",
    "                agent = no_action(config=config)\n",
    "                try:\n",
    "                    stats = agent.evaluate()[\"evaluation\"][\"hist_stats\"]\n",
    "                    frame = pd.DataFrame(\n",
    "                        dict(attacker=attacker, graph_size=graph.num_attacks, **stats)\n",
    "                    )\n",
    "                    frames.append(frame)\n",
    "                except Exception as e:\n",
    "                    print(seed, attacker, graph.graph_size, e)\n",
    "                agent.stop()\n",
    "\n",
    "    shutdown()\n",
    "    results_df = pd.concat(frames, ignore_index=True).rename(columns=rename)\n",
    "    results_df.to_csv(savename)\n",
    "    return results_df"
   ]
  },
  {
   "cell_type": "code",
   "execution_count": 6,
   "id": "825dcc9a-2643-4ac2-b7d0-cf536aa9aff8",
   "metadata": {},
   "outputs": [
    {
     "name": "stderr",
     "output_type": "stream",
     "text": [
      "2021-11-17 21:14:00,256\tINFO worker.py:822 -- Connecting to existing Ray cluster at address: 10.84.0.131:6379\n"
     ]
    },
    {
     "name": "stdout",
     "output_type": "stream",
     "text": [
      "\u001b[33;1m {'node_ip_address': '10.84.0.131', 'raylet_ip_address': '10.84.0.131', 'redis_address': '10.84.0.131:6379', 'object_store_address': '/tmp/ray/session_2021-11-17_20-22-56_866177_42/sockets/plasma_store', 'raylet_socket_name': '/tmp/ray/session_2021-11-17_20-22-56_866177_42/sockets/raylet', 'webui_url': '10.84.0.131:8265', 'session_dir': '/tmp/ray/session_2021-11-17_20-22-56_866177_42', 'metrics_export_port': 60562, 'node_id': '86456cfdb0e4fb66f4724ab47873bf6bff2c7ee29e33713191609e16'} \u001b[m\n"
     ]
    },
    {
     "data": {
      "application/vnd.jupyter.widget-view+json": {
       "model_id": "209c4b9ae5d2475daae66b6b5e825eb9",
       "version_major": 2,
       "version_minor": 0
      },
      "text/plain": [
       "seeds:   0%|          | 0/10 [00:00<?, ?it/s]"
      ]
     },
     "metadata": {},
     "output_type": "display_data"
    },
    {
     "data": {
      "application/vnd.jupyter.widget-view+json": {
       "model_id": "ab344a6a563b425cab5babf87df49fa0",
       "version_major": 2,
       "version_minor": 0
      },
      "text/plain": [
       "└── 0:   0%|          | 0/6 [00:00<?, ?it/s]"
      ]
     },
     "metadata": {},
     "output_type": "display_data"
    },
    {
     "data": {
      "application/vnd.jupyter.widget-view+json": {
       "model_id": "063a33b9c68a4995bd22ad98da72d90b",
       "version_major": 2,
       "version_minor": 0
      },
      "text/plain": [
       "    └── well-informed@0:   0%|          | 0/7 [00:00<?, ?it/s]"
      ]
     },
     "metadata": {},
     "output_type": "display_data"
    },
    {
     "data": {
      "application/vnd.jupyter.widget-view+json": {
       "model_id": "5d91d8bbd2db4594a9423497d4544f9d",
       "version_major": 2,
       "version_minor": 0
      },
      "text/plain": [
       "    └── informed@0:   0%|          | 0/7 [00:00<?, ?it/s]"
      ]
     },
     "metadata": {},
     "output_type": "display_data"
    },
    {
     "data": {
      "application/vnd.jupyter.widget-view+json": {
       "model_id": "07d557b7925e4b12a94520ce35a65a8e",
       "version_major": 2,
       "version_minor": 0
      },
      "text/plain": [
       "    └── round-robin-no-action@0:   0%|          | 0/7 [00:00<?, ?it/s]"
      ]
     },
     "metadata": {},
     "output_type": "display_data"
    },
    {
     "data": {
      "application/vnd.jupyter.widget-view+json": {
       "model_id": "404d80cca8894a6a9ea064c006c30230",
       "version_major": 2,
       "version_minor": 0
      },
      "text/plain": [
       "    └── round-robin@0:   0%|          | 0/7 [00:00<?, ?it/s]"
      ]
     },
     "metadata": {},
     "output_type": "display_data"
    },
    {
     "data": {
      "application/vnd.jupyter.widget-view+json": {
       "model_id": "d2d79b7cbf124be3a5d9f9bace518c65",
       "version_major": 2,
       "version_minor": 0
      },
      "text/plain": [
       "    └── random-no-action@0:   0%|          | 0/7 [00:00<?, ?it/s]"
      ]
     },
     "metadata": {},
     "output_type": "display_data"
    },
    {
     "data": {
      "application/vnd.jupyter.widget-view+json": {
       "model_id": "aee230ea75694fdfbcca67d38aca2cbc",
       "version_major": 2,
       "version_minor": 0
      },
      "text/plain": [
       "    └── random@0:   0%|          | 0/7 [00:00<?, ?it/s]"
      ]
     },
     "metadata": {},
     "output_type": "display_data"
    },
    {
     "data": {
      "application/vnd.jupyter.widget-view+json": {
       "model_id": "aebec0129311431a94dc1d21edbb022c",
       "version_major": 2,
       "version_minor": 0
      },
      "text/plain": [
       "└── 1:   0%|          | 0/6 [00:00<?, ?it/s]"
      ]
     },
     "metadata": {},
     "output_type": "display_data"
    },
    {
     "data": {
      "application/vnd.jupyter.widget-view+json": {
       "model_id": "d5e1bef9b1d7434caae4e9b090b12bc0",
       "version_major": 2,
       "version_minor": 0
      },
      "text/plain": [
       "    └── well-informed@1:   0%|          | 0/7 [00:00<?, ?it/s]"
      ]
     },
     "metadata": {},
     "output_type": "display_data"
    },
    {
     "name": "stderr",
     "output_type": "stream",
     "text": [
      "2021-11-17 21:25:29,522\tWARNING worker.py:1228 -- A worker died or was killed while executing a task by an unexpected system error. To troubleshoot the problem, check the logs for the dead worker. RayTask ID: ffffffffffffffff7c77ed5065e5b149fa71038304000000 Worker ID: 0e36ec503970c0d2c7dbc63cba73b0aecd00a0afba9ed15018794175 Node ID: 86456cfdb0e4fb66f4724ab47873bf6bff2c7ee29e33713191609e16 Worker IP address: 10.84.0.131 Worker port: 10038 Worker PID: 3354\n"
     ]
    },
    {
     "name": "stdout",
     "output_type": "stream",
     "text": [
      "1 well-informed full The actor died unexpectedly before finishing this task.\n"
     ]
    },
    {
     "data": {
      "application/vnd.jupyter.widget-view+json": {
       "model_id": "85a407c0002d4af9b9a26e50f0236337",
       "version_major": 2,
       "version_minor": 0
      },
      "text/plain": [
       "    └── informed@1:   0%|          | 0/7 [00:00<?, ?it/s]"
      ]
     },
     "metadata": {},
     "output_type": "display_data"
    },
    {
     "data": {
      "application/vnd.jupyter.widget-view+json": {
       "model_id": "c452541e0f344ecf93cbe86c06297c02",
       "version_major": 2,
       "version_minor": 0
      },
      "text/plain": [
       "    └── round-robin-no-action@1:   0%|          | 0/7 [00:00<?, ?it/s]"
      ]
     },
     "metadata": {},
     "output_type": "display_data"
    },
    {
     "data": {
      "application/vnd.jupyter.widget-view+json": {
       "model_id": "c2291510a7764306893e30060f191e7b",
       "version_major": 2,
       "version_minor": 0
      },
      "text/plain": [
       "    └── round-robin@1:   0%|          | 0/7 [00:00<?, ?it/s]"
      ]
     },
     "metadata": {},
     "output_type": "display_data"
    },
    {
     "data": {
      "application/vnd.jupyter.widget-view+json": {
       "model_id": "35355b9a493d47a3a70016a452272bda",
       "version_major": 2,
       "version_minor": 0
      },
      "text/plain": [
       "    └── random-no-action@1:   0%|          | 0/7 [00:00<?, ?it/s]"
      ]
     },
     "metadata": {},
     "output_type": "display_data"
    },
    {
     "data": {
      "application/vnd.jupyter.widget-view+json": {
       "model_id": "a5397a92b5444e0a9d39809f6c89c1fb",
       "version_major": 2,
       "version_minor": 0
      },
      "text/plain": [
       "    └── random@1:   0%|          | 0/7 [00:00<?, ?it/s]"
      ]
     },
     "metadata": {},
     "output_type": "display_data"
    },
    {
     "data": {
      "application/vnd.jupyter.widget-view+json": {
       "model_id": "b324ef57858e408e9b1f881d4f371f08",
       "version_major": 2,
       "version_minor": 0
      },
      "text/plain": [
       "└── 2:   0%|          | 0/6 [00:00<?, ?it/s]"
      ]
     },
     "metadata": {},
     "output_type": "display_data"
    },
    {
     "data": {
      "application/vnd.jupyter.widget-view+json": {
       "model_id": "fadc004fa90a42d09d1eda15d72c6673",
       "version_major": 2,
       "version_minor": 0
      },
      "text/plain": [
       "    └── well-informed@2:   0%|          | 0/7 [00:00<?, ?it/s]"
      ]
     },
     "metadata": {},
     "output_type": "display_data"
    },
    {
     "data": {
      "application/vnd.jupyter.widget-view+json": {
       "model_id": "e1eea350f2e9411ca4a1da54fc40a85b",
       "version_major": 2,
       "version_minor": 0
      },
      "text/plain": [
       "    └── informed@2:   0%|          | 0/7 [00:00<?, ?it/s]"
      ]
     },
     "metadata": {},
     "output_type": "display_data"
    },
    {
     "data": {
      "application/vnd.jupyter.widget-view+json": {
       "model_id": "c78d850c36fc498a8fd806e852625866",
       "version_major": 2,
       "version_minor": 0
      },
      "text/plain": [
       "    └── round-robin-no-action@2:   0%|          | 0/7 [00:00<?, ?it/s]"
      ]
     },
     "metadata": {},
     "output_type": "display_data"
    },
    {
     "name": "stderr",
     "output_type": "stream",
     "text": [
      "2021-11-17 21:30:35,616\tWARNING import_thread.py:123 -- The actor 'RolloutWorker' has been exported 100 times. It's possible that this warning is accidental, but this may indicate that the same remote function is being defined repeatedly from within many tasks and exported to all of the workers. This can be a performance issue and can be resolved by defining the remote function on the driver instead. See https://github.com/ray-project/ray/issues/6240 for more discussion.\n"
     ]
    },
    {
     "data": {
      "application/vnd.jupyter.widget-view+json": {
       "model_id": "8a20883a6ed14ef198e98033948e813e",
       "version_major": 2,
       "version_minor": 0
      },
      "text/plain": [
       "    └── round-robin@2:   0%|          | 0/7 [00:00<?, ?it/s]"
      ]
     },
     "metadata": {},
     "output_type": "display_data"
    },
    {
     "data": {
      "application/vnd.jupyter.widget-view+json": {
       "model_id": "b1173aa2ddf34330b57993d486c2cad9",
       "version_major": 2,
       "version_minor": 0
      },
      "text/plain": [
       "    └── random-no-action@2:   0%|          | 0/7 [00:00<?, ?it/s]"
      ]
     },
     "metadata": {},
     "output_type": "display_data"
    },
    {
     "data": {
      "application/vnd.jupyter.widget-view+json": {
       "model_id": "a38b99be9eb14d49988f64d41aac7362",
       "version_major": 2,
       "version_minor": 0
      },
      "text/plain": [
       "    └── random@2:   0%|          | 0/7 [00:00<?, ?it/s]"
      ]
     },
     "metadata": {},
     "output_type": "display_data"
    },
    {
     "data": {
      "application/vnd.jupyter.widget-view+json": {
       "model_id": "a17808f243474c47a5151c4f1064788a",
       "version_major": 2,
       "version_minor": 0
      },
      "text/plain": [
       "└── 3:   0%|          | 0/6 [00:00<?, ?it/s]"
      ]
     },
     "metadata": {},
     "output_type": "display_data"
    },
    {
     "data": {
      "application/vnd.jupyter.widget-view+json": {
       "model_id": "189f46cf98e14a908509c91705b1a1ae",
       "version_major": 2,
       "version_minor": 0
      },
      "text/plain": [
       "    └── well-informed@3:   0%|          | 0/7 [00:00<?, ?it/s]"
      ]
     },
     "metadata": {},
     "output_type": "display_data"
    },
    {
     "data": {
      "application/vnd.jupyter.widget-view+json": {
       "model_id": "4150c8d817e944cb9d0e0d769cf5855c",
       "version_major": 2,
       "version_minor": 0
      },
      "text/plain": [
       "    └── informed@3:   0%|          | 0/7 [00:00<?, ?it/s]"
      ]
     },
     "metadata": {},
     "output_type": "display_data"
    },
    {
     "data": {
      "application/vnd.jupyter.widget-view+json": {
       "model_id": "204863e10c4642e5bd2fbe96839199a2",
       "version_major": 2,
       "version_minor": 0
      },
      "text/plain": [
       "    └── round-robin-no-action@3:   0%|          | 0/7 [00:00<?, ?it/s]"
      ]
     },
     "metadata": {},
     "output_type": "display_data"
    },
    {
     "data": {
      "application/vnd.jupyter.widget-view+json": {
       "model_id": "7e5a4591a9e743c5bbf4d41f3bf0713f",
       "version_major": 2,
       "version_minor": 0
      },
      "text/plain": [
       "    └── round-robin@3:   0%|          | 0/7 [00:00<?, ?it/s]"
      ]
     },
     "metadata": {},
     "output_type": "display_data"
    },
    {
     "data": {
      "application/vnd.jupyter.widget-view+json": {
       "model_id": "a8444517702749ed9e46d261c47215be",
       "version_major": 2,
       "version_minor": 0
      },
      "text/plain": [
       "    └── random-no-action@3:   0%|          | 0/7 [00:00<?, ?it/s]"
      ]
     },
     "metadata": {},
     "output_type": "display_data"
    },
    {
     "data": {
      "application/vnd.jupyter.widget-view+json": {
       "model_id": "e72fa6c1663d4414b7d714db1c740516",
       "version_major": 2,
       "version_minor": 0
      },
      "text/plain": [
       "    └── random@3:   0%|          | 0/7 [00:00<?, ?it/s]"
      ]
     },
     "metadata": {},
     "output_type": "display_data"
    },
    {
     "data": {
      "application/vnd.jupyter.widget-view+json": {
       "model_id": "fd16f630dbd54204a1a726c6de030b9d",
       "version_major": 2,
       "version_minor": 0
      },
      "text/plain": [
       "└── 6:   0%|          | 0/6 [00:00<?, ?it/s]"
      ]
     },
     "metadata": {},
     "output_type": "display_data"
    },
    {
     "data": {
      "application/vnd.jupyter.widget-view+json": {
       "model_id": "ccd19ef81e0f49a695198013ce722981",
       "version_major": 2,
       "version_minor": 0
      },
      "text/plain": [
       "    └── well-informed@6:   0%|          | 0/7 [00:00<?, ?it/s]"
      ]
     },
     "metadata": {},
     "output_type": "display_data"
    },
    {
     "data": {
      "application/vnd.jupyter.widget-view+json": {
       "model_id": "951b4776cd2f4c558ebf426992a12033",
       "version_major": 2,
       "version_minor": 0
      },
      "text/plain": [
       "    └── informed@6:   0%|          | 0/7 [00:00<?, ?it/s]"
      ]
     },
     "metadata": {},
     "output_type": "display_data"
    },
    {
     "data": {
      "application/vnd.jupyter.widget-view+json": {
       "model_id": "2c78c3ef082c4530997d346eecc98d61",
       "version_major": 2,
       "version_minor": 0
      },
      "text/plain": [
       "    └── round-robin-no-action@6:   0%|          | 0/7 [00:00<?, ?it/s]"
      ]
     },
     "metadata": {},
     "output_type": "display_data"
    },
    {
     "data": {
      "application/vnd.jupyter.widget-view+json": {
       "model_id": "6af9303f02774d15b0249a5b66595ad7",
       "version_major": 2,
       "version_minor": 0
      },
      "text/plain": [
       "    └── round-robin@6:   0%|          | 0/7 [00:00<?, ?it/s]"
      ]
     },
     "metadata": {},
     "output_type": "display_data"
    },
    {
     "data": {
      "application/vnd.jupyter.widget-view+json": {
       "model_id": "d5803c01efee4d6dbf0dea62e8cac735",
       "version_major": 2,
       "version_minor": 0
      },
      "text/plain": [
       "    └── random-no-action@6:   0%|          | 0/7 [00:00<?, ?it/s]"
      ]
     },
     "metadata": {},
     "output_type": "display_data"
    },
    {
     "data": {
      "application/vnd.jupyter.widget-view+json": {
       "model_id": "b72de239cada47c283718f4b8359222e",
       "version_major": 2,
       "version_minor": 0
      },
      "text/plain": [
       "    └── random@6:   0%|          | 0/7 [00:00<?, ?it/s]"
      ]
     },
     "metadata": {},
     "output_type": "display_data"
    },
    {
     "data": {
      "application/vnd.jupyter.widget-view+json": {
       "model_id": "f2935f39b3eb4fa8a584f7da389233c4",
       "version_major": 2,
       "version_minor": 0
      },
      "text/plain": [
       "└── 7:   0%|          | 0/6 [00:00<?, ?it/s]"
      ]
     },
     "metadata": {},
     "output_type": "display_data"
    },
    {
     "data": {
      "application/vnd.jupyter.widget-view+json": {
       "model_id": "136a7b66deaa4500a3973cddc38830cd",
       "version_major": 2,
       "version_minor": 0
      },
      "text/plain": [
       "    └── well-informed@7:   0%|          | 0/7 [00:00<?, ?it/s]"
      ]
     },
     "metadata": {},
     "output_type": "display_data"
    },
    {
     "data": {
      "application/vnd.jupyter.widget-view+json": {
       "model_id": "af45fe7143cd4af1bd50a038e4c21e74",
       "version_major": 2,
       "version_minor": 0
      },
      "text/plain": [
       "    └── informed@7:   0%|          | 0/7 [00:00<?, ?it/s]"
      ]
     },
     "metadata": {},
     "output_type": "display_data"
    },
    {
     "data": {
      "application/vnd.jupyter.widget-view+json": {
       "model_id": "f589db3afe7c4c498816021ad3bf06ab",
       "version_major": 2,
       "version_minor": 0
      },
      "text/plain": [
       "    └── round-robin-no-action@7:   0%|          | 0/7 [00:00<?, ?it/s]"
      ]
     },
     "metadata": {},
     "output_type": "display_data"
    },
    {
     "data": {
      "application/vnd.jupyter.widget-view+json": {
       "model_id": "67545fcc438342df8c8258c317e2aa04",
       "version_major": 2,
       "version_minor": 0
      },
      "text/plain": [
       "    └── round-robin@7:   0%|          | 0/7 [00:00<?, ?it/s]"
      ]
     },
     "metadata": {},
     "output_type": "display_data"
    },
    {
     "data": {
      "application/vnd.jupyter.widget-view+json": {
       "model_id": "db8b3e68fb234f5486bae1c92a0c9fe4",
       "version_major": 2,
       "version_minor": 0
      },
      "text/plain": [
       "    └── random-no-action@7:   0%|          | 0/7 [00:00<?, ?it/s]"
      ]
     },
     "metadata": {},
     "output_type": "display_data"
    },
    {
     "data": {
      "application/vnd.jupyter.widget-view+json": {
       "model_id": "a88590c29f264ad2ac8fe8e8859a70cd",
       "version_major": 2,
       "version_minor": 0
      },
      "text/plain": [
       "    └── random@7:   0%|          | 0/7 [00:00<?, ?it/s]"
      ]
     },
     "metadata": {},
     "output_type": "display_data"
    },
    {
     "data": {
      "application/vnd.jupyter.widget-view+json": {
       "model_id": "29f3401ac2204031a65329babf85c2e2",
       "version_major": 2,
       "version_minor": 0
      },
      "text/plain": [
       "└── 11:   0%|          | 0/6 [00:00<?, ?it/s]"
      ]
     },
     "metadata": {},
     "output_type": "display_data"
    },
    {
     "data": {
      "application/vnd.jupyter.widget-view+json": {
       "model_id": "5f9763e8dd6a4887bd9b6e3b5ab4ecdc",
       "version_major": 2,
       "version_minor": 0
      },
      "text/plain": [
       "    └── well-informed@11:   0%|          | 0/7 [00:00<?, ?it/s]"
      ]
     },
     "metadata": {},
     "output_type": "display_data"
    },
    {
     "data": {
      "application/vnd.jupyter.widget-view+json": {
       "model_id": "4c93fea6784e433a96c278e473db953e",
       "version_major": 2,
       "version_minor": 0
      },
      "text/plain": [
       "    └── informed@11:   0%|          | 0/7 [00:00<?, ?it/s]"
      ]
     },
     "metadata": {},
     "output_type": "display_data"
    },
    {
     "data": {
      "application/vnd.jupyter.widget-view+json": {
       "model_id": "3341730fff374d4f8b1be89e8667ff4a",
       "version_major": 2,
       "version_minor": 0
      },
      "text/plain": [
       "    └── round-robin-no-action@11:   0%|          | 0/7 [00:00<?, ?it/s]"
      ]
     },
     "metadata": {},
     "output_type": "display_data"
    },
    {
     "data": {
      "application/vnd.jupyter.widget-view+json": {
       "model_id": "06781ff5333741d0948f3d743548d0fb",
       "version_major": 2,
       "version_minor": 0
      },
      "text/plain": [
       "    └── round-robin@11:   0%|          | 0/7 [00:00<?, ?it/s]"
      ]
     },
     "metadata": {},
     "output_type": "display_data"
    },
    {
     "data": {
      "application/vnd.jupyter.widget-view+json": {
       "model_id": "64326ced23e842be8d4eba2a9fc18ecd",
       "version_major": 2,
       "version_minor": 0
      },
      "text/plain": [
       "    └── random-no-action@11:   0%|          | 0/7 [00:00<?, ?it/s]"
      ]
     },
     "metadata": {},
     "output_type": "display_data"
    },
    {
     "data": {
      "application/vnd.jupyter.widget-view+json": {
       "model_id": "cc5e344923b343f7b8f634a3ab9a3ce3",
       "version_major": 2,
       "version_minor": 0
      },
      "text/plain": [
       "    └── random@11:   0%|          | 0/7 [00:00<?, ?it/s]"
      ]
     },
     "metadata": {},
     "output_type": "display_data"
    },
    {
     "data": {
      "application/vnd.jupyter.widget-view+json": {
       "model_id": "bb830d91f47046c48c393c9e0c5c7d8a",
       "version_major": 2,
       "version_minor": 0
      },
      "text/plain": [
       "└── 28:   0%|          | 0/6 [00:00<?, ?it/s]"
      ]
     },
     "metadata": {},
     "output_type": "display_data"
    },
    {
     "data": {
      "application/vnd.jupyter.widget-view+json": {
       "model_id": "5ea02cb41eb142dca3dd20bd197c07c1",
       "version_major": 2,
       "version_minor": 0
      },
      "text/plain": [
       "    └── well-informed@28:   0%|          | 0/7 [00:00<?, ?it/s]"
      ]
     },
     "metadata": {},
     "output_type": "display_data"
    },
    {
     "data": {
      "application/vnd.jupyter.widget-view+json": {
       "model_id": "4498237424b747f79a5922e05d8a766c",
       "version_major": 2,
       "version_minor": 0
      },
      "text/plain": [
       "    └── informed@28:   0%|          | 0/7 [00:00<?, ?it/s]"
      ]
     },
     "metadata": {},
     "output_type": "display_data"
    },
    {
     "data": {
      "application/vnd.jupyter.widget-view+json": {
       "model_id": "6416bda628f24e718a34bdc9bb44a631",
       "version_major": 2,
       "version_minor": 0
      },
      "text/plain": [
       "    └── round-robin-no-action@28:   0%|          | 0/7 [00:00<?, ?it/s]"
      ]
     },
     "metadata": {},
     "output_type": "display_data"
    },
    {
     "data": {
      "application/vnd.jupyter.widget-view+json": {
       "model_id": "ba483d311a0348989553dc2eac666f45",
       "version_major": 2,
       "version_minor": 0
      },
      "text/plain": [
       "    └── round-robin@28:   0%|          | 0/7 [00:00<?, ?it/s]"
      ]
     },
     "metadata": {},
     "output_type": "display_data"
    },
    {
     "data": {
      "application/vnd.jupyter.widget-view+json": {
       "model_id": "41b64132a0d64e039778608d34c4e2c6",
       "version_major": 2,
       "version_minor": 0
      },
      "text/plain": [
       "    └── random-no-action@28:   0%|          | 0/7 [00:00<?, ?it/s]"
      ]
     },
     "metadata": {},
     "output_type": "display_data"
    },
    {
     "data": {
      "application/vnd.jupyter.widget-view+json": {
       "model_id": "0529d908977f41ef97928304e5470ebf",
       "version_major": 2,
       "version_minor": 0
      },
      "text/plain": [
       "    └── random@28:   0%|          | 0/7 [00:00<?, ?it/s]"
      ]
     },
     "metadata": {},
     "output_type": "display_data"
    },
    {
     "data": {
      "application/vnd.jupyter.widget-view+json": {
       "model_id": "17aaca38957d4808964ff0262c391c97",
       "version_major": 2,
       "version_minor": 0
      },
      "text/plain": [
       "└── 42:   0%|          | 0/6 [00:00<?, ?it/s]"
      ]
     },
     "metadata": {},
     "output_type": "display_data"
    },
    {
     "data": {
      "application/vnd.jupyter.widget-view+json": {
       "model_id": "6212bdc96457498d9ccfa1bcc7e80bf4",
       "version_major": 2,
       "version_minor": 0
      },
      "text/plain": [
       "    └── well-informed@42:   0%|          | 0/7 [00:00<?, ?it/s]"
      ]
     },
     "metadata": {},
     "output_type": "display_data"
    },
    {
     "data": {
      "application/vnd.jupyter.widget-view+json": {
       "model_id": "6f7e5ede548046d4ac9bb1e809440763",
       "version_major": 2,
       "version_minor": 0
      },
      "text/plain": [
       "    └── informed@42:   0%|          | 0/7 [00:00<?, ?it/s]"
      ]
     },
     "metadata": {},
     "output_type": "display_data"
    },
    {
     "data": {
      "application/vnd.jupyter.widget-view+json": {
       "model_id": "59dfb7d3a9084154838e00b908688a1f",
       "version_major": 2,
       "version_minor": 0
      },
      "text/plain": [
       "    └── round-robin-no-action@42:   0%|          | 0/7 [00:00<?, ?it/s]"
      ]
     },
     "metadata": {},
     "output_type": "display_data"
    },
    {
     "data": {
      "application/vnd.jupyter.widget-view+json": {
       "model_id": "43e3a51ed6ce4881af3b5bd2923ae257",
       "version_major": 2,
       "version_minor": 0
      },
      "text/plain": [
       "    └── round-robin@42:   0%|          | 0/7 [00:00<?, ?it/s]"
      ]
     },
     "metadata": {},
     "output_type": "display_data"
    },
    {
     "data": {
      "application/vnd.jupyter.widget-view+json": {
       "model_id": "1f98fe60220a4bffa785d924e69eaf7b",
       "version_major": 2,
       "version_minor": 0
      },
      "text/plain": [
       "    └── random-no-action@42:   0%|          | 0/7 [00:00<?, ?it/s]"
      ]
     },
     "metadata": {},
     "output_type": "display_data"
    },
    {
     "data": {
      "application/vnd.jupyter.widget-view+json": {
       "model_id": "c434822667ae464199c126bab2a0ec6f",
       "version_major": 2,
       "version_minor": 0
      },
      "text/plain": [
       "    └── random@42:   0%|          | 0/7 [00:00<?, ?it/s]"
      ]
     },
     "metadata": {},
     "output_type": "display_data"
    },
    {
     "data": {
      "application/vnd.jupyter.widget-view+json": {
       "model_id": "a6b11f33d8b14b06878147818876e1b6",
       "version_major": 2,
       "version_minor": 0
      },
      "text/plain": [
       "└── 1337:   0%|          | 0/6 [00:00<?, ?it/s]"
      ]
     },
     "metadata": {},
     "output_type": "display_data"
    },
    {
     "data": {
      "application/vnd.jupyter.widget-view+json": {
       "model_id": "97f70dea92d7435ab35d7b18906da58b",
       "version_major": 2,
       "version_minor": 0
      },
      "text/plain": [
       "    └── well-informed@1337:   0%|          | 0/7 [00:00<?, ?it/s]"
      ]
     },
     "metadata": {},
     "output_type": "display_data"
    },
    {
     "data": {
      "application/vnd.jupyter.widget-view+json": {
       "model_id": "b70be9a3ea1c40fd85929b5e56e1c5b9",
       "version_major": 2,
       "version_minor": 0
      },
      "text/plain": [
       "    └── informed@1337:   0%|          | 0/7 [00:00<?, ?it/s]"
      ]
     },
     "metadata": {},
     "output_type": "display_data"
    },
    {
     "data": {
      "application/vnd.jupyter.widget-view+json": {
       "model_id": "52796edad5e041dc9b111bbccd84dc7b",
       "version_major": 2,
       "version_minor": 0
      },
      "text/plain": [
       "    └── round-robin-no-action@1337:   0%|          | 0/7 [00:00<?, ?it/s]"
      ]
     },
     "metadata": {},
     "output_type": "display_data"
    },
    {
     "data": {
      "application/vnd.jupyter.widget-view+json": {
       "model_id": "7d99ed13fdba4a73a89509a837e9f28e",
       "version_major": 2,
       "version_minor": 0
      },
      "text/plain": [
       "    └── round-robin@1337:   0%|          | 0/7 [00:00<?, ?it/s]"
      ]
     },
     "metadata": {},
     "output_type": "display_data"
    },
    {
     "data": {
      "application/vnd.jupyter.widget-view+json": {
       "model_id": "956834f0ae0c4dfb882c00e88c745d07",
       "version_major": 2,
       "version_minor": 0
      },
      "text/plain": [
       "    └── random-no-action@1337:   0%|          | 0/7 [00:00<?, ?it/s]"
      ]
     },
     "metadata": {},
     "output_type": "display_data"
    },
    {
     "data": {
      "application/vnd.jupyter.widget-view+json": {
       "model_id": "4b43b84c18df478fabc224ee6dd98691",
       "version_major": 2,
       "version_minor": 0
      },
      "text/plain": [
       "    └── random@1337:   0%|          | 0/7 [00:00<?, ?it/s]"
      ]
     },
     "metadata": {},
     "output_type": "display_data"
    }
   ],
   "source": [
    "savename = \"length-agent-eval.csv\"\n",
    "\n",
    "df = generate(savename) if not os.path.exists(savename) else pd.read_csv(savename, index_col=0)"
   ]
  },
  {
   "cell_type": "code",
   "execution_count": 7,
   "id": "201359e5-ac00-438c-a1c3-aa4c26899c3b",
   "metadata": {},
   "outputs": [
    {
     "data": {
      "text/html": [
       "<div>\n",
       "<style scoped>\n",
       "    .dataframe tbody tr th:only-of-type {\n",
       "        vertical-align: middle;\n",
       "    }\n",
       "\n",
       "    .dataframe tbody tr th {\n",
       "        vertical-align: top;\n",
       "    }\n",
       "\n",
       "    .dataframe thead th {\n",
       "        text-align: right;\n",
       "    }\n",
       "</style>\n",
       "<table border=\"1\" class=\"dataframe\">\n",
       "  <thead>\n",
       "    <tr style=\"text-align: right;\">\n",
       "      <th></th>\n",
       "      <th>Attacker</th>\n",
       "      <th>Graph size</th>\n",
       "      <th>Returns</th>\n",
       "      <th>Episode lengths</th>\n",
       "    </tr>\n",
       "  </thead>\n",
       "  <tbody>\n",
       "    <tr>\n",
       "      <th>0</th>\n",
       "      <td>well-informed</td>\n",
       "      <td>7</td>\n",
       "      <td>5.0</td>\n",
       "      <td>203</td>\n",
       "    </tr>\n",
       "    <tr>\n",
       "      <th>1</th>\n",
       "      <td>well-informed</td>\n",
       "      <td>7</td>\n",
       "      <td>-7559.0</td>\n",
       "      <td>16</td>\n",
       "    </tr>\n",
       "    <tr>\n",
       "      <th>2</th>\n",
       "      <td>well-informed</td>\n",
       "      <td>7</td>\n",
       "      <td>-18766.0</td>\n",
       "      <td>251</td>\n",
       "    </tr>\n",
       "    <tr>\n",
       "      <th>3</th>\n",
       "      <td>well-informed</td>\n",
       "      <td>7</td>\n",
       "      <td>-55223.0</td>\n",
       "      <td>115</td>\n",
       "    </tr>\n",
       "    <tr>\n",
       "      <th>4</th>\n",
       "      <td>well-informed</td>\n",
       "      <td>7</td>\n",
       "      <td>-4852.0</td>\n",
       "      <td>8</td>\n",
       "    </tr>\n",
       "    <tr>\n",
       "      <th>...</th>\n",
       "      <td>...</td>\n",
       "      <td>...</td>\n",
       "      <td>...</td>\n",
       "      <td>...</td>\n",
       "    </tr>\n",
       "    <tr>\n",
       "      <th>2090</th>\n",
       "      <td>random</td>\n",
       "      <td>78</td>\n",
       "      <td>-254282.0</td>\n",
       "      <td>637</td>\n",
       "    </tr>\n",
       "    <tr>\n",
       "      <th>2091</th>\n",
       "      <td>random</td>\n",
       "      <td>78</td>\n",
       "      <td>-206349.0</td>\n",
       "      <td>800</td>\n",
       "    </tr>\n",
       "    <tr>\n",
       "      <th>2092</th>\n",
       "      <td>random</td>\n",
       "      <td>78</td>\n",
       "      <td>-179624.0</td>\n",
       "      <td>633</td>\n",
       "    </tr>\n",
       "    <tr>\n",
       "      <th>2093</th>\n",
       "      <td>random</td>\n",
       "      <td>78</td>\n",
       "      <td>-176784.0</td>\n",
       "      <td>772</td>\n",
       "    </tr>\n",
       "    <tr>\n",
       "      <th>2094</th>\n",
       "      <td>random</td>\n",
       "      <td>78</td>\n",
       "      <td>-206578.0</td>\n",
       "      <td>1082</td>\n",
       "    </tr>\n",
       "  </tbody>\n",
       "</table>\n",
       "<p>2095 rows × 4 columns</p>\n",
       "</div>"
      ],
      "text/plain": [
       "           Attacker  Graph size   Returns  Episode lengths\n",
       "0     well-informed           7       5.0              203\n",
       "1     well-informed           7   -7559.0               16\n",
       "2     well-informed           7  -18766.0              251\n",
       "3     well-informed           7  -55223.0              115\n",
       "4     well-informed           7   -4852.0                8\n",
       "...             ...         ...       ...              ...\n",
       "2090         random          78 -254282.0              637\n",
       "2091         random          78 -206349.0              800\n",
       "2092         random          78 -179624.0              633\n",
       "2093         random          78 -176784.0              772\n",
       "2094         random          78 -206578.0             1082\n",
       "\n",
       "[2095 rows x 4 columns]"
      ]
     },
     "execution_count": 7,
     "metadata": {},
     "output_type": "execute_result"
    }
   ],
   "source": [
    "df"
   ]
  },
  {
   "cell_type": "code",
   "execution_count": 8,
   "id": "f9e71f7f-5bd0-4e8e-9711-54b10b0028c5",
   "metadata": {},
   "outputs": [],
   "source": [
    "sns.set(style=\"darkgrid\", rc={\"figure.figsize\": (12, 8)})"
   ]
  },
  {
   "cell_type": "code",
   "execution_count": 9,
   "id": "79824554-eba6-4b6e-9e4c-425b2ce9b6f4",
   "metadata": {},
   "outputs": [
    {
     "data": {
      "text/plain": [
       "Text(0.5, 1.0, 'Defender: no-action')"
      ]
     },
     "execution_count": 9,
     "metadata": {},
     "output_type": "execute_result"
    },
    {
     "data": {
      "image/png": "[encoded data removed]",
      "text/plain": [
       "<Figure size 864x576 with 1 Axes>"
      ]
     },
     "metadata": {},
     "output_type": "display_data"
    }
   ],
   "source": [
    "g = sns.lineplot(data=df, x=\"Graph size\", y=\"Returns\", hue=\"Attacker\", ci=\"sd\")\n",
    "g.legend(title=\"Attacker\", loc=\"lower left\")\n",
    "g.set_title(\"Defender: no-action\")"
   ]
  },
  {
   "cell_type": "code",
   "execution_count": 10,
   "id": "2480fe2c-a7b9-4cc1-9bb6-51fa419e8df1",
   "metadata": {},
   "outputs": [
    {
     "data": {
      "text/plain": [
       "Text(0.5, 1.0, 'Defender: no-action')"
      ]
     },
     "execution_count": 10,
     "metadata": {},
     "output_type": "execute_result"
    },
    {
     "data": {
      "image/png": "[encoded data removed]",
      "text/plain": [
       "<Figure size 864x576 with 1 Axes>"
      ]
     },
     "metadata": {},
     "output_type": "display_data"
    }
   ],
   "source": [
    "g = sns.lineplot(data=df, x=\"Graph size\", y=\"Episode lengths\", hue=\"Attacker\", ci=\"sd\")\n",
    "g.legend(title=\"Attacker\", loc=\"upper left\")\n",
    "g.set_title(\"Defender: no-action\")"
   ]
  },
  {
   "cell_type": "code",
   "execution_count": 11,
   "id": "a6e29cfb-2cd3-4d44-bf84-2f32d0ad9832",
   "metadata": {},
   "outputs": [
    {
     "data": {
      "text/html": [
       "<div>\n",
       "<style scoped>\n",
       "    .dataframe tbody tr th:only-of-type {\n",
       "        vertical-align: middle;\n",
       "    }\n",
       "\n",
       "    .dataframe tbody tr th {\n",
       "        vertical-align: top;\n",
       "    }\n",
       "\n",
       "    .dataframe thead tr th {\n",
       "        text-align: left;\n",
       "    }\n",
       "\n",
       "    .dataframe thead tr:last-of-type th {\n",
       "        text-align: right;\n",
       "    }\n",
       "</style>\n",
       "<table border=\"1\" class=\"dataframe\">\n",
       "  <thead>\n",
       "    <tr>\n",
       "      <th></th>\n",
       "      <th colspan=\"8\" halign=\"left\">Graph size</th>\n",
       "      <th colspan=\"8\" halign=\"left\">Returns</th>\n",
       "      <th colspan=\"8\" halign=\"left\">Episode lengths</th>\n",
       "    </tr>\n",
       "    <tr>\n",
       "      <th></th>\n",
       "      <th>count</th>\n",
       "      <th>mean</th>\n",
       "      <th>std</th>\n",
       "      <th>min</th>\n",
       "      <th>25%</th>\n",
       "      <th>50%</th>\n",
       "      <th>75%</th>\n",
       "      <th>max</th>\n",
       "      <th>count</th>\n",
       "      <th>mean</th>\n",
       "      <th>std</th>\n",
       "      <th>min</th>\n",
       "      <th>25%</th>\n",
       "      <th>50%</th>\n",
       "      <th>75%</th>\n",
       "      <th>max</th>\n",
       "      <th>count</th>\n",
       "      <th>mean</th>\n",
       "      <th>std</th>\n",
       "      <th>min</th>\n",
       "      <th>25%</th>\n",
       "      <th>50%</th>\n",
       "      <th>75%</th>\n",
       "      <th>max</th>\n",
       "    </tr>\n",
       "    <tr>\n",
       "      <th>Attacker</th>\n",
       "      <th></th>\n",
       "      <th></th>\n",
       "      <th></th>\n",
       "      <th></th>\n",
       "      <th></th>\n",
       "      <th></th>\n",
       "      <th></th>\n",
       "      <th></th>\n",
       "      <th></th>\n",
       "      <th></th>\n",
       "      <th></th>\n",
       "      <th></th>\n",
       "      <th></th>\n",
       "      <th></th>\n",
       "      <th></th>\n",
       "      <th></th>\n",
       "      <th></th>\n",
       "      <th></th>\n",
       "      <th></th>\n",
       "      <th></th>\n",
       "      <th></th>\n",
       "      <th></th>\n",
       "      <th></th>\n",
       "      <th></th>\n",
       "    </tr>\n",
       "  </thead>\n",
       "  <tbody>\n",
       "    <tr>\n",
       "      <th>informed</th>\n",
       "      <td>350.0</td>\n",
       "      <td>48.428571</td>\n",
       "      <td>22.665230</td>\n",
       "      <td>7.0</td>\n",
       "      <td>27.0</td>\n",
       "      <td>56.0</td>\n",
       "      <td>65.0</td>\n",
       "      <td>78.0</td>\n",
       "      <td>350.0</td>\n",
       "      <td>-102160.277143</td>\n",
       "      <td>56909.695503</td>\n",
       "      <td>-254282.0</td>\n",
       "      <td>-142195.5</td>\n",
       "      <td>-106147.5</td>\n",
       "      <td>-63564.50</td>\n",
       "      <td>5.0</td>\n",
       "      <td>350.0</td>\n",
       "      <td>588.391429</td>\n",
       "      <td>327.103426</td>\n",
       "      <td>8.0</td>\n",
       "      <td>388.25</td>\n",
       "      <td>568.5</td>\n",
       "      <td>784.50</td>\n",
       "      <td>1831.0</td>\n",
       "    </tr>\n",
       "    <tr>\n",
       "      <th>random</th>\n",
       "      <td>350.0</td>\n",
       "      <td>48.428571</td>\n",
       "      <td>22.665230</td>\n",
       "      <td>7.0</td>\n",
       "      <td>27.0</td>\n",
       "      <td>56.0</td>\n",
       "      <td>65.0</td>\n",
       "      <td>78.0</td>\n",
       "      <td>350.0</td>\n",
       "      <td>-102160.277143</td>\n",
       "      <td>56909.695503</td>\n",
       "      <td>-254282.0</td>\n",
       "      <td>-142195.5</td>\n",
       "      <td>-106147.5</td>\n",
       "      <td>-63564.50</td>\n",
       "      <td>5.0</td>\n",
       "      <td>350.0</td>\n",
       "      <td>588.391429</td>\n",
       "      <td>327.103426</td>\n",
       "      <td>8.0</td>\n",
       "      <td>388.25</td>\n",
       "      <td>568.5</td>\n",
       "      <td>784.50</td>\n",
       "      <td>1831.0</td>\n",
       "    </tr>\n",
       "    <tr>\n",
       "      <th>random-no-action</th>\n",
       "      <td>350.0</td>\n",
       "      <td>48.428571</td>\n",
       "      <td>22.665230</td>\n",
       "      <td>7.0</td>\n",
       "      <td>27.0</td>\n",
       "      <td>56.0</td>\n",
       "      <td>65.0</td>\n",
       "      <td>78.0</td>\n",
       "      <td>350.0</td>\n",
       "      <td>-97239.028571</td>\n",
       "      <td>54123.508356</td>\n",
       "      <td>-249314.0</td>\n",
       "      <td>-133946.0</td>\n",
       "      <td>-97441.0</td>\n",
       "      <td>-63087.75</td>\n",
       "      <td>518.0</td>\n",
       "      <td>350.0</td>\n",
       "      <td>1032.042857</td>\n",
       "      <td>537.209692</td>\n",
       "      <td>21.0</td>\n",
       "      <td>694.00</td>\n",
       "      <td>994.0</td>\n",
       "      <td>1366.50</td>\n",
       "      <td>3257.0</td>\n",
       "    </tr>\n",
       "    <tr>\n",
       "      <th>round-robin</th>\n",
       "      <td>350.0</td>\n",
       "      <td>48.428571</td>\n",
       "      <td>22.665230</td>\n",
       "      <td>7.0</td>\n",
       "      <td>27.0</td>\n",
       "      <td>56.0</td>\n",
       "      <td>65.0</td>\n",
       "      <td>78.0</td>\n",
       "      <td>350.0</td>\n",
       "      <td>-102160.277143</td>\n",
       "      <td>56909.695503</td>\n",
       "      <td>-254282.0</td>\n",
       "      <td>-142195.5</td>\n",
       "      <td>-106147.5</td>\n",
       "      <td>-63564.50</td>\n",
       "      <td>5.0</td>\n",
       "      <td>350.0</td>\n",
       "      <td>588.391429</td>\n",
       "      <td>327.103426</td>\n",
       "      <td>8.0</td>\n",
       "      <td>388.25</td>\n",
       "      <td>568.5</td>\n",
       "      <td>784.50</td>\n",
       "      <td>1831.0</td>\n",
       "    </tr>\n",
       "    <tr>\n",
       "      <th>round-robin-no-action</th>\n",
       "      <td>350.0</td>\n",
       "      <td>48.428571</td>\n",
       "      <td>22.665230</td>\n",
       "      <td>7.0</td>\n",
       "      <td>27.0</td>\n",
       "      <td>56.0</td>\n",
       "      <td>65.0</td>\n",
       "      <td>78.0</td>\n",
       "      <td>350.0</td>\n",
       "      <td>-96480.102857</td>\n",
       "      <td>55632.290619</td>\n",
       "      <td>-272879.0</td>\n",
       "      <td>-130762.0</td>\n",
       "      <td>-100245.0</td>\n",
       "      <td>-56860.25</td>\n",
       "      <td>401.0</td>\n",
       "      <td>350.0</td>\n",
       "      <td>1026.142857</td>\n",
       "      <td>544.804554</td>\n",
       "      <td>15.0</td>\n",
       "      <td>682.25</td>\n",
       "      <td>1002.5</td>\n",
       "      <td>1311.25</td>\n",
       "      <td>2665.0</td>\n",
       "    </tr>\n",
       "    <tr>\n",
       "      <th>well-informed</th>\n",
       "      <td>345.0</td>\n",
       "      <td>48.000000</td>\n",
       "      <td>22.545174</td>\n",
       "      <td>7.0</td>\n",
       "      <td>27.0</td>\n",
       "      <td>56.0</td>\n",
       "      <td>65.0</td>\n",
       "      <td>78.0</td>\n",
       "      <td>345.0</td>\n",
       "      <td>-101010.081159</td>\n",
       "      <td>56322.419723</td>\n",
       "      <td>-254282.0</td>\n",
       "      <td>-141018.0</td>\n",
       "      <td>-105207.0</td>\n",
       "      <td>-61382.00</td>\n",
       "      <td>5.0</td>\n",
       "      <td>345.0</td>\n",
       "      <td>583.597101</td>\n",
       "      <td>325.782738</td>\n",
       "      <td>8.0</td>\n",
       "      <td>383.00</td>\n",
       "      <td>561.0</td>\n",
       "      <td>782.00</td>\n",
       "      <td>1831.0</td>\n",
       "    </tr>\n",
       "  </tbody>\n",
       "</table>\n",
       "</div>"
      ],
      "text/plain": [
       "                      Graph size                                               \\\n",
       "                           count       mean        std  min   25%   50%   75%   \n",
       "Attacker                                                                        \n",
       "informed                   350.0  48.428571  22.665230  7.0  27.0  56.0  65.0   \n",
       "random                     350.0  48.428571  22.665230  7.0  27.0  56.0  65.0   \n",
       "random-no-action           350.0  48.428571  22.665230  7.0  27.0  56.0  65.0   \n",
       "round-robin                350.0  48.428571  22.665230  7.0  27.0  56.0  65.0   \n",
       "round-robin-no-action      350.0  48.428571  22.665230  7.0  27.0  56.0  65.0   \n",
       "well-informed              345.0  48.000000  22.545174  7.0  27.0  56.0  65.0   \n",
       "\n",
       "                            Returns                                         \\\n",
       "                        max   count           mean           std       min   \n",
       "Attacker                                                                     \n",
       "informed               78.0   350.0 -102160.277143  56909.695503 -254282.0   \n",
       "random                 78.0   350.0 -102160.277143  56909.695503 -254282.0   \n",
       "random-no-action       78.0   350.0  -97239.028571  54123.508356 -249314.0   \n",
       "round-robin            78.0   350.0 -102160.277143  56909.695503 -254282.0   \n",
       "round-robin-no-action  78.0   350.0  -96480.102857  55632.290619 -272879.0   \n",
       "well-informed          78.0   345.0 -101010.081159  56322.419723 -254282.0   \n",
       "\n",
       "                                                           Episode lengths  \\\n",
       "                            25%       50%       75%    max           count   \n",
       "Attacker                                                                     \n",
       "informed              -142195.5 -106147.5 -63564.50    5.0           350.0   \n",
       "random                -142195.5 -106147.5 -63564.50    5.0           350.0   \n",
       "random-no-action      -133946.0  -97441.0 -63087.75  518.0           350.0   \n",
       "round-robin           -142195.5 -106147.5 -63564.50    5.0           350.0   \n",
       "round-robin-no-action -130762.0 -100245.0 -56860.25  401.0           350.0   \n",
       "well-informed         -141018.0 -105207.0 -61382.00    5.0           345.0   \n",
       "\n",
       "                                                                               \\\n",
       "                              mean         std   min     25%     50%      75%   \n",
       "Attacker                                                                        \n",
       "informed                588.391429  327.103426   8.0  388.25   568.5   784.50   \n",
       "random                  588.391429  327.103426   8.0  388.25   568.5   784.50   \n",
       "random-no-action       1032.042857  537.209692  21.0  694.00   994.0  1366.50   \n",
       "round-robin             588.391429  327.103426   8.0  388.25   568.5   784.50   \n",
       "round-robin-no-action  1026.142857  544.804554  15.0  682.25  1002.5  1311.25   \n",
       "well-informed           583.597101  325.782738   8.0  383.00   561.0   782.00   \n",
       "\n",
       "                               \n",
       "                          max  \n",
       "Attacker                       \n",
       "informed               1831.0  \n",
       "random                 1831.0  \n",
       "random-no-action       3257.0  \n",
       "round-robin            1831.0  \n",
       "round-robin-no-action  2665.0  \n",
       "well-informed          1831.0  "
      ]
     },
     "execution_count": 11,
     "metadata": {},
     "output_type": "execute_result"
    }
   ],
   "source": [
    "pd.set_option(\"display.max_columns\", 32)\n",
    "df.groupby(\"Attacker\").describe()"
   ]
  }
 ],
 "metadata": {
  "kernelspec": {
   "display_name": "Python 3 (ipykernel)",
   "language": "python",
   "name": "python3"
  },
  "language_info": {
   "codemirror_mode": {
    "name": "ipython",
    "version": 3
   },
   "file_extension": ".py",
   "mimetype": "text/x-python",
   "name": "python",
   "nbconvert_exporter": "python",
   "pygments_lexer": "ipython3",
   "version": "3.9.5"
  }
 },
 "nbformat": 4,
 "nbformat_minor": 5
}
