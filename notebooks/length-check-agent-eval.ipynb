{
 "cells": [
  {
   "cell_type": "code",
   "execution_count": null,
   "id": "bc771859-eec5-4e77-ab73-ffa251c2512f",
   "metadata": {},
   "outputs": [],
   "source": [
    "import os\n",
    "\n",
    "import numpy as np\n",
    "import pandas as pd\n",
    "import seaborn as sns\n",
    "\n",
    "from ray import init, rllib, tune, shutdown"
   ]
  },
  {
   "cell_type": "code",
   "execution_count": null,
   "id": "96c82f7d-a6f6-4e29-842a-2acbf04761ef",
   "metadata": {},
   "outputs": [],
   "source": [
    "from attack_simulator.agents import ATTACKERS\n",
    "from attack_simulator.env import AttackSimulationEnv\n",
    "from attack_simulator.graph import AttackGraph, SIZES"
   ]
  },
  {
   "cell_type": "code",
   "execution_count": null,
   "id": "3a6f9690-aea1-416c-a06b-d010f47e5cbd",
   "metadata": {},
   "outputs": [],
   "source": [
    "class NoAction(rllib.policy.Policy):\n",
    "    def compute_actions(self, observations, *args, **kwargs):\n",
    "        # FIXME: use a `numpy` array as a temporary workaround for\n",
    "        #        https://github.com/ray-project/ray/issues/10100\n",
    "        return np.zeros(len(observations)), [], {}\n",
    "\n",
    "    def get_weights(self):\n",
    "        return {}\n",
    "\n",
    "    def set_weights(self, weights):\n",
    "        pass\n",
    "\n",
    "\n",
    "no_action = rllib.agents.trainer_template.build_trainer(name=\"NoAction\", default_policy=NoAction)"
   ]
  },
  {
   "cell_type": "code",
   "execution_count": null,
   "id": "e77eacf4-06b3-4b88-b2d8-fe56805a243f",
   "metadata": {},
   "outputs": [],
   "source": [
    "# work around: https://github.com/ray-project/ray/issues/17618\n",
    "\n",
    "from IPython.core.interactiveshell import InteractiveShell\n",
    "\n",
    "\n",
    "class keep_ipython_sane:\n",
    "    def __enter__(self):\n",
    "        self.instance = InteractiveShell.instance()\n",
    "        \n",
    "    def __exit__(self, *args, **kwargs):\n",
    "        # feel free to improve with error handling, etc.\n",
    "        InteractiveShell._instance = self.instance  "
   ]
  },
  {
   "cell_type": "code",
   "execution_count": null,
   "id": "64c4d23f-10ba-4509-9014-32f7f737c7aa",
   "metadata": {},
   "outputs": [],
   "source": [
    "if os.path.isdir(\"/var/run/secrets/kubernetes.io\"):  # inside k8s pod\n",
    "    args = dict(address=\"auto\")\n",
    "else:\n",
    "    # listen on all interfaces inside a container for port-forwarding to work\n",
    "    dashboard_host = \"0.0.0.0\" if os.path.exists(\"/.dockerenv\") else \"127.0.0.1\"\n",
    "    args = dict(num_cpus=4, dashboard_host=dashboard_host)\n",
    "\n",
    "# ALTERNATIVE: use the \"Ray client\" to connect to a remote cluster\n",
    "# Unfortunately, JupyterNotebookReporter displays an object reference\n",
    "# <IPython.core.display.HTML object> instead of content...\n",
    "# --- --- ---\n",
    "#\n",
    "# from ray.util.client import worker\n",
    "#\n",
    "# worker.INITIAL_TIMEOUT_SEC = worker.MAX_TIMEOUT_SEC = 1\n",
    "#\n",
    "# ray_client_server = 'host.docker.internal' if os.path.exists(\"/.dockerenv\") else '127.0.0.1'\n",
    "# try:\n",
    "#     init(address=f'ray://{ray_client_server}:10001')\n",
    "# except Connection Error:\n",
    "#     pass  # TODO: try something else..."
   ]
  },
  {
   "cell_type": "code",
   "execution_count": null,
   "id": "30168117-33b6-4b02-a966-7fd15e1397a7",
   "metadata": {},
   "outputs": [],
   "source": [
    "from tqdm.auto import tqdm\n",
    "\n",
    "rename = dict(\n",
    "    attacker=\"Attacker\",\n",
    "    graph_size=\"Graph size\",\n",
    "    episode_reward=\"Returns\",\n",
    "    episode_lengths=\"Episode lengths\",\n",
    ")\n",
    "\n",
    "num_episodes = 5  # run 5 episodes on the same environment\n",
    "attackers = list(ATTACKERS)\n",
    "graphs = [AttackGraph(dict(graph_size=size)) for size in SIZES]\n",
    "seeds = [0, 1, 2, 3, 6, 7, 11, 28, 42, 1337]\n",
    "\n",
    "def generate(savename):\n",
    "    init(**args)\n",
    "    \n",
    "    frames = []\n",
    "    for graph in tqdm(graphs, 'graphs'):\n",
    "        for attacker in tqdm(attackers, f'└── {graph.graph_size}'):\n",
    "            for seed in tqdm(seeds, f'\\u00a0\\u2001\\u2001\\u2001└── {attacker}@{graph.graph_size}'):\n",
    "                config = dict(\n",
    "                    log_level='ERROR',\n",
    "                    framework=\"torch\",\n",
    "                    env=AttackSimulationEnv,\n",
    "                    env_config=dict(attack_graph=graph, attacker=attacker),\n",
    "                    seed=seed,\n",
    "                    evaluation_interval=1,\n",
    "                    evaluation_num_workers=1,\n",
    "                    evaluation_config=dict(explore=False),\n",
    "                    evaluation_num_episodes=num_episodes,\n",
    "                )\n",
    "                with keep_ipython_sane():\n",
    "                    agent = no_action(config=config)\n",
    "                stats = agent.evaluate()['evaluation']['hist_stats']\n",
    "                frame = pd.DataFrame(dict(attacker=attacker, graph_size=graph.num_attacks, **stats))\n",
    "                frames.append(frame)\n",
    "    shutdown()\n",
    "    results_df = pd.concat(frames, ignore_index=True).rename(columns=rename)\n",
    "    results_df.to_csv(savename)\n",
    "    return results_df"
   ]
  },
  {
   "cell_type": "code",
   "execution_count": null,
   "id": "825dcc9a-2643-4ac2-b7d0-cf536aa9aff8",
   "metadata": {},
   "outputs": [],
   "source": [
    "savename = \"length-rollout.csv\"\n",
    "\n",
    "df = generate(savename) if not os.path.exists(savename) else pd.read_csv(savename, index_col=0)"
   ]
  },
  {
   "cell_type": "code",
   "execution_count": null,
   "id": "f9e71f7f-5bd0-4e8e-9711-54b10b0028c5",
   "metadata": {},
   "outputs": [],
   "source": [
    "sns.set(style=\"darkgrid\", rc={\"figure.figsize\": (12, 8)})"
   ]
  },
  {
   "cell_type": "code",
   "execution_count": null,
   "id": "79824554-eba6-4b6e-9e4c-425b2ce9b6f4",
   "metadata": {},
   "outputs": [],
   "source": [
    "g = sns.lineplot(data=df, x=\"Graph size\", y=\"Returns\", hue=\"Attacker\", ci=\"sd\")\n",
    "g.legend(title=\"Attacker\", loc=\"upper right\")\n",
    "g.set_title(\"Defender: no-action\")"
   ]
  },
  {
   "cell_type": "code",
   "execution_count": null,
   "id": "2480fe2c-a7b9-4cc1-9bb6-51fa419e8df1",
   "metadata": {},
   "outputs": [],
   "source": [
    "g = sns.lineplot(data=df, x=\"Graph size\", y=\"Episode lengths\", hue=\"Attacker\", ci=\"sd\")\n",
    "g.legend(title=\"Attacker\", loc=\"upper left\")\n",
    "g.set_title(\"Defender: no-action\")"
   ]
  },
  {
   "cell_type": "code",
   "execution_count": null,
   "id": "a6e29cfb-2cd3-4d44-bf84-2f32d0ad9832",
   "metadata": {},
   "outputs": [],
   "source": [
    "pd.set_option(\"display.max_columns\", 32)\n",
    "df.groupby(\"Attacker\").describe()"
   ]
  }
 ],
 "metadata": {
  "kernelspec": {
   "display_name": "Python 3 (ipykernel)",
   "language": "python",
   "name": "python3"
  },
  "language_info": {
   "codemirror_mode": {
    "name": "ipython",
    "version": 3
   },
   "file_extension": ".py",
   "mimetype": "text/x-python",
   "name": "python",
   "nbconvert_exporter": "python",
   "pygments_lexer": "ipython3",
   "version": "3.8.12"
  }
 },
 "nbformat": 4,
 "nbformat_minor": 5
}
