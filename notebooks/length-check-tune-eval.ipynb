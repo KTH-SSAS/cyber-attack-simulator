{
 "cells": [
  {
   "cell_type": "code",
   "execution_count": null,
   "id": "bc771859-eec5-4e77-ab73-ffa251c2512f",
   "metadata": {},
   "outputs": [],
   "source": [
    "import os\n",
    "\n",
    "import pandas as pd\n",
    "import seaborn as sns\n",
    "\n",
    "from ray import init, rllib, tune, shutdown"
   ]
  },
  {
   "cell_type": "code",
   "execution_count": null,
   "id": "96c82f7d-a6f6-4e29-842a-2acbf04761ef",
   "metadata": {},
   "outputs": [],
   "source": [
    "from attack_simulator.agents import ATTACKERS\n",
    "from attack_simulator.env import AttackSimulationEnv\n",
    "from attack_simulator.graph import AttackGraph, SIZES"
   ]
  },
  {
   "cell_type": "code",
   "execution_count": null,
   "id": "3a6f9690-aea1-416c-a06b-d010f47e5cbd",
   "metadata": {},
   "outputs": [],
   "source": [
    "class NoAction(rllib.policy.Policy):\n",
    "    def compute_actions(self, observations, *args, **kwargs):\n",
    "        return [0 for _ in observations], [], {}\n",
    "\n",
    "    def get_weights(self):\n",
    "        return {}\n",
    "\n",
    "    def set_weights(self, weights):\n",
    "        pass\n",
    "    \n",
    "    def learn_on_batch(self, samples):\n",
    "        return {}\n",
    "\n",
    "    \n",
    "no_action = rllib.agents.trainer_template.build_trainer(name=\"NoAction\", default_policy=NoAction)"
   ]
  },
  {
   "cell_type": "code",
   "execution_count": null,
   "id": "64c4d23f-10ba-4509-9014-32f7f737c7aa",
   "metadata": {},
   "outputs": [],
   "source": [
    "from ray.util.client import worker\n",
    "\n",
    "worker.INITIAL_TIMEOUT_SEC = worker.MAX_TIMEOUT_SEC = 1\n",
    "\n",
    "\n",
    "def ray_init():\n",
    "    if os.path.isdir(\"/var/run/secrets/kubernetes.io\") or os.path.exists(\n",
    "        os.path.expanduser(\"~/ray_bootstrap_config.yaml\")\n",
    "    ):\n",
    "        # inside k8s pod or a cluster managed by Ray's autoscaler\n",
    "        context = init(address=\"auto\")\n",
    "    else:\n",
    "        ray_client_server = \"host.docker.internal\" if os.path.exists(\"/.dockerenv\") else \"127.0.0.1\"\n",
    "        try:\n",
    "            context = init(address=f\"ray://{ray_client_server}:10001\")\n",
    "        except ConnectionError:\n",
    "            # clean up after failed connection attempt\n",
    "            shutdown()\n",
    "            # listen on all interfaces inside a container for port-forwarding to work\n",
    "            dashboard_host = \"0.0.0.0\" if os.path.exists(\"/.dockerenv\") else \"127.0.0.1\"\n",
    "            context = init(num_cpus=4, dashboard_host=dashboard_host)\n",
    "    print(\"\\x1b[33;1m\", context, \"\\x1b[m\")\n",
    "    return context"
   ]
  },
  {
   "cell_type": "code",
   "execution_count": null,
   "id": "4c855a07-7786-4d04-b1ea-76adba23bb61",
   "metadata": {},
   "outputs": [],
   "source": [
    "num_episodes = 5  # run 5 episodes on the same environment\n",
    "attackers = list(ATTACKERS)\n",
    "graphs = [AttackGraph(dict(graph_size=size)) for size in SIZES]\n",
    "\n",
    "config = dict(\n",
    "    framework=\"torch\",\n",
    "    env=AttackSimulationEnv,\n",
    "    env_config=dict(attack_graph=tune.grid_search(graphs), attacker=tune.grid_search(attackers)),\n",
    "    seed=tune.grid_search([0, 1, 2, 3, 6, 7, 11, 28, 42, 1337]),\n",
    "    # evaluation ONLY: avoid MultiGPU optimizer, set all relevant sizes to 0\n",
    "    simple_optimizer=True,\n",
    "    num_workers=0,\n",
    "    train_batch_size=0,\n",
    "    rollout_fragment_length=0,\n",
    "    timesteps_per_iteration=0,\n",
    "    batch_mode=\"complete_episodes\",\n",
    "    # define evaluation settings\n",
    "    evaluation_interval=1,\n",
    "    evaluation_num_workers=1,\n",
    "    evaluation_config=dict(explore=False),\n",
    "    evaluation_num_episodes=num_episodes,\n",
    ")"
   ]
  },
  {
   "cell_type": "code",
   "execution_count": null,
   "id": "77624d64-b0c9-440e-b72a-03d56aaff26f",
   "metadata": {},
   "outputs": [],
   "source": [
    "rename = {\n",
    "    \"config.env_config.attacker\": \"Attacker\",\n",
    "    \"config.env_config.attack_graph\": \"graph\",\n",
    "    \"evaluation.hist_stats.episode_reward\": \"returns\",\n",
    "    \"evaluation.hist_stats.episode_lengths\": \"lengths\",\n",
    "}\n",
    "\n",
    "\n",
    "def postprocess(results_df):\n",
    "    df = results_df[rename.keys()].rename(columns=rename)\n",
    "    df.dropna(inplace=True)  # remove `NaN` results from failed trials\n",
    "    df[\"Graph size\"] = df[\"graph\"].apply(lambda g: g.num_attacks)\n",
    "    del df[\"graph\"]\n",
    "    df[\"tuple\"] = df.apply(lambda t: list(zip(t.returns, t.lengths)), axis=\"columns\")\n",
    "    del df[\"returns\"]\n",
    "    del df[\"lengths\"]\n",
    "    df = df.explode(\"tuple\", ignore_index=True)\n",
    "    df[[\"Returns\", \"Episode lengths\"]] = df[\"tuple\"].tolist()\n",
    "    del df[\"tuple\"]\n",
    "    return df"
   ]
  },
  {
   "cell_type": "code",
   "execution_count": null,
   "id": "30168117-33b6-4b02-a966-7fd15e1397a7",
   "metadata": {},
   "outputs": [],
   "source": [
    "def generate(savename):\n",
    "    ray_init()\n",
    "    results = tune.run(\n",
    "        no_action,\n",
    "        config=config,\n",
    "        stop=dict(training_iteration=0),\n",
    "        max_failures=3,\n",
    "        queue_trials=True,\n",
    "        raise_on_failed_trial=False,\n",
    "        progress_reporter=tune.JupyterNotebookReporter(overwrite=True),\n",
    "        sync_config=tune.SyncConfig(sync_to_driver=False),\n",
    "    )\n",
    "    shutdown()\n",
    "    df = postprocess(results.results_df)\n",
    "    df.to_csv(savename)\n",
    "    return df"
   ]
  },
  {
   "cell_type": "code",
   "execution_count": null,
   "id": "825dcc9a-2643-4ac2-b7d0-cf536aa9aff8",
   "metadata": {},
   "outputs": [],
   "source": [
    "savename = \"length-tune-eval.csv\"\n",
    "\n",
    "df = generate(savename) if not os.path.exists(savename) else pd.read_csv(savename, index_col=0)"
   ]
  },
  {
   "cell_type": "code",
   "execution_count": null,
   "id": "f9e71f7f-5bd0-4e8e-9711-54b10b0028c5",
   "metadata": {},
   "outputs": [],
   "source": [
    "sns.set(style=\"darkgrid\", rc={\"figure.figsize\": (12, 8)})"
   ]
  },
  {
   "cell_type": "code",
   "execution_count": null,
   "id": "79824554-eba6-4b6e-9e4c-425b2ce9b6f4",
   "metadata": {},
   "outputs": [],
   "source": [
    "g = sns.lineplot(data=df, x=\"Graph size\", y=\"Returns\", hue=\"Attacker\", ci=\"sd\")\n",
    "g.legend(title=\"Attacker\", loc=\"lower left\")\n",
    "g.set_title(\"Defender: no-action\")"
   ]
  },
  {
   "cell_type": "code",
   "execution_count": null,
   "id": "2480fe2c-a7b9-4cc1-9bb6-51fa419e8df1",
   "metadata": {},
   "outputs": [],
   "source": [
    "g = sns.lineplot(data=df, x=\"Graph size\", y=\"Episode lengths\", hue=\"Attacker\", ci=\"sd\")\n",
    "g.legend(title=\"Attacker\", loc=\"upper left\")\n",
    "g.set_title(\"Defender: no-action\")"
   ]
  },
  {
   "cell_type": "code",
   "execution_count": null,
   "id": "a6e29cfb-2cd3-4d44-bf84-2f32d0ad9832",
   "metadata": {},
   "outputs": [],
   "source": [
    "pd.set_option(\"display.max_columns\", 32)\n",
    "df.groupby(\"Attacker\").describe()"
   ]
  }
 ],
 "metadata": {
  "kernelspec": {
   "display_name": "Python 3 (ipykernel)",
   "language": "python",
   "name": "python3"
  },
  "language_info": {
   "codemirror_mode": {
    "name": "ipython",
    "version": 3
   },
   "file_extension": ".py",
   "mimetype": "text/x-python",
   "name": "python",
   "nbconvert_exporter": "python",
   "pygments_lexer": "ipython3",
   "version": "3.9.7"
  }
 },
 "nbformat": 4,
 "nbformat_minor": 5
}
