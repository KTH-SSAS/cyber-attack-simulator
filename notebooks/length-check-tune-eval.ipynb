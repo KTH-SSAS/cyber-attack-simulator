{
 "cells": [
  {
   "cell_type": "code",
   "execution_count": 1,
   "id": "bc771859-eec5-4e77-ab73-ffa251c2512f",
   "metadata": {},
   "outputs": [],
   "source": [
    "import os\n",
    "\n",
    "import pandas as pd\n",
    "import seaborn as sns\n",
    "\n",
    "from ray import init, rllib, tune, shutdown"
   ]
  },
  {
   "cell_type": "code",
   "execution_count": 2,
   "id": "96c82f7d-a6f6-4e29-842a-2acbf04761ef",
   "metadata": {},
   "outputs": [],
   "source": [
    "from attack_simulator.agents import ATTACKERS\n",
    "from attack_simulator.env import AttackSimulationEnv\n",
    "from attack_simulator.graph import AttackGraph, SIZES"
   ]
  },
  {
   "cell_type": "code",
   "execution_count": 3,
   "id": "3a6f9690-aea1-416c-a06b-d010f47e5cbd",
   "metadata": {},
   "outputs": [],
   "source": [
    "class NoAction(rllib.policy.Policy):\n",
    "    def compute_actions(self, observations, *args, **kwargs):\n",
    "        return [0 for _ in observations], [], {}\n",
    "\n",
    "    def get_weights(self):\n",
    "        return {}\n",
    "\n",
    "    def set_weights(self, weights):\n",
    "        pass\n",
    "    \n",
    "    def learn_on_batch(self, samples):\n",
    "        return {}\n",
    "\n",
    "    \n",
    "no_action = rllib.agents.trainer_template.build_trainer(name=\"NoAction\", default_policy=NoAction)"
   ]
  },
  {
   "cell_type": "code",
   "execution_count": 4,
   "id": "64c4d23f-10ba-4509-9014-32f7f737c7aa",
   "metadata": {},
   "outputs": [],
   "source": [
    "from ray.util.client import worker\n",
    "\n",
    "worker.INITIAL_TIMEOUT_SEC = worker.MAX_TIMEOUT_SEC = 1\n",
    "\n",
    "\n",
    "def ray_init():\n",
    "    if os.path.isdir(\"/var/run/secrets/kubernetes.io\") or os.path.exists(\n",
    "        os.path.expanduser(\"~/ray_bootstrap_config.yaml\")\n",
    "    ):\n",
    "        # inside k8s pod or a cluster managed by Ray's autoscaler\n",
    "        context = init(address=\"auto\")\n",
    "    else:\n",
    "        ray_client_server = \"host.docker.internal\" if os.path.exists(\"/.dockerenv\") else \"127.0.0.1\"\n",
    "        try:\n",
    "            context = init(address=f\"ray://{ray_client_server}:10001\")\n",
    "        except ConnectionError:\n",
    "            # listen on all interfaces inside a container for port-forwarding to work\n",
    "            dashboard_host = \"0.0.0.0\" if os.path.exists(\"/.dockerenv\") else \"127.0.0.1\"\n",
    "            context = init(num_cpus=4, dashboard_host=dashboard_host)\n",
    "    print(\"\\x1b[33;1m\", context, \"\\x1b[m\")\n",
    "    return context"
   ]
  },
  {
   "cell_type": "code",
   "execution_count": 5,
   "id": "4c855a07-7786-4d04-b1ea-76adba23bb61",
   "metadata": {},
   "outputs": [
    {
     "name": "stdout",
     "output_type": "stream",
     "text": [
      "AttackGraph(en2720.yaml[tiny], 2 services, 7 attack steps)\n",
      "AttackGraph(en2720.yaml[small], 5 services, 27 attack steps)\n",
      "AttackGraph(en2720.yaml[medium-small], 9 services, 44 attack steps)\n",
      "AttackGraph(en2720.yaml[medium], 13 services, 56 attack steps)\n",
      "AttackGraph(en2720.yaml[large], 16 services, 62 attack steps)\n",
      "AttackGraph(en2720.yaml[extra-large], 16 services, 65 attack steps)\n",
      "AttackGraph(en2720.yaml[full], 18 services, 78 attack steps)\n"
     ]
    }
   ],
   "source": [
    "num_episodes = 5  # run 5 episodes on the same environment\n",
    "attackers = list(ATTACKERS)\n",
    "graphs = [AttackGraph(dict(graph_size=size)) for size in SIZES]\n",
    "\n",
    "config = dict(\n",
    "    framework=\"torch\",\n",
    "    env=AttackSimulationEnv,\n",
    "    env_config=dict(attack_graph=tune.grid_search(graphs), attacker=tune.grid_search(attackers)),\n",
    "    seed=tune.grid_search([0, 1, 2, 3, 6, 7, 11, 28, 42, 1337]),\n",
    "    # evaluation ONLY: avoid MultiGPU optimizer, set all relevant sizes to 0\n",
    "    simple_optimizer=True,\n",
    "    num_workers=0,\n",
    "    train_batch_size=0,\n",
    "    rollout_fragment_length=0,\n",
    "    timesteps_per_iteration=0,\n",
    "    batch_mode=\"complete_episodes\",\n",
    "    # define evaluation settings\n",
    "    evaluation_interval=1,\n",
    "    evaluation_num_workers=1,\n",
    "    evaluation_config=dict(explore=False),\n",
    "    evaluation_num_episodes=num_episodes,\n",
    ")"
   ]
  },
  {
   "cell_type": "code",
   "execution_count": 6,
   "id": "77624d64-b0c9-440e-b72a-03d56aaff26f",
   "metadata": {},
   "outputs": [],
   "source": [
    "rename = {\n",
    "    \"config.env_config.attacker\": \"Attacker\",\n",
    "    \"config.env_config.attack_graph\": \"graph\",\n",
    "    \"evaluation.hist_stats.episode_reward\": \"returns\",\n",
    "    \"evaluation.hist_stats.episode_lengths\": \"lengths\",\n",
    "}\n",
    "\n",
    "\n",
    "def postprocess(results_df):\n",
    "    df = results_df[rename.keys()].rename(columns=rename)\n",
    "    df.dropna(inplace=True)  # remove `NaN` results from failed trials\n",
    "    df[\"Graph size\"] = df[\"graph\"].apply(lambda g: g.num_attacks)\n",
    "    del df[\"graph\"]\n",
    "    df[\"tuple\"] = df.apply(lambda t: list(zip(t.returns, t.lengths)), axis=\"columns\")\n",
    "    del df[\"returns\"]\n",
    "    del df[\"lengths\"]\n",
    "    df = df.explode(\"tuple\", ignore_index=True)\n",
    "    df[[\"Returns\", \"Episode lengths\"]] = df[\"tuple\"].tolist()\n",
    "    del df[\"tuple\"]\n",
    "    return df"
   ]
  },
  {
   "cell_type": "code",
   "execution_count": 7,
   "id": "30168117-33b6-4b02-a966-7fd15e1397a7",
   "metadata": {},
   "outputs": [],
   "source": [
    "def generate(savename):\n",
    "    ray_init()\n",
    "    results = tune.run(\n",
    "        no_action,\n",
    "        config=config,\n",
    "        stop=dict(training_iteration=0),\n",
    "        max_failures=3,\n",
    "        queue_trials=True,\n",
    "        raise_on_failed_trial=False,\n",
    "        progress_reporter=tune.JupyterNotebookReporter(overwrite=True),\n",
    "    )\n",
    "    shutdown()\n",
    "    df = postprocess(results.results_df)\n",
    "    df.to_csv(savename)\n",
    "    return df"
   ]
  },
  {
   "cell_type": "code",
   "execution_count": 8,
   "id": "825dcc9a-2643-4ac2-b7d0-cf536aa9aff8",
   "metadata": {},
   "outputs": [
    {
     "name": "stdout",
     "output_type": "stream",
     "text": [
      "\u001b[33;1m ClientContext(dashboard_url='10.84.0.67:8265', python_version='3.9.5', ray_version='1.8.0', ray_commit='72fdf3be605e4aadfd9a8c3f01dd7843c01cb8fd', protocol_version='2021-09-22', _num_clients=1, _context_to_restore=<ray.util.client._ClientContext object at 0x1287a36d0>) \u001b[m\n"
     ]
    },
    {
     "ename": "AttributeError",
     "evalue": "'ForwardRef' object has no attribute '__forward_module__'",
     "output_type": "error",
     "traceback": [
      "\u001b[0;31m---------------------------------------------------------------------------\u001b[0m",
      "\u001b[0;31mAttributeError\u001b[0m                            Traceback (most recent call last)",
      "\u001b[0;32m/var/folders/gr/408vn4xd0vv2pt_0h6q9fzbr0000gn/T/ipykernel_13901/473743868.py\u001b[0m in \u001b[0;36m<module>\u001b[0;34m\u001b[0m\n\u001b[1;32m      1\u001b[0m \u001b[0msavename\u001b[0m \u001b[0;34m=\u001b[0m \u001b[0;34m\"length-tune-eval.csv\"\u001b[0m\u001b[0;34m\u001b[0m\u001b[0;34m\u001b[0m\u001b[0m\n\u001b[1;32m      2\u001b[0m \u001b[0;34m\u001b[0m\u001b[0m\n\u001b[0;32m----> 3\u001b[0;31m \u001b[0mdf\u001b[0m \u001b[0;34m=\u001b[0m \u001b[0mgenerate\u001b[0m\u001b[0;34m(\u001b[0m\u001b[0msavename\u001b[0m\u001b[0;34m)\u001b[0m \u001b[0;32mif\u001b[0m \u001b[0;32mnot\u001b[0m \u001b[0mos\u001b[0m\u001b[0;34m.\u001b[0m\u001b[0mpath\u001b[0m\u001b[0;34m.\u001b[0m\u001b[0mexists\u001b[0m\u001b[0;34m(\u001b[0m\u001b[0msavename\u001b[0m\u001b[0;34m)\u001b[0m \u001b[0;32melse\u001b[0m \u001b[0mpd\u001b[0m\u001b[0;34m.\u001b[0m\u001b[0mread_csv\u001b[0m\u001b[0;34m(\u001b[0m\u001b[0msavename\u001b[0m\u001b[0;34m,\u001b[0m \u001b[0mindex_col\u001b[0m\u001b[0;34m=\u001b[0m\u001b[0;36m0\u001b[0m\u001b[0;34m)\u001b[0m\u001b[0;34m\u001b[0m\u001b[0;34m\u001b[0m\u001b[0m\n\u001b[0m",
      "\u001b[0;32m/var/folders/gr/408vn4xd0vv2pt_0h6q9fzbr0000gn/T/ipykernel_13901/2036880630.py\u001b[0m in \u001b[0;36mgenerate\u001b[0;34m(savename)\u001b[0m\n\u001b[1;32m      1\u001b[0m \u001b[0;32mdef\u001b[0m \u001b[0mgenerate\u001b[0m\u001b[0;34m(\u001b[0m\u001b[0msavename\u001b[0m\u001b[0;34m)\u001b[0m\u001b[0;34m:\u001b[0m\u001b[0;34m\u001b[0m\u001b[0;34m\u001b[0m\u001b[0m\n\u001b[1;32m      2\u001b[0m     \u001b[0mray_init\u001b[0m\u001b[0;34m(\u001b[0m\u001b[0;34m)\u001b[0m\u001b[0;34m\u001b[0m\u001b[0;34m\u001b[0m\u001b[0m\n\u001b[0;32m----> 3\u001b[0;31m     results = tune.run(\n\u001b[0m\u001b[1;32m      4\u001b[0m         \u001b[0mno_action\u001b[0m\u001b[0;34m,\u001b[0m\u001b[0;34m\u001b[0m\u001b[0;34m\u001b[0m\u001b[0m\n\u001b[1;32m      5\u001b[0m         \u001b[0mconfig\u001b[0m\u001b[0;34m=\u001b[0m\u001b[0mconfig\u001b[0m\u001b[0;34m,\u001b[0m\u001b[0;34m\u001b[0m\u001b[0;34m\u001b[0m\u001b[0m\n",
      "\u001b[0;32m~/Library/Caches/pypoetry/virtualenvs/attack-simulator-5suhPhn0-py3.9/lib/python3.9/site-packages/ray/tune/tune.py\u001b[0m in \u001b[0;36mrun\u001b[0;34m(run_or_experiment, name, metric, mode, stop, time_budget_s, config, resources_per_trial, num_samples, local_dir, search_alg, scheduler, keep_checkpoints_num, checkpoint_score_attr, checkpoint_freq, checkpoint_at_end, verbose, progress_reporter, log_to_file, trial_name_creator, trial_dirname_creator, sync_config, export_formats, max_failures, fail_fast, restore, server_port, resume, queue_trials, reuse_actors, trial_executor, raise_on_failed_trial, callbacks, max_concurrent_trials, loggers, _remote)\u001b[0m\n\u001b[1;32m    351\u001b[0m \u001b[0;34m\u001b[0m\u001b[0m\n\u001b[1;32m    352\u001b[0m         \u001b[0;31m# ray.wait(...)[1] returns futures that are not ready, yet\u001b[0m\u001b[0;34m\u001b[0m\u001b[0;34m\u001b[0m\u001b[0m\n\u001b[0;32m--> 353\u001b[0;31m         \u001b[0;32mwhile\u001b[0m \u001b[0mray\u001b[0m\u001b[0;34m.\u001b[0m\u001b[0mwait\u001b[0m\u001b[0;34m(\u001b[0m\u001b[0;34m[\u001b[0m\u001b[0mremote_future\u001b[0m\u001b[0;34m]\u001b[0m\u001b[0;34m,\u001b[0m \u001b[0mtimeout\u001b[0m\u001b[0;34m=\u001b[0m\u001b[0;36m0.2\u001b[0m\u001b[0;34m)\u001b[0m\u001b[0;34m[\u001b[0m\u001b[0;36m1\u001b[0m\u001b[0;34m]\u001b[0m\u001b[0;34m:\u001b[0m\u001b[0;34m\u001b[0m\u001b[0;34m\u001b[0m\u001b[0m\n\u001b[0m\u001b[1;32m    354\u001b[0m             \u001b[0;31m# Check if we have items to execute\u001b[0m\u001b[0;34m\u001b[0m\u001b[0;34m\u001b[0m\u001b[0m\n\u001b[1;32m    355\u001b[0m             \u001b[0m_handle_execute_queue\u001b[0m\u001b[0;34m(\u001b[0m\u001b[0;34m)\u001b[0m\u001b[0;34m\u001b[0m\u001b[0;34m\u001b[0m\u001b[0m\n",
      "\u001b[0;32m~/Library/Caches/pypoetry/virtualenvs/attack-simulator-5suhPhn0-py3.9/lib/python3.9/site-packages/ray/_private/client_mode_hook.py\u001b[0m in \u001b[0;36mwrapper\u001b[0;34m(*args, **kwargs)\u001b[0m\n\u001b[1;32m    102\u001b[0m             \u001b[0;31m# we only convert init function if RAY_CLIENT_MODE=1\u001b[0m\u001b[0;34m\u001b[0m\u001b[0;34m\u001b[0m\u001b[0m\n\u001b[1;32m    103\u001b[0m             \u001b[0;32mif\u001b[0m \u001b[0mfunc\u001b[0m\u001b[0;34m.\u001b[0m\u001b[0m__name__\u001b[0m \u001b[0;34m!=\u001b[0m \u001b[0;34m\"init\"\u001b[0m \u001b[0;32mor\u001b[0m \u001b[0mis_client_mode_enabled_by_default\u001b[0m\u001b[0;34m:\u001b[0m\u001b[0;34m\u001b[0m\u001b[0;34m\u001b[0m\u001b[0m\n\u001b[0;32m--> 104\u001b[0;31m                 \u001b[0;32mreturn\u001b[0m \u001b[0mgetattr\u001b[0m\u001b[0;34m(\u001b[0m\u001b[0mray\u001b[0m\u001b[0;34m,\u001b[0m \u001b[0mfunc\u001b[0m\u001b[0;34m.\u001b[0m\u001b[0m__name__\u001b[0m\u001b[0;34m)\u001b[0m\u001b[0;34m(\u001b[0m\u001b[0;34m*\u001b[0m\u001b[0margs\u001b[0m\u001b[0;34m,\u001b[0m \u001b[0;34m**\u001b[0m\u001b[0mkwargs\u001b[0m\u001b[0;34m)\u001b[0m\u001b[0;34m\u001b[0m\u001b[0;34m\u001b[0m\u001b[0m\n\u001b[0m\u001b[1;32m    105\u001b[0m         \u001b[0;32mreturn\u001b[0m \u001b[0mfunc\u001b[0m\u001b[0;34m(\u001b[0m\u001b[0;34m*\u001b[0m\u001b[0margs\u001b[0m\u001b[0;34m,\u001b[0m \u001b[0;34m**\u001b[0m\u001b[0mkwargs\u001b[0m\u001b[0;34m)\u001b[0m\u001b[0;34m\u001b[0m\u001b[0;34m\u001b[0m\u001b[0m\n\u001b[1;32m    106\u001b[0m \u001b[0;34m\u001b[0m\u001b[0m\n",
      "\u001b[0;32m~/Library/Caches/pypoetry/virtualenvs/attack-simulator-5suhPhn0-py3.9/lib/python3.9/site-packages/ray/util/client/api.py\u001b[0m in \u001b[0;36mwait\u001b[0;34m(self, *args, **kwargs)\u001b[0m\n\u001b[1;32m     59\u001b[0m             \u001b[0mkwargs\u001b[0m\u001b[0;34m:\u001b[0m \u001b[0mopaque\u001b[0m \u001b[0mkeyword\u001b[0m \u001b[0marguments\u001b[0m\u001b[0;34m\u001b[0m\u001b[0;34m\u001b[0m\u001b[0m\n\u001b[1;32m     60\u001b[0m         \"\"\"\n\u001b[0;32m---> 61\u001b[0;31m         \u001b[0;32mreturn\u001b[0m \u001b[0mself\u001b[0m\u001b[0;34m.\u001b[0m\u001b[0mworker\u001b[0m\u001b[0;34m.\u001b[0m\u001b[0mwait\u001b[0m\u001b[0;34m(\u001b[0m\u001b[0;34m*\u001b[0m\u001b[0margs\u001b[0m\u001b[0;34m,\u001b[0m \u001b[0;34m**\u001b[0m\u001b[0mkwargs\u001b[0m\u001b[0;34m)\u001b[0m\u001b[0;34m\u001b[0m\u001b[0;34m\u001b[0m\u001b[0m\n\u001b[0m\u001b[1;32m     62\u001b[0m \u001b[0;34m\u001b[0m\u001b[0m\n\u001b[1;32m     63\u001b[0m     \u001b[0;32mdef\u001b[0m \u001b[0mremote\u001b[0m\u001b[0;34m(\u001b[0m\u001b[0mself\u001b[0m\u001b[0;34m,\u001b[0m \u001b[0;34m*\u001b[0m\u001b[0margs\u001b[0m\u001b[0;34m,\u001b[0m \u001b[0;34m**\u001b[0m\u001b[0mkwargs\u001b[0m\u001b[0;34m)\u001b[0m\u001b[0;34m:\u001b[0m\u001b[0;34m\u001b[0m\u001b[0;34m\u001b[0m\u001b[0m\n",
      "\u001b[0;32m~/Library/Caches/pypoetry/virtualenvs/attack-simulator-5suhPhn0-py3.9/lib/python3.9/site-packages/ray/util/client/worker.py\u001b[0m in \u001b[0;36mwait\u001b[0;34m(self, object_refs, num_returns, timeout, fetch_local)\u001b[0m\n\u001b[1;32m    431\u001b[0m                                 f\"got list containing {type(ref)}\")\n\u001b[1;32m    432\u001b[0m         data = {\n\u001b[0;32m--> 433\u001b[0;31m             \u001b[0;34m\"object_ids\"\u001b[0m\u001b[0;34m:\u001b[0m \u001b[0;34m[\u001b[0m\u001b[0mobject_ref\u001b[0m\u001b[0;34m.\u001b[0m\u001b[0mid\u001b[0m \u001b[0;32mfor\u001b[0m \u001b[0mobject_ref\u001b[0m \u001b[0;32min\u001b[0m \u001b[0mobject_refs\u001b[0m\u001b[0;34m]\u001b[0m\u001b[0;34m,\u001b[0m\u001b[0;34m\u001b[0m\u001b[0;34m\u001b[0m\u001b[0m\n\u001b[0m\u001b[1;32m    434\u001b[0m             \u001b[0;34m\"num_returns\"\u001b[0m\u001b[0;34m:\u001b[0m \u001b[0mnum_returns\u001b[0m\u001b[0;34m,\u001b[0m\u001b[0;34m\u001b[0m\u001b[0;34m\u001b[0m\u001b[0m\n\u001b[1;32m    435\u001b[0m             \u001b[0;34m\"timeout\"\u001b[0m\u001b[0;34m:\u001b[0m \u001b[0mtimeout\u001b[0m \u001b[0;32mif\u001b[0m \u001b[0;34m(\u001b[0m\u001b[0mtimeout\u001b[0m \u001b[0;32mis\u001b[0m \u001b[0;32mnot\u001b[0m \u001b[0;32mNone\u001b[0m\u001b[0;34m)\u001b[0m \u001b[0;32melse\u001b[0m \u001b[0;34m-\u001b[0m\u001b[0;36m1\u001b[0m\u001b[0;34m,\u001b[0m\u001b[0;34m\u001b[0m\u001b[0;34m\u001b[0m\u001b[0m\n",
      "\u001b[0;32m~/Library/Caches/pypoetry/virtualenvs/attack-simulator-5suhPhn0-py3.9/lib/python3.9/site-packages/ray/util/client/worker.py\u001b[0m in \u001b[0;36m<listcomp>\u001b[0;34m(.0)\u001b[0m\n\u001b[1;32m    431\u001b[0m                                 f\"got list containing {type(ref)}\")\n\u001b[1;32m    432\u001b[0m         data = {\n\u001b[0;32m--> 433\u001b[0;31m             \u001b[0;34m\"object_ids\"\u001b[0m\u001b[0;34m:\u001b[0m \u001b[0;34m[\u001b[0m\u001b[0mobject_ref\u001b[0m\u001b[0;34m.\u001b[0m\u001b[0mid\u001b[0m \u001b[0;32mfor\u001b[0m \u001b[0mobject_ref\u001b[0m \u001b[0;32min\u001b[0m \u001b[0mobject_refs\u001b[0m\u001b[0;34m]\u001b[0m\u001b[0;34m,\u001b[0m\u001b[0;34m\u001b[0m\u001b[0;34m\u001b[0m\u001b[0m\n\u001b[0m\u001b[1;32m    434\u001b[0m             \u001b[0;34m\"num_returns\"\u001b[0m\u001b[0;34m:\u001b[0m \u001b[0mnum_returns\u001b[0m\u001b[0;34m,\u001b[0m\u001b[0;34m\u001b[0m\u001b[0;34m\u001b[0m\u001b[0m\n\u001b[1;32m    435\u001b[0m             \u001b[0;34m\"timeout\"\u001b[0m\u001b[0;34m:\u001b[0m \u001b[0mtimeout\u001b[0m \u001b[0;32mif\u001b[0m \u001b[0;34m(\u001b[0m\u001b[0mtimeout\u001b[0m \u001b[0;32mis\u001b[0m \u001b[0;32mnot\u001b[0m \u001b[0;32mNone\u001b[0m\u001b[0;34m)\u001b[0m \u001b[0;32melse\u001b[0m \u001b[0;34m-\u001b[0m\u001b[0;36m1\u001b[0m\u001b[0;34m,\u001b[0m\u001b[0;34m\u001b[0m\u001b[0;34m\u001b[0m\u001b[0m\n",
      "\u001b[0;32mpython/ray/includes/object_ref.pxi\u001b[0m in \u001b[0;36mray._raylet.ClientObjectRef.id.__get__\u001b[0;34m()\u001b[0m\n",
      "\u001b[0;32mpython/ray/includes/object_ref.pxi\u001b[0m in \u001b[0;36mray._raylet.ClientObjectRef.binary\u001b[0;34m()\u001b[0m\n",
      "\u001b[0;32mpython/ray/includes/object_ref.pxi\u001b[0m in \u001b[0;36mray._raylet.ClientObjectRef._wait_for_id\u001b[0;34m()\u001b[0m\n",
      "\u001b[0;32mpython/ray/includes/object_ref.pxi\u001b[0m in \u001b[0;36mray._raylet.ClientObjectRef._wait_for_id\u001b[0;34m()\u001b[0m\n",
      "\u001b[0;32m/opt/homebrew/Cellar/python@3.9/3.9.7_1/Frameworks/Python.framework/Versions/3.9/lib/python3.9/concurrent/futures/_base.py\u001b[0m in \u001b[0;36mresult\u001b[0;34m(self, timeout)\u001b[0m\n\u001b[1;32m    443\u001b[0m                     \u001b[0;32mraise\u001b[0m \u001b[0mCancelledError\u001b[0m\u001b[0;34m(\u001b[0m\u001b[0;34m)\u001b[0m\u001b[0;34m\u001b[0m\u001b[0;34m\u001b[0m\u001b[0m\n\u001b[1;32m    444\u001b[0m                 \u001b[0;32melif\u001b[0m \u001b[0mself\u001b[0m\u001b[0;34m.\u001b[0m\u001b[0m_state\u001b[0m \u001b[0;34m==\u001b[0m \u001b[0mFINISHED\u001b[0m\u001b[0;34m:\u001b[0m\u001b[0;34m\u001b[0m\u001b[0;34m\u001b[0m\u001b[0m\n\u001b[0;32m--> 445\u001b[0;31m                     \u001b[0;32mreturn\u001b[0m \u001b[0mself\u001b[0m\u001b[0;34m.\u001b[0m\u001b[0m__get_result\u001b[0m\u001b[0;34m(\u001b[0m\u001b[0;34m)\u001b[0m\u001b[0;34m\u001b[0m\u001b[0;34m\u001b[0m\u001b[0m\n\u001b[0m\u001b[1;32m    446\u001b[0m                 \u001b[0;32melse\u001b[0m\u001b[0;34m:\u001b[0m\u001b[0;34m\u001b[0m\u001b[0;34m\u001b[0m\u001b[0m\n\u001b[1;32m    447\u001b[0m                     \u001b[0;32mraise\u001b[0m \u001b[0mTimeoutError\u001b[0m\u001b[0;34m(\u001b[0m\u001b[0;34m)\u001b[0m\u001b[0;34m\u001b[0m\u001b[0;34m\u001b[0m\u001b[0m\n",
      "\u001b[0;32m/opt/homebrew/Cellar/python@3.9/3.9.7_1/Frameworks/Python.framework/Versions/3.9/lib/python3.9/concurrent/futures/_base.py\u001b[0m in \u001b[0;36m__get_result\u001b[0;34m(self)\u001b[0m\n\u001b[1;32m    388\u001b[0m         \u001b[0;32mif\u001b[0m \u001b[0mself\u001b[0m\u001b[0;34m.\u001b[0m\u001b[0m_exception\u001b[0m\u001b[0;34m:\u001b[0m\u001b[0;34m\u001b[0m\u001b[0;34m\u001b[0m\u001b[0m\n\u001b[1;32m    389\u001b[0m             \u001b[0;32mtry\u001b[0m\u001b[0;34m:\u001b[0m\u001b[0;34m\u001b[0m\u001b[0;34m\u001b[0m\u001b[0m\n\u001b[0;32m--> 390\u001b[0;31m                 \u001b[0;32mraise\u001b[0m \u001b[0mself\u001b[0m\u001b[0;34m.\u001b[0m\u001b[0m_exception\u001b[0m\u001b[0;34m\u001b[0m\u001b[0;34m\u001b[0m\u001b[0m\n\u001b[0m\u001b[1;32m    391\u001b[0m             \u001b[0;32mfinally\u001b[0m\u001b[0;34m:\u001b[0m\u001b[0;34m\u001b[0m\u001b[0;34m\u001b[0m\u001b[0m\n\u001b[1;32m    392\u001b[0m                 \u001b[0;31m# Break a reference cycle with the exception in self._exception\u001b[0m\u001b[0;34m\u001b[0m\u001b[0;34m\u001b[0m\u001b[0m\n",
      "\u001b[0;31mAttributeError\u001b[0m: 'ForwardRef' object has no attribute '__forward_module__'"
     ]
    }
   ],
   "source": [
    "savename = \"length-tune-eval.csv\"\n",
    "\n",
    "df = generate(savename) if not os.path.exists(savename) else pd.read_csv(savename, index_col=0)"
   ]
  },
  {
   "cell_type": "code",
   "execution_count": null,
   "id": "f9e71f7f-5bd0-4e8e-9711-54b10b0028c5",
   "metadata": {},
   "outputs": [],
   "source": [
    "sns.set(style=\"darkgrid\", rc={\"figure.figsize\": (12, 8)})"
   ]
  },
  {
   "cell_type": "code",
   "execution_count": null,
   "id": "79824554-eba6-4b6e-9e4c-425b2ce9b6f4",
   "metadata": {},
   "outputs": [],
   "source": [
    "g = sns.lineplot(data=df, x=\"Graph size\", y=\"Returns\", hue=\"Attacker\", ci=\"sd\")\n",
    "g.legend(title=\"Attacker\", loc=\"upper right\")\n",
    "g.set_title(\"Defender: no-action\")"
   ]
  },
  {
   "cell_type": "code",
   "execution_count": null,
   "id": "2480fe2c-a7b9-4cc1-9bb6-51fa419e8df1",
   "metadata": {},
   "outputs": [],
   "source": [
    "g = sns.lineplot(data=df, x=\"Graph size\", y=\"Episode lengths\", hue=\"Attacker\", ci=\"sd\")\n",
    "g.legend(title=\"Attacker\", loc=\"upper left\")\n",
    "g.set_title(\"Defender: no-action\")"
   ]
  },
  {
   "cell_type": "code",
   "execution_count": null,
   "id": "a6e29cfb-2cd3-4d44-bf84-2f32d0ad9832",
   "metadata": {},
   "outputs": [
    {
     "name": "stderr",
     "output_type": "stream",
     "text": [
      "The autoscaler failed with the following error:\n",
      "Traceback (most recent call last):\n",
      "  File \"/home/ray/anaconda3/lib/python3.7/site-packages/urllib3/connection.py\", line 170, in _new_conn\n",
      "    (self._dns_host, self.port), self.timeout, **extra_kw\n",
      "  File \"/home/ray/anaconda3/lib/python3.7/site-packages/urllib3/util/connection.py\", line 96, in create_connection\n",
      "    raise err\n",
      "  File \"/home/ray/anaconda3/lib/python3.7/site-packages/urllib3/util/connection.py\", line 86, in create_connection\n",
      "    sock.connect(sa)\n",
      "ConnectionRefusedError: [Errno 111] Connection refused\n",
      "\n",
      "During handling of the above exception, another exception occurred:\n",
      "\n",
      "Traceback (most recent call last):\n",
      "  File \"/home/ray/anaconda3/lib/python3.7/site-packages/urllib3/connectionpool.py\", line 706, in urlopen\n",
      "    chunked=chunked,\n",
      "  File \"/home/ray/anaconda3/lib/python3.7/site-packages/urllib3/connectionpool.py\", line 382, in _make_request\n",
      "    self._validate_conn(conn)\n",
      "  File \"/home/ray/anaconda3/lib/python3.7/site-packages/urllib3/connectionpool.py\", line 1010, in _validate_conn\n",
      "    conn.connect()\n",
      "  File \"/home/ray/anaconda3/lib/python3.7/site-packages/urllib3/connection.py\", line 353, in connect\n",
      "    conn = self._new_conn()\n",
      "  File \"/home/ray/anaconda3/lib/python3.7/site-packages/urllib3/connection.py\", line 182, in _new_conn\n",
      "    self, \"Failed to establish a new connection: %s\" % e\n",
      "urllib3.exceptions.NewConnectionError: <urllib3.connection.HTTPSConnection object at 0x7fd5afda3710>: Failed to establish a new connection: [Errno 111] Connection refused\n",
      "\n",
      "During handling of the above exception, another exception occurred:\n",
      "\n",
      "Traceback (most recent call last):\n",
      "  File \"/home/ray/anaconda3/lib/python3.7/site-packages/ray/autoscaler/_private/monitor.py\", line 423, in run\n",
      "    self._run()\n",
      "  File \"/home/ray/anaconda3/lib/python3.7/site-packages/ray/autoscaler/_private/monitor.py\", line 325, in _run\n",
      "    \"autoscaler_report\"] = self.autoscaler.summary()._asdict()\n",
      "  File \"/home/ray/anaconda3/lib/python3.7/site-packages/ray/autoscaler/_private/autoscaler.py\", line 1042, in summary\n",
      "    all_node_ids = self.provider.non_terminated_nodes(tag_filters={})\n",
      "  File \"/home/ray/anaconda3/lib/python3.7/site-packages/ray/autoscaler/_private/_kubernetes/node_provider.py\", line 63, in non_terminated_nodes\n",
      "    label_selector=label_selector)\n",
      "  File \"/home/ray/anaconda3/lib/python3.7/site-packages/kubernetes/client/api/core_v1_api.py\", line 15423, in list_namespaced_pod\n",
      "    return self.list_namespaced_pod_with_http_info(namespace, **kwargs)  # noqa: E501\n",
      "  File \"/home/ray/anaconda3/lib/python3.7/site-packages/kubernetes/client/api/core_v1_api.py\", line 15552, in list_namespaced_pod_with_http_info\n",
      "    collection_formats=collection_formats)\n",
      "  File \"/home/ray/anaconda3/lib/python3.7/site-packages/kubernetes/client/api_client.py\", line 353, in call_api\n",
      "    _preload_content, _request_timeout, _host)\n",
      "  File \"/home/ray/anaconda3/lib/python3.7/site-packages/kubernetes/client/api_client.py\", line 184, in __call_api\n",
      "    _request_timeout=_request_timeout)\n",
      "  File \"/home/ray/anaconda3/lib/python3.7/site-packages/kubernetes/client/api_client.py\", line 377, in request\n",
      "    headers=headers)\n",
      "  File \"/home/ray/anaconda3/lib/python3.7/site-packages/kubernetes/client/rest.py\", line 244, in GET\n",
      "    query_params=query_params)\n",
      "  File \"/home/ray/anaconda3/lib/python3.7/site-packages/kubernetes/client/rest.py\", line 217, in request\n",
      "    headers=headers)\n",
      "  File \"/home/ray/anaconda3/lib/python3.7/site-packages/urllib3/request.py\", line 75, in request\n",
      "    method, url, fields=fields, headers=headers, **urlopen_kw\n",
      "  File \"/home/ray/anaconda3/lib/python3.7/site-packages/urllib3/request.py\", line 96, in request_encode_url\n",
      "    return self.urlopen(method, url, **extra_kw)\n",
      "  File \"/home/ray/anaconda3/lib/python3.7/site-packages/urllib3/poolmanager.py\", line 375, in urlopen\n",
      "    response = conn.urlopen(method, u.request_uri, **kw)\n",
      "  File \"/home/ray/anaconda3/lib/python3.7/site-packages/urllib3/connectionpool.py\", line 796, in urlopen\n",
      "    **response_kw\n",
      "  File \"/home/ray/anaconda3/lib/python3.7/site-packages/urllib3/connectionpool.py\", line 796, in urlopen\n",
      "    **response_kw\n",
      "  File \"/home/ray/anaconda3/lib/python3.7/site-packages/urllib3/connectionpool.py\", line 796, in urlopen\n",
      "    **response_kw\n",
      "  File \"/home/ray/anaconda3/lib/python3.7/site-packages/urllib3/connectionpool.py\", line 756, in urlopen\n",
      "    method, url, error=e, _pool=self, _stacktrace=sys.exc_info()[2]\n",
      "  File \"/home/ray/anaconda3/lib/python3.7/site-packages/urllib3/util/retry.py\", line 574, in increment\n",
      "    raise MaxRetryError(_pool, url, error or ResponseError(cause))\n",
      "urllib3.exceptions.MaxRetryError: HTTPSConnectionPool(host='10.88.0.1', port=443): Max retries exceeded with url: /api/v1/namespaces/default/pods?fieldSelector=status.phase%21%3DFailed%2Cstatus.phase%21%3DUnknown%2Cstatus.phase%21%3DSucceeded%2Cstatus.phase%21%3DTerminating&labelSelector=ray-cluster-name%3Dgke-cpu-only (Caused by NewConnectionError('<urllib3.connection.HTTPSConnection object at 0x7fd5afda3710>: Failed to establish a new connection: [Errno 111] Connection refused'))\n",
      "\n",
      "Log channel is reconnecting. Logs produced while the connection was down can be found on the head node of the cluster in `ray_client_server_[port].out`\n",
      "Encountered connection issues in the data channel. Attempting to reconnect.\n",
      "Failed to reconnect the data channel\n"
     ]
    }
   ],
   "source": [
    "pd.set_option(\"display.max_columns\", 32)\n",
    "df.groupby(\"Attacker\").describe()"
   ]
  }
 ],
 "metadata": {
  "kernelspec": {
   "display_name": "Python 3 (ipykernel)",
   "language": "python",
   "name": "python3"
  },
  "language_info": {
   "codemirror_mode": {
    "name": "ipython",
    "version": 3
   },
   "file_extension": ".py",
   "mimetype": "text/x-python",
   "name": "python",
   "nbconvert_exporter": "python",
   "pygments_lexer": "ipython3",
   "version": "3.9.7"
  }
 },
 "nbformat": 4,
 "nbformat_minor": 5
}
