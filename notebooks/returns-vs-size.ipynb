{
 "cells": [
  {
   "cell_type": "code",
   "execution_count": null,
   "id": "8fda8002-e229-4373-8431-b4458568218a",
   "metadata": {},
   "outputs": [],
   "source": [
    "import os\n",
    "\n",
    "import seaborn as sns\n",
    "\n",
    "from ray import init, rllib, tune, shutdown"
   ]
  },
  {
   "cell_type": "code",
   "execution_count": null,
   "id": "2b148c8c-c3e1-4a6e-9f23-d9974348334d",
   "metadata": {},
   "outputs": [],
   "source": [
    "from attack_simulator.agents import DEFENDERS\n",
    "from attack_simulator.env import AttackSimulationEnv\n",
    "from attack_simulator.graph import AttackGraph, SIZES"
   ]
  },
  {
   "cell_type": "code",
   "execution_count": null,
   "id": "96d59b78-7bc4-48c5-9d53-a0ed7a73f5b1",
   "metadata": {},
   "outputs": [],
   "source": [
    "import gym\n",
    "import numpy as np\n",
    "\n",
    "class CustomPreprocessor(rllib.models.preprocessors.Preprocessor):\n",
    "    def _init_shape(self, observation_space, options=None):\n",
    "        return (len(observation_space.spaces),)\n",
    "\n",
    "    def transform(self, observation):\n",
    "        return np.array(observation)\n",
    "    \n",
    "    @property\n",
    "    def observation_space(self):\n",
    "        space = gym.spaces.Box(0, 1, self.shape, dtype=int)\n",
    "        space.original_space = self._obs_space\n",
    "        return space\n",
    "\n",
    "rllib.models.ModelCatalog.register_custom_preprocessor('custom', CustomPreprocessor)\n",
    "\n",
    "\n",
    "class AgentPolicy(rllib.policy.Policy):\n",
    "    def __init__(self, observation_space, action_space, config):\n",
    "        super().__init__(observation_space, action_space, config)\n",
    "        agent_config = dict(\n",
    "            input_dim=observation_space.shape[0], # same as len(observation_space.original_space.spaces)\n",
    "            num_actions=action_space.n,\n",
    "            random_seed=config['seed'],\n",
    "            attack_graph=config['env_config']['attack_graph'],\n",
    "        )\n",
    "        self._agent = DEFENDERS[config['agent_type']](agent_config)\n",
    "\n",
    "    def compute_actions(self, observations, *args, **kwargs):\n",
    "        return [self._agent.act(obs) for obs in observations], [], {}\n",
    "\n",
    "    def compute_single_action(self, observation, *args, **kwargs):\n",
    "        return self._agent.act(observation), [], {}\n",
    "\n",
    "    def get_weights(self):\n",
    "        return {}\n",
    "\n",
    "    def set_weights(self, weights):\n",
    "        pass\n",
    "    \n",
    "    \n",
    "def wrap_agent(agent_type, config):\n",
    "    default_config = rllib.agents.trainer.with_common_config(dict(config, agent_type=agent_type, model=dict(custom_preprocessor='custom'), env_class=config['env']))\n",
    "    return rllib.agents.trainer_template.build_trainer(\n",
    "        name=agent_type,\n",
    "        default_policy=AgentPolicy,\n",
    "        default_config=default_config,\n",
    "    )(config=config)"
   ]
  },
  {
   "cell_type": "code",
   "execution_count": null,
   "id": "7211eb85-4419-46a1-9848-876e074e8033",
   "metadata": {},
   "outputs": [],
   "source": [
    "import pandas as pd\n",
    "\n",
    "class RolloutAggregator:\n",
    "    def __init__(self, **kwargs):\n",
    "        self._kwargs = kwargs\n",
    "        self._episodes = []\n",
    "\n",
    "    def begin_rollout(self):\n",
    "        self._rewards = []\n",
    "\n",
    "    def append_step(self, obs, action, next_obs, reward, done, info):\n",
    "        self._rewards.append(reward)\n",
    "\n",
    "    def end_rollout(self):\n",
    "        self._episodes.append(\n",
    "            dict(self._kwargs, episode_length=len(self._rewards), episode_reward=sum(self._rewards))\n",
    "        )\n",
    "    \n",
    "    def to_df(self):\n",
    "        return pd.DataFrame(self._episodes)"
   ]
  },
  {
   "cell_type": "code",
   "execution_count": null,
   "id": "1f262a77-9f87-436a-8208-a3f1bad01b2f",
   "metadata": {},
   "outputs": [],
   "source": [
    "if os.path.isdir('/var/run/secrets/kubernetes.io'):  # inside k8s pod\n",
    "    args = dict(address='auto')\n",
    "else:  # listen on all interfaces inside a container for port-forwarding to work\n",
    "    dashboard_host = \"0.0.0.0\" if os.path.exists(\"/.dockerenv\") else \"127.0.0.1\"\n",
    "    args = dict(num_cpus=4, dashboard_host=dashboard_host)\n",
    "\n",
    "init(**args)"
   ]
  },
  {
   "cell_type": "code",
   "execution_count": null,
   "id": "07fb8a4c-6aa2-4e41-b86c-e622f9b2c27c",
   "metadata": {},
   "outputs": [],
   "source": [
    "from ray.rllib.rollout import rollout\n",
    "from tqdm import tqdm\n",
    "\n",
    "agent_types = ['R2D2', 'PPO', 'rule-based', 'random']\n",
    "seeds = [0, 1, 2, 3, 6, 7, 11, 28, 42, 1337]\n",
    "training_iterations = 50\n",
    "rollouts = 100\n",
    "\n",
    "def generate(savename):\n",
    "    frames = []\n",
    "\n",
    "    for graph_size in SIZES:\n",
    "        graph = AttackGraph(dict(graph_size=graph_size))\n",
    "\n",
    "        for seed in seeds:\n",
    "            config = dict(\n",
    "                framework='torch',\n",
    "                model=dict(use_lstm=True),\n",
    "                env=AttackSimulationEnv,\n",
    "                env_config=dict(attack_graph=graph),\n",
    "                seed=seed,\n",
    "                create_env_on_driver=True,  # apparently, assumed by `rollout`\n",
    "                num_workers=2,  # use 0 to run on driver for debugging\n",
    "                batch_mode='complete_episodes',\n",
    "            )\n",
    "\n",
    "            for agent_type in agent_types:\n",
    "                if agent_type in DEFENDERS:\n",
    "                    agent = wrap_agent(agent_type, config)\n",
    "                else:\n",
    "                    # if agent == 'contrib/AlphaZero':\n",
    "                    #    config.update(custom_preprocessor='AlphaZeroPreprocessor')\n",
    "                    agent = rllib.agents.registry.get_trainer_class(agent_type)(config=config)\n",
    "                    pbar = tqdm(range(training_iterations), f'{graph_size:13.13s} [{seed: 6d}] {agent_type:11.11s}')\n",
    "                    for _ in pbar:\n",
    "                        results = agent.train()\n",
    "                        # TODO: break based on results\n",
    "\n",
    "                aggregator = RolloutAggregator(agent_type=agent_type, graph_size=graph.num_attacks)\n",
    "                rollout(agent, 'AttackSimulator', num_steps=0, num_episodes=rollouts, saver=aggregator)\n",
    "                frames.append(aggregator.to_df())\n",
    "\n",
    "    df = pd.concat(frames, ignore_index=True).rename(columns=dict(agent_type='Agent', graph_size='Graph size', episode_length='Episode lengths', episode_reward='Returns'))\n",
    "    df.to_csv(savename)\n",
    "    return df"
   ]
  },
  {
   "cell_type": "code",
   "execution_count": null,
   "id": "8b7a1282-533b-4d8a-bb9e-f6c67464b470",
   "metadata": {},
   "outputs": [],
   "source": [
    "%%capture noise --no-stderr\n",
    "\n",
    "savename = 'data.csv'\n",
    "\n",
    "df = generate(savename) if not os.path.exists(savename) else pd.read_csv(savename, index_col=0)\n",
    "df"
   ]
  },
  {
   "cell_type": "code",
   "execution_count": null,
   "id": "27ddf8dc-705f-4678-a445-9d54edb194d8",
   "metadata": {},
   "outputs": [],
   "source": [
    "shutdown()"
   ]
  },
  {
   "cell_type": "code",
   "execution_count": null,
   "id": "8c984bbe-82c6-4dca-8436-6d78cf97d68b",
   "metadata": {},
   "outputs": [],
   "source": [
    "sns.set(style='darkgrid', rc={'figure.figsize': (12, 8)})"
   ]
  },
  {
   "cell_type": "code",
   "execution_count": null,
   "id": "f5424a47-3486-472b-a604-779d30ca7b88",
   "metadata": {},
   "outputs": [],
   "source": [
    "g = sns.lineplot(data=df, x='Graph size', y='Returns', hue='Agent', ci='sd')\n",
    "g.legend(title='Agent', loc='upper left')\n",
    "g.set_title('Returns vs Size (random attacker)')"
   ]
  },
  {
   "cell_type": "code",
   "execution_count": null,
   "id": "0fa2d787-49db-4d90-a8ae-a69d97c085f5",
   "metadata": {},
   "outputs": [],
   "source": [
    "g = sns.lineplot(data=df, x='Graph size', y='Episode lengths', hue='Agent', ci='sd')\n",
    "g.legend(title='Agent', loc='upper left')\n",
    "g.set_title('Episode lengths vs Size (random attacker)')"
   ]
  },
  {
   "cell_type": "code",
   "execution_count": null,
   "id": "f3b6d9d1-2b14-4e48-a4a9-85785a112121",
   "metadata": {},
   "outputs": [],
   "source": [
    "pd.set_option('display.max_columns', 32)\n",
    "df.groupby('Agent').describe()"
   ]
  },
  {
   "cell_type": "code",
   "execution_count": null,
   "id": "ea8e5261-f9d0-40b5-92ea-29dfbc439ed9",
   "metadata": {},
   "outputs": [],
   "source": []
  }
 ],
 "metadata": {
  "kernelspec": {
   "display_name": "Python 3 (ipykernel)",
   "language": "python",
   "name": "python3"
  },
  "language_info": {
   "codemirror_mode": {
    "name": "ipython",
    "version": 3
   },
   "file_extension": ".py",
   "mimetype": "text/x-python",
   "name": "python",
   "nbconvert_exporter": "python",
   "pygments_lexer": "ipython3",
   "version": "3.8.12"
  }
 },
 "nbformat": 4,
 "nbformat_minor": 5
}
