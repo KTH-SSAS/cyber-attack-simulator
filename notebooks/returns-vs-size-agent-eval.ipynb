{
 "cells": [
  {
   "cell_type": "code",
   "execution_count": 1,
   "id": "8fda8002-e229-4373-8431-b4458568218a",
   "metadata": {},
   "outputs": [],
   "source": [
    "import os\n",
    "\n",
    "import gym\n",
    "import numpy as np\n",
    "import pandas as pd\n",
    "import seaborn as sns\n",
    "\n",
    "from ray import init, rllib, tune, shutdown"
   ]
  },
  {
   "cell_type": "code",
   "execution_count": 2,
   "id": "2b148c8c-c3e1-4a6e-9f23-d9974348334d",
   "metadata": {},
   "outputs": [],
   "source": [
    "from attack_simulator.agents import DEFENDERS\n",
    "from attack_simulator.env import AttackSimulationEnv\n",
    "from attack_simulator.graph import AttackGraph, SIZES"
   ]
  },
  {
   "cell_type": "code",
   "execution_count": 3,
   "id": "96d59b78-7bc4-48c5-9d53-a0ed7a73f5b1",
   "metadata": {},
   "outputs": [],
   "source": [
    "class AgentPolicy(rllib.policy.Policy):\n",
    "    def __init__(self, observation_space, action_space, config):\n",
    "        super().__init__(observation_space, action_space, config)\n",
    "        agent_config = dict(\n",
    "            input_dim=observation_space.shape[0],\n",
    "            num_actions=action_space.n,\n",
    "            random_seed=config[\"seed\"],\n",
    "            attack_graph=config[\"env_config\"][\"attack_graph\"],\n",
    "        )\n",
    "        self._agent = DEFENDERS[config[\"agent_type\"]](agent_config)\n",
    "\n",
    "    def compute_actions(self, observations, *args, **kwargs):\n",
    "        # FIXME: use a `numpy` array as a temporary workaround for\n",
    "        #        https://github.com/ray-project/ray/issues/10100\n",
    "        return np.array([self._agent.act(obs) for obs in observations]), [], {}\n",
    "\n",
    "    def get_weights(self):\n",
    "        return {}\n",
    "\n",
    "    def set_weights(self, weights):\n",
    "        pass\n",
    "\n",
    "\n",
    "def template_agent(agent_type):\n",
    "    default_config = rllib.agents.trainer.with_common_config(dict(agent_type=agent_type))\n",
    "    return rllib.agents.trainer_template.build_trainer(\n",
    "        name=agent_type,\n",
    "        default_policy=AgentPolicy,\n",
    "        default_config=default_config,\n",
    "    )"
   ]
  },
  {
   "cell_type": "code",
   "execution_count": 4,
   "id": "7c41ecb4-e26b-46ad-a2d6-bd09cf3b7962",
   "metadata": {},
   "outputs": [],
   "source": [
    "from copy import deepcopy\n",
    "\n",
    "class AttackSimAlphaZeroEnv(AttackSimulationEnv):\n",
    "    def set_state(self, state):\n",
    "        (\n",
    "            self.simulation_time,\n",
    "            self.ttc_remaining,\n",
    "            self.attack_surface,\n",
    "            self.attack_state,\n",
    "            self.service_state,\n",
    "            self._observation,\n",
    "        ) = deepcopy(state)\n",
    "\n",
    "    def get_state(self):\n",
    "        state = (\n",
    "            self.simulation_time,\n",
    "            self.ttc_remaining,\n",
    "            self.attack_surface,\n",
    "            self.attack_state,\n",
    "            self.service_state,\n",
    "            self._observation,\n",
    "        )\n",
    "        return deepcopy(state)\n",
    "    \n",
    "\n",
    "class AlphaZeroWrapper(gym.Env):\n",
    "    def __init__(self, config):\n",
    "        self.env = config[\"env_class\"](config)\n",
    "        self.action_space = self.env.action_space\n",
    "        assert isinstance(\n",
    "            self.action_space, gym.spaces.Discrete\n",
    "        ), \"AlphaZero requires a Discrete action space\"\n",
    "        shape = (self.action_space.n,)\n",
    "        self.observation_space = gym.spaces.Dict(\n",
    "            dict(obs=self.env.observation_space, action_mask=gym.spaces.Box(0, 1, shape))\n",
    "        )\n",
    "        self.reward = 0\n",
    "        self.mask = np.full(shape, 1, dtype=\"int8\")\n",
    "\n",
    "    def reset(self):\n",
    "        self.reward = 0\n",
    "        observation = self.env.reset()\n",
    "        return dict(obs=observation, action_mask=self.mask)\n",
    "\n",
    "    def step(self, action):\n",
    "        observation, reward, done, info = self.env.step(action)\n",
    "        self.reward += reward\n",
    "        reward = self.reward if done else 0\n",
    "        return dict(obs=observation, action_mask=self.mask), reward, done, info\n",
    "\n",
    "    def set_state(self, state):\n",
    "        env_state, self.reward = state\n",
    "        self.env.set_state(env_state)\n",
    "        return dict(obs=self.env.observation, action_mask=self.mask)\n",
    "\n",
    "    def get_state(self):\n",
    "        return self.env.get_state(), self.reward\n",
    "\n",
    "    def close(self):\n",
    "        self.env.close()\n",
    "\n",
    "    def render(self, mode=None):\n",
    "        self.env.render(mode)\n",
    "\n",
    "    def seed(self, seed=None):\n",
    "        self.env.seed(seed)"
   ]
  },
  {
   "cell_type": "code",
   "execution_count": 5,
   "id": "c397d725-6f0e-43c4-9fc7-5f13e41e11f3",
   "metadata": {},
   "outputs": [],
   "source": [
    "# 'contrib/AlphaZero' does NOT appear to work without its custom dense model\n",
    "from ray.rllib.contrib.alpha_zero.models.custom_torch_models import DenseModel\n",
    "\n",
    "rllib.models.ModelCatalog.register_custom_model(\"alpha_zero_dense_model\", DenseModel)"
   ]
  },
  {
   "cell_type": "code",
   "execution_count": 6,
   "id": "7211eb85-4419-46a1-9848-876e074e8033",
   "metadata": {},
   "outputs": [],
   "source": [
    "# work around: https://github.com/ray-project/ray/issues/17618\n",
    "\n",
    "from IPython.core.interactiveshell import InteractiveShell\n",
    "\n",
    "\n",
    "class keep_ipython_sane:\n",
    "    def __enter__(self):\n",
    "        self.instance = InteractiveShell.instance()\n",
    "        \n",
    "    def __exit__(self, *args, **kwargs):\n",
    "        # feel free to improve with error handling, etc.\n",
    "        InteractiveShell._instance = self.instance"
   ]
  },
  {
   "cell_type": "code",
   "execution_count": 7,
   "id": "1f262a77-9f87-436a-8208-a3f1bad01b2f",
   "metadata": {},
   "outputs": [],
   "source": [
    "if os.path.isdir(\"/var/run/secrets/kubernetes.io\"):  # inside k8s pod\n",
    "    args = dict(address=\"auto\")\n",
    "else:\n",
    "    # listen on all interfaces inside a container for port-forwarding to work\n",
    "    dashboard_host = \"0.0.0.0\" if os.path.exists(\"/.dockerenv\") else \"127.0.0.1\"\n",
    "    args = dict(num_cpus=4, dashboard_host=dashboard_host)\n",
    "\n",
    "# ALTERNATIVE: use the \"Ray client\" to connect to a remote cluster\n",
    "# Unfortunately, JupyterNotebookReporter displays an object reference\n",
    "# <IPython.core.display.HTML object> instead of content...\n",
    "# --- --- ---\n",
    "#\n",
    "# from ray.util.client import worker\n",
    "#\n",
    "# worker.INITIAL_TIMEOUT_SEC = worker.MAX_TIMEOUT_SEC = 1\n",
    "#\n",
    "# ray_client_server = 'host.docker.internal' if os.path.exists(\"/.dockerenv\") else '127.0.0.1'\n",
    "# try:\n",
    "#     init(address=f'ray://{ray_client_server}:10001')\n",
    "# except Connection Error:\n",
    "#     pass  # TODO: try something else..."
   ]
  },
  {
   "cell_type": "code",
   "execution_count": 8,
   "id": "07fb8a4c-6aa2-4e41-b86c-e622f9b2c27c",
   "metadata": {},
   "outputs": [
    {
     "name": "stdout",
     "output_type": "stream",
     "text": [
      "AttackGraph(en2720.yaml[tiny], 2 services, 7 attack steps)\n",
      "AttackGraph(en2720.yaml[small], 5 services, 27 attack steps)\n",
      "AttackGraph(en2720.yaml[medium-small], 9 services, 44 attack steps)\n",
      "AttackGraph(en2720.yaml[medium], 13 services, 56 attack steps)\n",
      "AttackGraph(en2720.yaml[large], 16 services, 62 attack steps)\n",
      "AttackGraph(en2720.yaml[extra-large], 16 services, 65 attack steps)\n",
      "AttackGraph(en2720.yaml[full], 18 services, 78 attack steps)\n"
     ]
    }
   ],
   "source": [
    "from ray.tune.utils.trainable import TrainableUtil\n",
    "from tqdm.auto import tqdm\n",
    "\n",
    "rename = dict(\n",
    "    agent_type=\"Agent\",\n",
    "    graph_size=\"Graph size\",\n",
    "    episode_length=\"Episode lengths\",\n",
    "    episode_reward=\"Returns\",\n",
    ")\n",
    "\n",
    "# FIXME: temporarily omit \"contrib/AlphaZero\" due to https://github.com/ray-project/ray/issues/13177\n",
    "# agent_types = [\"contrib/AlphaZero\", \"R2D2\", \"rule-based\", \"random\"]\n",
    "agent_types = [\"R2D2\", \"rule-based\", \"random\"]\n",
    "graphs = [AttackGraph(dict(graph_size=size)) for size in SIZES]\n",
    "seeds = [0, 1, 2, 3, 6, 7, 11, 28, 42, 1337]\n",
    "iterations = 10\n",
    "rollouts = 10\n",
    "\n",
    "eval_config = dict(\n",
    "    evaluation_interval=1,\n",
    "    evaluation_num_workers=1,\n",
    "    evaluation_config=dict(explore=False, replay_sequence_length=-1),\n",
    "    evaluation_num_episodes=rollouts,\n",
    ")\n",
    "\n",
    "def generate(savename):\n",
    "    init(**args)\n",
    "    \n",
    "    frames = []\n",
    "    for graph in tqdm(graphs, 'graphs'):\n",
    "        for agent_type in tqdm(agent_types, f'└── {graph.graph_size}'):\n",
    "            agent_name = agent_type.split(\"/\")[-1]\n",
    "            for seed in tqdm(seeds, f'\\u00a0\\u2001\\u2001\\u2001└── {agent_name}@{graph.graph_size}'):\n",
    "                config = dict(\n",
    "                    framework=\"torch\",\n",
    "                    model=dict(use_lstm=True),\n",
    "                    env=AttackSimulationEnv,\n",
    "                    env_config=dict(attack_graph=graph),\n",
    "                    seed=seed,\n",
    "                    num_workers=0,\n",
    "                    log_level='ERROR',\n",
    "                )\n",
    "                if agent_type in DEFENDERS:\n",
    "                    config.update(eval_config)\n",
    "                    agent = template_agent(agent_type)(config=config)\n",
    "                else:\n",
    "                    if agent_type == \"contrib/AlphaZero\":\n",
    "                        config[\"env_config\"].update(env_class=AttackSimAlphaZeroEnv)\n",
    "                        config.update(\n",
    "                            env=AlphaZeroWrapper,\n",
    "                            model=dict(custom_model=\"alpha_zero_dense_model\"),\n",
    "                            rollout_fragment_length=32,\n",
    "                            train_batch_size=1280,\n",
    "                            sgd_minibatch_size=64,\n",
    "                        )\n",
    "\n",
    "                    name = f'{agent_name}_{graph.graph_size}_{seed}'\n",
    "                    if not os.path.exists(name):\n",
    "                        config.update(num_workers=4, batch_mode=\"complete_episodes\")\n",
    "                        with keep_ipython_sane():\n",
    "                            agent = rllib.agents.registry.get_trainer_class(agent_type)(config=config)\n",
    "                        for _ in tqdm(range(iterations), f'\\u00a0\\u2001\\u2001\\u2001\\u2001\\u2001\\u2001└── {name}'):\n",
    "                            results = agent.train()\n",
    "                            # TODO: break based on results?\n",
    "                        agent.save(name)\n",
    "                        del agent\n",
    "\n",
    "                    config.update(eval_config, num_workers=0)\n",
    "                    with keep_ipython_sane():\n",
    "                        agent = rllib.agents.registry.get_trainer_class(agent_type)(config=config)\n",
    "                        checkpoint_path = TrainableUtil.get_checkpoints_paths(name).chkpt_path[0]\n",
    "                        agent.restore(checkpoint_path)\n",
    "\n",
    "                stats = agent.evaluate()['evaluation']['hist_stats']\n",
    "                frame = pd.DataFrame(dict(agent_type=agent_type, graph_size=graph.num_attacks, **stats))\n",
    "                frames.append(frame)\n",
    "    shutdown()\n",
    "    results_df = pd.concat(frames, ignore_index=True).rename(columns=rename)\n",
    "    results_df.to_csv(savename)\n",
    "    return results_df"
   ]
  },
  {
   "cell_type": "code",
   "execution_count": 9,
   "id": "8b7a1282-533b-4d8a-bb9e-f6c67464b470",
   "metadata": {},
   "outputs": [
    {
     "name": "stderr",
     "output_type": "stream",
     "text": [
      "2021-09-22 13:30:33,891\tINFO services.py:1263 -- View the Ray dashboard at \u001b[1m\u001b[32mhttp://172.17.0.3:8265\u001b[39m\u001b[22m\n"
     ]
    },
    {
     "data": {
      "application/vnd.jupyter.widget-view+json": {
       "model_id": "50b3c84029334e3782ca999fdd18b728",
       "version_major": 2,
       "version_minor": 0
      },
      "text/plain": [
       "graphs:   0%|          | 0/7 [00:00<?, ?it/s]"
      ]
     },
     "metadata": {},
     "output_type": "display_data"
    },
    {
     "data": {
      "application/vnd.jupyter.widget-view+json": {
       "model_id": "21d643403d7a4c10bec6c521a1e65faa",
       "version_major": 2,
       "version_minor": 0
      },
      "text/plain": [
       "└── tiny:   0%|          | 0/3 [00:00<?, ?it/s]"
      ]
     },
     "metadata": {},
     "output_type": "display_data"
    },
    {
     "data": {
      "application/vnd.jupyter.widget-view+json": {
       "model_id": "cf12462d39544f00824efb253e92dea8",
       "version_major": 2,
       "version_minor": 0
      },
      "text/plain": [
       "    └── R2D2@tiny:   0%|          | 0/10 [00:00<?, ?it/s]"
      ]
     },
     "metadata": {},
     "output_type": "display_data"
    },
    {
     "name": "stderr",
     "output_type": "stream",
     "text": [
      "2021-09-22 13:30:34,931\tINFO trainer.py:726 -- Current log_level is ERROR. For more information, set 'log_level': 'INFO' / 'DEBUG' or use the -v and -vv flags.\n"
     ]
    },
    {
     "data": {
      "application/vnd.jupyter.widget-view+json": {
       "model_id": "f6c4b33527a147efa66d4c78333447f4",
       "version_major": 2,
       "version_minor": 0
      },
      "text/plain": [
       "       └── R2D2_tiny_0:   0%|          | 0/10 [00:00<?, ?it/s]"
      ]
     },
     "metadata": {},
     "output_type": "display_data"
    },
    {
     "name": "stderr",
     "output_type": "stream",
     "text": [
      "2021-09-22 13:31:27,330\tINFO trainable.py:382 -- Restored on 172.17.0.3 from checkpoint: R2D2_tiny_0/checkpoint_000010/checkpoint-10\n",
      "2021-09-22 13:31:27,332\tINFO trainable.py:390 -- Current state after restoring: {'_iteration': 10, '_timesteps_total': None, '_time_total': 48.034889936447144, '_episodes_total': 794}\n"
     ]
    },
    {
     "data": {
      "application/vnd.jupyter.widget-view+json": {
       "model_id": "a6117bc0bd2b44a8a98ce5a70bf47e72",
       "version_major": 2,
       "version_minor": 0
      },
      "text/plain": [
       "       └── R2D2_tiny_1:   0%|          | 0/10 [00:00<?, ?it/s]"
      ]
     },
     "metadata": {},
     "output_type": "display_data"
    },
    {
     "name": "stderr",
     "output_type": "stream",
     "text": [
      "2021-09-22 13:32:26,918\tINFO trainable.py:382 -- Restored on 172.17.0.3 from checkpoint: R2D2_tiny_1/checkpoint_000010/checkpoint-10\n",
      "2021-09-22 13:32:26,920\tINFO trainable.py:390 -- Current state after restoring: {'_iteration': 10, '_timesteps_total': None, '_time_total': 52.99918007850647, '_episodes_total': 773}\n"
     ]
    },
    {
     "data": {
      "application/vnd.jupyter.widget-view+json": {
       "model_id": "5e553df13f3f4eaaad5de928c9d7353c",
       "version_major": 2,
       "version_minor": 0
      },
      "text/plain": [
       "       └── R2D2_tiny_2:   0%|          | 0/10 [00:00<?, ?it/s]"
      ]
     },
     "metadata": {},
     "output_type": "display_data"
    },
    {
     "name": "stderr",
     "output_type": "stream",
     "text": [
      "2021-09-22 13:33:31,228\tINFO trainable.py:382 -- Restored on 172.17.0.3 from checkpoint: R2D2_tiny_2/checkpoint_000010/checkpoint-10\n",
      "2021-09-22 13:33:31,233\tINFO trainable.py:390 -- Current state after restoring: {'_iteration': 10, '_timesteps_total': None, '_time_total': 56.07216429710388, '_episodes_total': 854}\n"
     ]
    },
    {
     "data": {
      "application/vnd.jupyter.widget-view+json": {
       "model_id": "d83f1de686724e47b0bfaefd1f5c526a",
       "version_major": 2,
       "version_minor": 0
      },
      "text/plain": [
       "       └── R2D2_tiny_3:   0%|          | 0/10 [00:00<?, ?it/s]"
      ]
     },
     "metadata": {},
     "output_type": "display_data"
    },
    {
     "name": "stderr",
     "output_type": "stream",
     "text": [
      "2021-09-22 13:34:35,183\tINFO trainable.py:382 -- Restored on 172.17.0.3 from checkpoint: R2D2_tiny_3/checkpoint_000010/checkpoint-10\n",
      "2021-09-22 13:34:35,186\tINFO trainable.py:390 -- Current state after restoring: {'_iteration': 10, '_timesteps_total': None, '_time_total': 58.35042881965637, '_episodes_total': 768}\n"
     ]
    },
    {
     "data": {
      "application/vnd.jupyter.widget-view+json": {
       "model_id": "7600a4e192c74f06adec792b3ea3ea6e",
       "version_major": 2,
       "version_minor": 0
      },
      "text/plain": [
       "       └── R2D2_tiny_6:   0%|          | 0/10 [00:00<?, ?it/s]"
      ]
     },
     "metadata": {},
     "output_type": "display_data"
    },
    {
     "name": "stderr",
     "output_type": "stream",
     "text": [
      "2021-09-22 13:35:46,223\tINFO trainable.py:382 -- Restored on 172.17.0.3 from checkpoint: R2D2_tiny_6/checkpoint_000010/checkpoint-10\n",
      "2021-09-22 13:35:46,226\tINFO trainable.py:390 -- Current state after restoring: {'_iteration': 10, '_timesteps_total': None, '_time_total': 63.84400486946106, '_episodes_total': 778}\n"
     ]
    },
    {
     "data": {
      "application/vnd.jupyter.widget-view+json": {
       "model_id": "501117c4cbeb40698907644fd87f0cb7",
       "version_major": 2,
       "version_minor": 0
      },
      "text/plain": [
       "       └── R2D2_tiny_7:   0%|          | 0/10 [00:00<?, ?it/s]"
      ]
     },
     "metadata": {},
     "output_type": "display_data"
    },
    {
     "name": "stderr",
     "output_type": "stream",
     "text": [
      "2021-09-22 13:37:00,485\tINFO trainable.py:382 -- Restored on 172.17.0.3 from checkpoint: R2D2_tiny_7/checkpoint_000010/checkpoint-10\n",
      "2021-09-22 13:37:00,487\tINFO trainable.py:390 -- Current state after restoring: {'_iteration': 10, '_timesteps_total': None, '_time_total': 66.60346364974976, '_episodes_total': 757}\n"
     ]
    },
    {
     "data": {
      "application/vnd.jupyter.widget-view+json": {
       "model_id": "0068659ee12545fdbac261d0e89e7fa8",
       "version_major": 2,
       "version_minor": 0
      },
      "text/plain": [
       "       └── R2D2_tiny_11:   0%|          | 0/10 [00:00<?, ?it/s]"
      ]
     },
     "metadata": {},
     "output_type": "display_data"
    },
    {
     "name": "stderr",
     "output_type": "stream",
     "text": [
      "2021-09-22 13:38:17,557\tINFO trainable.py:382 -- Restored on 172.17.0.3 from checkpoint: R2D2_tiny_11/checkpoint_000010/checkpoint-10\n",
      "2021-09-22 13:38:17,559\tINFO trainable.py:390 -- Current state after restoring: {'_iteration': 10, '_timesteps_total': None, '_time_total': 69.02725172042847, '_episodes_total': 784}\n"
     ]
    },
    {
     "data": {
      "application/vnd.jupyter.widget-view+json": {
       "model_id": "1ffadc2c30814dffbfa99873ca85054f",
       "version_major": 2,
       "version_minor": 0
      },
      "text/plain": [
       "       └── R2D2_tiny_28:   0%|          | 0/10 [00:00<?, ?it/s]"
      ]
     },
     "metadata": {},
     "output_type": "display_data"
    },
    {
     "name": "stderr",
     "output_type": "stream",
     "text": [
      "2021-09-22 13:39:41,907\tINFO trainable.py:382 -- Restored on 172.17.0.3 from checkpoint: R2D2_tiny_28/checkpoint_000010/checkpoint-10\n",
      "2021-09-22 13:39:41,912\tINFO trainable.py:390 -- Current state after restoring: {'_iteration': 10, '_timesteps_total': None, '_time_total': 76.70620536804199, '_episodes_total': 745}\n"
     ]
    },
    {
     "data": {
      "application/vnd.jupyter.widget-view+json": {
       "model_id": "a55931139d9b474d9f1ff7c04a759edb",
       "version_major": 2,
       "version_minor": 0
      },
      "text/plain": [
       "       └── R2D2_tiny_42:   0%|          | 0/10 [00:00<?, ?it/s]"
      ]
     },
     "metadata": {},
     "output_type": "display_data"
    },
    {
     "name": "stderr",
     "output_type": "stream",
     "text": [
      "2021-09-22 13:41:19,673\tINFO trainable.py:382 -- Restored on 172.17.0.3 from checkpoint: R2D2_tiny_42/checkpoint_000010/checkpoint-10\n",
      "2021-09-22 13:41:19,676\tINFO trainable.py:390 -- Current state after restoring: {'_iteration': 10, '_timesteps_total': None, '_time_total': 88.33063673973083, '_episodes_total': 765}\n"
     ]
    },
    {
     "data": {
      "application/vnd.jupyter.widget-view+json": {
       "model_id": "6da4a1e159c34af89570059a8aea5b94",
       "version_major": 2,
       "version_minor": 0
      },
      "text/plain": [
       "       └── R2D2_tiny_1337:   0%|          | 0/10 [00:00<?, ?it/s]"
      ]
     },
     "metadata": {},
     "output_type": "display_data"
    },
    {
     "name": "stderr",
     "output_type": "stream",
     "text": [
      "2021-09-22 13:42:47,467\tINFO trainable.py:382 -- Restored on 172.17.0.3 from checkpoint: R2D2_tiny_1337/checkpoint_000010/checkpoint-10\n",
      "2021-09-22 13:42:47,470\tINFO trainable.py:390 -- Current state after restoring: {'_iteration': 10, '_timesteps_total': None, '_time_total': 80.3370463848114, '_episodes_total': 733}\n"
     ]
    },
    {
     "data": {
      "application/vnd.jupyter.widget-view+json": {
       "model_id": "7deadec0afbf40ec817ad55bbb0f5724",
       "version_major": 2,
       "version_minor": 0
      },
      "text/plain": [
       "    └── rule-based@tiny:   0%|          | 0/10 [00:00<?, ?it/s]"
      ]
     },
     "metadata": {},
     "output_type": "display_data"
    },
    {
     "name": "stdout",
     "output_type": "stream",
     "text": [
      "    └── random@tiny:   0%|          | 0/10 [00:00<?, ?it/s]\n",
      "└── small:   0%|          | 0/3 [00:00<?, ?it/s]\n",
      "    └── R2D2@small:   0%|          | 0/10 [00:00<?, ?it/s]\n",
      "       └── R2D2_small_0:   0%|          | 0/10 [00:00<?, ?it/s]\n"
     ]
    },
    {
     "name": "stderr",
     "output_type": "stream",
     "text": [
      "ERROR:root:Internal Python error in the inspect module.\n",
      "Below is the traceback from this internal error.\n",
      "\n",
      "\n",
      "KeyboardInterrupt\n",
      "\n"
     ]
    }
   ],
   "source": [
    "savename = \"returns-agent-eval.csv\"\n",
    "\n",
    "df = generate(savename) if not os.path.exists(savename) else pd.read_csv(savename, index_col=0)"
   ]
  },
  {
   "cell_type": "code",
   "execution_count": null,
   "id": "dd5ae506-5fc6-4fcf-b1fe-91a2df9f12ca",
   "metadata": {},
   "outputs": [],
   "source": [
    "df"
   ]
  },
  {
   "cell_type": "code",
   "execution_count": null,
   "id": "8c984bbe-82c6-4dca-8436-6d78cf97d68b",
   "metadata": {},
   "outputs": [],
   "source": [
    "sns.set(style=\"darkgrid\", rc={\"figure.figsize\": (12, 8)})"
   ]
  },
  {
   "cell_type": "code",
   "execution_count": null,
   "id": "f5424a47-3486-472b-a604-779d30ca7b88",
   "metadata": {},
   "outputs": [],
   "source": [
    "g = sns.lineplot(data=df, x=\"Graph size\", y=\"Returns\", hue=\"Agent\", ci=\"sd\")\n",
    "g.legend(title=\"Agent\", loc=\"lower left\")\n",
    "g.set_title(\"Returns vs Size (random attacker)\")"
   ]
  },
  {
   "cell_type": "code",
   "execution_count": null,
   "id": "0fa2d787-49db-4d90-a8ae-a69d97c085f5",
   "metadata": {},
   "outputs": [],
   "source": [
    "g = sns.lineplot(data=df, x=\"Graph size\", y=\"Episode lengths\", hue=\"Agent\", ci=\"sd\")\n",
    "g.legend(title=\"Agent\", loc=\"upper left\")\n",
    "g.set_title(\"Episode lengths vs Size (random attacker)\")"
   ]
  },
  {
   "cell_type": "code",
   "execution_count": null,
   "id": "f3b6d9d1-2b14-4e48-a4a9-85785a112121",
   "metadata": {},
   "outputs": [],
   "source": [
    "pd.set_option(\"display.max_columns\", 32)\n",
    "df.groupby(\"Agent\").describe()"
   ]
  }
 ],
 "metadata": {
  "kernelspec": {
   "display_name": "Python 3 (ipykernel)",
   "language": "python",
   "name": "python3"
  },
  "language_info": {
   "codemirror_mode": {
    "name": "ipython",
    "version": 3
   },
   "file_extension": ".py",
   "mimetype": "text/x-python",
   "name": "python",
   "nbconvert_exporter": "python",
   "pygments_lexer": "ipython3",
   "version": "3.8.12"
  }
 },
 "nbformat": 4,
 "nbformat_minor": 5
}
