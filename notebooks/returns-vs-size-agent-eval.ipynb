{
 "cells": [
  {
   "cell_type": "code",
   "execution_count": 1,
   "id": "8fda8002-e229-4373-8431-b4458568218a",
   "metadata": {},
   "outputs": [],
   "source": [
    "import os\n",
    "\n",
    "import gym\n",
    "import numpy as np\n",
    "import pandas as pd\n",
    "import seaborn as sns\n",
    "\n",
    "from ray import init, rllib, tune, shutdown"
   ]
  },
  {
   "cell_type": "code",
   "execution_count": 2,
   "id": "2b148c8c-c3e1-4a6e-9f23-d9974348334d",
   "metadata": {},
   "outputs": [],
   "source": [
    "from attack_simulator.agents import DEFENDERS\n",
    "from attack_simulator.env import AttackSimulationEnv\n",
    "from attack_simulator.graph import AttackGraph, SIZES"
   ]
  },
  {
   "cell_type": "code",
   "execution_count": 3,
   "id": "96d59b78-7bc4-48c5-9d53-a0ed7a73f5b1",
   "metadata": {},
   "outputs": [],
   "source": [
    "class AgentPolicy(rllib.policy.Policy):\n",
    "    def __init__(self, observation_space, action_space, config):\n",
    "        super().__init__(observation_space, action_space, config)\n",
    "        agent_config = dict(\n",
    "            input_dim=observation_space.shape[0],\n",
    "            num_actions=action_space.n,\n",
    "            random_seed=config[\"seed\"],\n",
    "            attack_graph=config[\"env_config\"][\"attack_graph\"],\n",
    "        )\n",
    "        self._agent = DEFENDERS[config[\"agent_type\"]](agent_config)\n",
    "\n",
    "    def compute_actions(self, observations, *args, **kwargs):\n",
    "        # FIXME: use a `numpy` array as a temporary workaround for\n",
    "        #        https://github.com/ray-project/ray/issues/10100\n",
    "        return np.array([self._agent.act(obs) for obs in observations]), [], {}\n",
    "\n",
    "    def get_weights(self):\n",
    "        return {}\n",
    "\n",
    "    def set_weights(self, weights):\n",
    "        pass\n",
    "\n",
    "\n",
    "def template_agent(agent_type):\n",
    "    default_config = rllib.agents.trainer.with_common_config(dict(agent_type=agent_type))\n",
    "    return rllib.agents.trainer_template.build_trainer(\n",
    "        name=agent_type,\n",
    "        default_policy=AgentPolicy,\n",
    "        default_config=default_config,\n",
    "    )"
   ]
  },
  {
   "cell_type": "code",
   "execution_count": 4,
   "id": "7c41ecb4-e26b-46ad-a2d6-bd09cf3b7962",
   "metadata": {},
   "outputs": [],
   "source": [
    "from copy import deepcopy\n",
    "\n",
    "\n",
    "class AttackSimAlphaZeroEnv(AttackSimulationEnv):\n",
    "    def set_state(self, state):\n",
    "        (\n",
    "            self.simulation_time,\n",
    "            self.ttc_remaining,\n",
    "            self.attack_surface,\n",
    "            self.attack_state,\n",
    "            self.service_state,\n",
    "            self._observation,\n",
    "            self.rng,\n",
    "            self.attacker,\n",
    "        ) = deepcopy(state)\n",
    "\n",
    "    def get_state(self):\n",
    "        state = (\n",
    "            self.simulation_time,\n",
    "            self.ttc_remaining,\n",
    "            self.attack_surface,\n",
    "            self.attack_state,\n",
    "            self.service_state,\n",
    "            self._observation,\n",
    "            self.rng,\n",
    "            self.attacker,\n",
    "        )\n",
    "        return deepcopy(state)\n",
    "    \n",
    "\n",
    "class AlphaZeroWrapper(gym.Env):\n",
    "    def __init__(self, config):\n",
    "        self.env = config[\"env_class\"](config)\n",
    "        self.action_space = self.env.action_space\n",
    "        assert isinstance(\n",
    "            self.action_space, gym.spaces.Discrete\n",
    "        ), \"AlphaZero requires a Discrete action space\"\n",
    "        shape = (self.action_space.n,)\n",
    "        self.observation_space = gym.spaces.Dict(\n",
    "            dict(obs=self.env.observation_space, action_mask=gym.spaces.Box(0, 1, shape))\n",
    "        )\n",
    "        self.reward = 0\n",
    "        self.mask = np.full(shape, 1, dtype=\"int8\")\n",
    "\n",
    "    def reset(self):\n",
    "        self.reward = 0\n",
    "        observation = self.env.reset()\n",
    "        return dict(obs=observation, action_mask=self.mask)\n",
    "\n",
    "    def step(self, action):\n",
    "        observation, reward, done, info = self.env.step(action)\n",
    "        self.reward += reward\n",
    "        reward = self.reward if done else 0\n",
    "        return dict(obs=observation, action_mask=self.mask), reward, done, info\n",
    "\n",
    "    def set_state(self, state):\n",
    "        env_state, self.reward = state\n",
    "        self.env.set_state(env_state)\n",
    "        return dict(obs=self.env.observation, action_mask=self.mask)\n",
    "\n",
    "    def get_state(self):\n",
    "        return self.env.get_state(), self.reward\n",
    "\n",
    "    def close(self):\n",
    "        self.env.close()\n",
    "\n",
    "    def render(self, mode=None):\n",
    "        self.env.render(mode)\n",
    "\n",
    "    def seed(self, seed=None):\n",
    "        self.env.seed(seed)"
   ]
  },
  {
   "cell_type": "code",
   "execution_count": 5,
   "id": "c397d725-6f0e-43c4-9fc7-5f13e41e11f3",
   "metadata": {},
   "outputs": [],
   "source": [
    "# 'contrib/AlphaZero' does NOT appear to work without its custom dense model\n",
    "from ray.rllib.contrib.alpha_zero.models.custom_torch_models import DenseModel\n",
    "\n",
    "rllib.models.ModelCatalog.register_custom_model(\"alpha_zero_dense_model\", DenseModel)"
   ]
  },
  {
   "cell_type": "code",
   "execution_count": 6,
   "id": "7211eb85-4419-46a1-9848-876e074e8033",
   "metadata": {},
   "outputs": [],
   "source": [
    "# work around: https://github.com/ray-project/ray/issues/17618\n",
    "\n",
    "from IPython.core.interactiveshell import InteractiveShell\n",
    "\n",
    "\n",
    "class keep_ipython_sane:\n",
    "    def __enter__(self):\n",
    "        self.instance = InteractiveShell.instance()\n",
    "        \n",
    "    def __exit__(self, *args, **kwargs):\n",
    "        # feel free to improve with error handling, etc.\n",
    "        InteractiveShell._instance = self.instance"
   ]
  },
  {
   "cell_type": "code",
   "execution_count": 7,
   "id": "1f262a77-9f87-436a-8208-a3f1bad01b2f",
   "metadata": {},
   "outputs": [],
   "source": [
    "if os.path.isdir(\"/var/run/secrets/kubernetes.io\"):  # inside k8s pod\n",
    "    args = dict(address=\"auto\")\n",
    "else:\n",
    "    # listen on all interfaces inside a container for port-forwarding to work\n",
    "    dashboard_host = \"0.0.0.0\" if os.path.exists(\"/.dockerenv\") else \"127.0.0.1\"\n",
    "    args = dict(num_cpus=4, dashboard_host=dashboard_host)\n",
    "\n",
    "# ALTERNATIVE: use the \"Ray client\" to connect to a remote cluster\n",
    "# Unfortunately, JupyterNotebookReporter displays an object reference\n",
    "# <IPython.core.display.HTML object> instead of content...\n",
    "# --- --- ---\n",
    "#\n",
    "# from ray.util.client import worker\n",
    "#\n",
    "# worker.INITIAL_TIMEOUT_SEC = worker.MAX_TIMEOUT_SEC = 1\n",
    "#\n",
    "# ray_client_server = 'host.docker.internal' if os.path.exists(\"/.dockerenv\") else '127.0.0.1'\n",
    "# try:\n",
    "#     init(address=f'ray://{ray_client_server}:10001')\n",
    "# except Connection Error:\n",
    "#     pass  # TODO: try something else..."
   ]
  },
  {
   "cell_type": "code",
   "execution_count": 8,
   "id": "07fb8a4c-6aa2-4e41-b86c-e622f9b2c27c",
   "metadata": {},
   "outputs": [
    {
     "name": "stdout",
     "output_type": "stream",
     "text": [
      "AttackGraph(en2720.yaml[tiny], 2 services, 7 attack steps)\n",
      "AttackGraph(en2720.yaml[small], 5 services, 27 attack steps)\n",
      "AttackGraph(en2720.yaml[medium-small], 9 services, 44 attack steps)\n",
      "AttackGraph(en2720.yaml[medium], 13 services, 56 attack steps)\n",
      "AttackGraph(en2720.yaml[large], 16 services, 62 attack steps)\n",
      "AttackGraph(en2720.yaml[extra-large], 16 services, 65 attack steps)\n",
      "AttackGraph(en2720.yaml[full], 18 services, 78 attack steps)\n"
     ]
    }
   ],
   "source": [
    "from ray.tune.utils.trainable import TrainableUtil\n",
    "from tqdm.auto import tqdm\n",
    "\n",
    "rename = dict(\n",
    "    agent_type=\"Agent\",\n",
    "    graph_size=\"Graph size\",\n",
    "    episode_length=\"Episode lengths\",\n",
    "    episode_reward=\"Returns\",\n",
    ")\n",
    "\n",
    "agent_types = [\"contrib/AlphaZero\", \"R2D2\", \"rule-based\", \"random\"]\n",
    "graphs = [AttackGraph(dict(graph_size=size)) for size in SIZES]\n",
    "seeds = [0, 1, 2, 3, 6, 7, 11, 28, 42, 1337]\n",
    "iterations = 10\n",
    "rollouts = 10\n",
    "\n",
    "train_config = dict(\n",
    "    num_workers=4,\n",
    "    rollout_fragment_length=32,\n",
    "    train_batch_size=640,\n",
    "    buffer_size=512,\n",
    "    batch_mode=\"complete_episodes\",\n",
    ")\n",
    "eval_config = dict(\n",
    "    evaluation_interval=1,\n",
    "    evaluation_num_workers=1,\n",
    "    evaluation_config=dict(explore=False, replay_sequence_length=-1),\n",
    "    evaluation_num_episodes=rollouts,\n",
    ")\n",
    "\n",
    "def generate(savename):\n",
    "    init(**args)\n",
    "    \n",
    "    frames = []\n",
    "    for graph in tqdm(graphs, 'graphs'):\n",
    "        for agent_type in tqdm(agent_types, f'└── {graph.graph_size}'):\n",
    "            agent_name = agent_type.split(\"/\")[-1]\n",
    "            for seed in tqdm(seeds, f'\\u00a0\\u2001\\u2001\\u2001└── {agent_name}@{graph.graph_size}'):\n",
    "                config = dict(\n",
    "                    framework=\"torch\",\n",
    "                    env=AttackSimulationEnv,\n",
    "                    env_config=dict(attack_graph=graph),\n",
    "                    seed=seed,\n",
    "                    log_level='ERROR',\n",
    "                )\n",
    "                if agent_type in DEFENDERS:\n",
    "                    config.update(eval_config)\n",
    "                    with keep_ipython_sane():\n",
    "                        agent = template_agent(agent_type)(config=config)\n",
    "                else:\n",
    "                    if agent_type == \"contrib/AlphaZero\":\n",
    "                        config[\"env_config\"].update(env_class=AttackSimAlphaZeroEnv)\n",
    "                        config.update(\n",
    "                            env=AlphaZeroWrapper,\n",
    "                            model=dict(custom_model=\"alpha_zero_dense_model\"),\n",
    "                        )\n",
    "                    if agent_type == \"R2D2\":\n",
    "                        config.update(model=dict(use_lstm=True))\n",
    "\n",
    "                    name = f'{agent_name}_{graph.graph_size}_{seed}'\n",
    "                    if not os.path.exists(name):\n",
    "                        config.update(train_config)\n",
    "                        with keep_ipython_sane():\n",
    "                            agent = rllib.agents.registry.get_trainer_class(agent_type)(config=config)\n",
    "                        for _ in tqdm(range(iterations), f'\\u00a0\\u2001\\u2001\\u2001\\u2001\\u2001\\u2001└── {name}'):\n",
    "                            results = agent.train()\n",
    "                            # TODO: break based on results?\n",
    "                        agent.save(name)\n",
    "                        del agent\n",
    "\n",
    "                    config.update(eval_config, num_workers=0)\n",
    "                    with keep_ipython_sane():\n",
    "                        agent = rllib.agents.registry.get_trainer_class(agent_type)(config=config)\n",
    "                        checkpoint_path = TrainableUtil.get_checkpoints_paths(name).chkpt_path[0]\n",
    "                        agent.restore(checkpoint_path)\n",
    "\n",
    "                stats = agent.evaluate()['evaluation']['hist_stats']\n",
    "                frame = pd.DataFrame(dict(agent_type=agent_type, graph_size=graph.num_attacks, **stats))\n",
    "                frames.append(frame)\n",
    "    shutdown()\n",
    "    results_df = pd.concat(frames, ignore_index=True).rename(columns=rename)\n",
    "    results_df.to_csv(savename)\n",
    "    return results_df"
   ]
  },
  {
   "cell_type": "code",
   "execution_count": null,
   "id": "8b7a1282-533b-4d8a-bb9e-f6c67464b470",
   "metadata": {},
   "outputs": [
    {
     "name": "stderr",
     "output_type": "stream",
     "text": [
      "2021-09-30 00:38:36,796\tINFO worker.py:825 -- Connecting to existing Ray cluster at address: 10.28.0.20:6379\n"
     ]
    },
    {
     "data": {
      "application/vnd.jupyter.widget-view+json": {
       "model_id": "c3f46f001137469793f214187f31f1c8",
       "version_major": 2,
       "version_minor": 0
      },
      "text/plain": [
       "graphs:   0%|          | 0/7 [00:00<?, ?it/s]"
      ]
     },
     "metadata": {},
     "output_type": "display_data"
    },
    {
     "data": {
      "application/vnd.jupyter.widget-view+json": {
       "model_id": "23930256853a4c318274f18900196f75",
       "version_major": 2,
       "version_minor": 0
      },
      "text/plain": [
       "└── tiny:   0%|          | 0/4 [00:00<?, ?it/s]"
      ]
     },
     "metadata": {},
     "output_type": "display_data"
    },
    {
     "data": {
      "application/vnd.jupyter.widget-view+json": {
       "model_id": "1f4da2fbe06147d9ae11d66f93f25171",
       "version_major": 2,
       "version_minor": 0
      },
      "text/plain": [
       "    └── AlphaZero@tiny:   0%|          | 0/10 [00:00<?, ?it/s]"
      ]
     },
     "metadata": {},
     "output_type": "display_data"
    },
    {
     "name": "stderr",
     "output_type": "stream",
     "text": [
      "2021-09-30 00:38:37,087\tWARNING deprecation.py:38 -- DeprecationWarning: `simple_optimizer` has been deprecated. This will raise an error in the future!\n",
      "2021-09-30 00:38:37,090\tINFO trainer.py:726 -- Current log_level is ERROR. For more information, set 'log_level': 'INFO' / 'DEBUG' or use the -v and -vv flags.\n",
      "2021-09-30 00:38:40,555\tINFO trainable.py:382 -- Restored on 10.28.0.20 from checkpoint: AlphaZero_tiny_0/checkpoint_000010/checkpoint-10\n",
      "2021-09-30 00:38:40,557\tINFO trainable.py:390 -- Current state after restoring: {'_iteration': 10, '_timesteps_total': None, '_time_total': 100.65515375137329, '_episodes_total': 483}\n",
      "2021-09-30 00:40:34,203\tINFO trainable.py:382 -- Restored on 10.28.0.20 from checkpoint: AlphaZero_tiny_1/checkpoint_000010/checkpoint-10\n",
      "2021-09-30 00:40:34,205\tINFO trainable.py:390 -- Current state after restoring: {'_iteration': 10, '_timesteps_total': None, '_time_total': 103.21623516082764, '_episodes_total': 530}\n",
      "2021-09-30 00:43:03,922\tINFO trainable.py:382 -- Restored on 10.28.0.20 from checkpoint: AlphaZero_tiny_2/checkpoint_000010/checkpoint-10\n",
      "2021-09-30 00:43:03,924\tINFO trainable.py:390 -- Current state after restoring: {'_iteration': 10, '_timesteps_total': None, '_time_total': 100.83556795120239, '_episodes_total': 531}\n",
      "2021-09-30 00:45:40,669\tINFO trainable.py:382 -- Restored on 10.28.0.20 from checkpoint: AlphaZero_tiny_3/checkpoint_000010/checkpoint-10\n",
      "2021-09-30 00:45:40,671\tINFO trainable.py:390 -- Current state after restoring: {'_iteration': 10, '_timesteps_total': None, '_time_total': 95.9422836303711, '_episodes_total': 513}\n",
      "2021-09-30 00:47:42,111\tINFO trainable.py:382 -- Restored on 10.28.0.20 from checkpoint: AlphaZero_tiny_6/checkpoint_000010/checkpoint-10\n",
      "2021-09-30 00:47:42,113\tINFO trainable.py:390 -- Current state after restoring: {'_iteration': 10, '_timesteps_total': None, '_time_total': 97.68994212150574, '_episodes_total': 511}\n",
      "2021-09-30 00:50:01,655\tINFO trainable.py:382 -- Restored on 10.28.0.20 from checkpoint: AlphaZero_tiny_7/checkpoint_000010/checkpoint-10\n",
      "2021-09-30 00:50:01,657\tINFO trainable.py:390 -- Current state after restoring: {'_iteration': 10, '_timesteps_total': None, '_time_total': 86.86999893188477, '_episodes_total': 476}\n",
      "2021-09-30 00:52:38,296\tINFO trainable.py:382 -- Restored on 10.28.0.20 from checkpoint: AlphaZero_tiny_11/checkpoint_000010/checkpoint-10\n",
      "2021-09-30 00:52:38,298\tINFO trainable.py:390 -- Current state after restoring: {'_iteration': 10, '_timesteps_total': None, '_time_total': 84.36808490753174, '_episodes_total': 462}\n",
      "2021-09-30 00:56:17,933\tINFO trainable.py:382 -- Restored on 10.28.0.20 from checkpoint: AlphaZero_tiny_28/checkpoint_000010/checkpoint-10\n",
      "2021-09-30 00:56:17,936\tINFO trainable.py:390 -- Current state after restoring: {'_iteration': 10, '_timesteps_total': None, '_time_total': 85.58162999153137, '_episodes_total': 474}\n",
      "2021-09-30 00:58:54,135\tINFO trainable.py:382 -- Restored on 10.28.0.20 from checkpoint: AlphaZero_tiny_42/checkpoint_000010/checkpoint-10\n",
      "2021-09-30 00:58:54,137\tINFO trainable.py:390 -- Current state after restoring: {'_iteration': 10, '_timesteps_total': None, '_time_total': 91.73861455917358, '_episodes_total': 445}\n",
      "2021-09-30 01:01:03,782\tINFO trainable.py:382 -- Restored on 10.28.0.20 from checkpoint: AlphaZero_tiny_1337/checkpoint_000010/checkpoint-10\n",
      "2021-09-30 01:01:03,784\tINFO trainable.py:390 -- Current state after restoring: {'_iteration': 10, '_timesteps_total': None, '_time_total': 102.83843994140625, '_episodes_total': 530}\n"
     ]
    },
    {
     "data": {
      "application/vnd.jupyter.widget-view+json": {
       "model_id": "5abff62801394cdaaa06d4fb1ec105e9",
       "version_major": 2,
       "version_minor": 0
      },
      "text/plain": [
       "    └── R2D2@tiny:   0%|          | 0/10 [00:00<?, ?it/s]"
      ]
     },
     "metadata": {},
     "output_type": "display_data"
    },
    {
     "name": "stderr",
     "output_type": "stream",
     "text": [
      "2021-09-30 01:03:22,768\tINFO trainable.py:382 -- Restored on 10.28.0.20 from checkpoint: R2D2_tiny_0/checkpoint_000010/checkpoint-10\n",
      "2021-09-30 01:03:22,770\tINFO trainable.py:390 -- Current state after restoring: {'_iteration': 10, '_timesteps_total': None, '_time_total': 32.59596228599548, '_episodes_total': 809}\n",
      "2021-09-30 01:03:30,125\tINFO trainable.py:382 -- Restored on 10.28.0.20 from checkpoint: R2D2_tiny_1/checkpoint_000010/checkpoint-10\n",
      "2021-09-30 01:03:30,128\tINFO trainable.py:390 -- Current state after restoring: {'_iteration': 10, '_timesteps_total': None, '_time_total': 36.03712821006775, '_episodes_total': 784}\n",
      "2021-09-30 01:03:39,158\tINFO trainable.py:382 -- Restored on 10.28.0.20 from checkpoint: R2D2_tiny_2/checkpoint_000010/checkpoint-10\n",
      "2021-09-30 01:03:39,160\tINFO trainable.py:390 -- Current state after restoring: {'_iteration': 10, '_timesteps_total': None, '_time_total': 42.56101584434509, '_episodes_total': 905}\n",
      "2021-09-30 01:03:43,113\tINFO trainable.py:382 -- Restored on 10.28.0.20 from checkpoint: R2D2_tiny_3/checkpoint_000010/checkpoint-10\n",
      "2021-09-30 01:03:43,116\tINFO trainable.py:390 -- Current state after restoring: {'_iteration': 10, '_timesteps_total': None, '_time_total': 44.51145672798157, '_episodes_total': 791}\n",
      "2021-09-30 01:03:50,917\tINFO trainable.py:382 -- Restored on 10.28.0.20 from checkpoint: R2D2_tiny_6/checkpoint_000010/checkpoint-10\n",
      "2021-09-30 01:03:50,919\tINFO trainable.py:390 -- Current state after restoring: {'_iteration': 10, '_timesteps_total': None, '_time_total': 47.51689553260803, '_episodes_total': 899}\n",
      "2021-09-30 01:03:55,074\tINFO trainable.py:382 -- Restored on 10.28.0.20 from checkpoint: R2D2_tiny_7/checkpoint_000010/checkpoint-10\n",
      "2021-09-30 01:03:55,076\tINFO trainable.py:390 -- Current state after restoring: {'_iteration': 10, '_timesteps_total': None, '_time_total': 48.807374000549316, '_episodes_total': 773}\n",
      "2021-09-30 01:04:01,698\tINFO trainable.py:382 -- Restored on 10.28.0.20 from checkpoint: R2D2_tiny_11/checkpoint_000010/checkpoint-10\n",
      "2021-09-30 01:04:01,700\tINFO trainable.py:390 -- Current state after restoring: {'_iteration': 10, '_timesteps_total': None, '_time_total': 59.89128661155701, '_episodes_total': 910}\n",
      "2021-09-30 01:04:05,747\tINFO trainable.py:382 -- Restored on 10.28.0.20 from checkpoint: R2D2_tiny_28/checkpoint_000010/checkpoint-10\n",
      "2021-09-30 01:04:05,749\tINFO trainable.py:390 -- Current state after restoring: {'_iteration': 10, '_timesteps_total': None, '_time_total': 67.67000389099121, '_episodes_total': 790}\n",
      "2021-09-30 01:04:12,837\tINFO trainable.py:382 -- Restored on 10.28.0.20 from checkpoint: R2D2_tiny_42/checkpoint_000010/checkpoint-10\n",
      "2021-09-30 01:04:12,839\tINFO trainable.py:390 -- Current state after restoring: {'_iteration': 10, '_timesteps_total': None, '_time_total': 85.1868941783905, '_episodes_total': 823}\n",
      "2021-09-30 01:04:18,368\tINFO trainable.py:382 -- Restored on 10.28.0.20 from checkpoint: R2D2_tiny_1337/checkpoint_000010/checkpoint-10\n",
      "2021-09-30 01:04:18,370\tINFO trainable.py:390 -- Current state after restoring: {'_iteration': 10, '_timesteps_total': None, '_time_total': 105.42451429367065, '_episodes_total': 909}\n"
     ]
    },
    {
     "data": {
      "application/vnd.jupyter.widget-view+json": {
       "model_id": "4e7e2636181c42c3a516ddbf865dc46b",
       "version_major": 2,
       "version_minor": 0
      },
      "text/plain": [
       "    └── rule-based@tiny:   0%|          | 0/10 [00:00<?, ?it/s]"
      ]
     },
     "metadata": {},
     "output_type": "display_data"
    },
    {
     "data": {
      "application/vnd.jupyter.widget-view+json": {
       "model_id": "7b6e3fb2ec604f48a72f7b60e7713bbe",
       "version_major": 2,
       "version_minor": 0
      },
      "text/plain": [
       "    └── random@tiny:   0%|          | 0/10 [00:00<?, ?it/s]"
      ]
     },
     "metadata": {},
     "output_type": "display_data"
    },
    {
     "data": {
      "application/vnd.jupyter.widget-view+json": {
       "model_id": "cff496c152b74275b4e8f2f26b558b2d",
       "version_major": 2,
       "version_minor": 0
      },
      "text/plain": [
       "└── small:   0%|          | 0/4 [00:00<?, ?it/s]"
      ]
     },
     "metadata": {},
     "output_type": "display_data"
    },
    {
     "data": {
      "application/vnd.jupyter.widget-view+json": {
       "model_id": "e3073ad2d70445dd8ec385daba01f1ae",
       "version_major": 2,
       "version_minor": 0
      },
      "text/plain": [
       "    └── AlphaZero@small:   0%|          | 0/10 [00:00<?, ?it/s]"
      ]
     },
     "metadata": {},
     "output_type": "display_data"
    },
    {
     "name": "stderr",
     "output_type": "stream",
     "text": [
      "2021-09-30 01:07:10,928\tINFO trainable.py:382 -- Restored on 10.28.0.20 from checkpoint: AlphaZero_small_0/checkpoint_000010/checkpoint-10\n",
      "2021-09-30 01:07:10,932\tINFO trainable.py:390 -- Current state after restoring: {'_iteration': 10, '_timesteps_total': None, '_time_total': 159.9058587551117, '_episodes_total': 413}\n",
      "2021-09-30 01:14:49,573\tINFO trainable.py:382 -- Restored on 10.28.0.20 from checkpoint: AlphaZero_small_1/checkpoint_000010/checkpoint-10\n",
      "2021-09-30 01:14:49,576\tINFO trainable.py:390 -- Current state after restoring: {'_iteration': 10, '_timesteps_total': None, '_time_total': 169.20812010765076, '_episodes_total': 420}\n"
     ]
    },
    {
     "data": {
      "application/vnd.jupyter.widget-view+json": {
       "model_id": "48d06c93946a46f697457e72cc4230f1",
       "version_major": 2,
       "version_minor": 0
      },
      "text/plain": [
       "       └── AlphaZero_small_2:   0%|          | 0/10 [00:00<?, ?it/s]"
      ]
     },
     "metadata": {},
     "output_type": "display_data"
    },
    {
     "name": "stderr",
     "output_type": "stream",
     "text": [
      "2021-09-30 01:22:47,823\tINFO trainable.py:382 -- Restored on 10.28.0.20 from checkpoint: AlphaZero_small_2/checkpoint_000010/checkpoint-10\n",
      "2021-09-30 01:22:47,825\tINFO trainable.py:390 -- Current state after restoring: {'_iteration': 10, '_timesteps_total': None, '_time_total': 173.27614521980286, '_episodes_total': 421}\n"
     ]
    },
    {
     "data": {
      "application/vnd.jupyter.widget-view+json": {
       "model_id": "e3995460e8ce42c5b57032bd50afdb34",
       "version_major": 2,
       "version_minor": 0
      },
      "text/plain": [
       "       └── AlphaZero_small_3:   0%|          | 0/10 [00:00<?, ?it/s]"
      ]
     },
     "metadata": {},
     "output_type": "display_data"
    },
    {
     "name": "stderr",
     "output_type": "stream",
     "text": [
      "2021-09-30 01:28:10,535\tINFO trainable.py:106 -- Trainable.setup took 17.189 seconds. If your trainable is slow to initialize, consider setting reuse_actors=True to reduce actor creation overheads.\n",
      "2021-09-30 01:28:10,819\tINFO trainable.py:382 -- Restored on 10.28.0.20 from checkpoint: AlphaZero_small_3/checkpoint_000010/checkpoint-10\n",
      "2021-09-30 01:28:10,869\tINFO trainable.py:390 -- Current state after restoring: {'_iteration': 10, '_timesteps_total': None, '_time_total': 195.68022751808167, '_episodes_total': 430}\n",
      "2021-09-30 01:38:53,394\tINFO trainable.py:106 -- Trainable.setup took 11.633 seconds. If your trainable is slow to initialize, consider setting reuse_actors=True to reduce actor creation overheads.\n"
     ]
    },
    {
     "data": {
      "application/vnd.jupyter.widget-view+json": {
       "model_id": "03e36687c5184d8d88f72cd8cdb9e7e9",
       "version_major": 2,
       "version_minor": 0
      },
      "text/plain": [
       "       └── AlphaZero_small_6:   0%|          | 0/10 [00:00<?, ?it/s]"
      ]
     },
     "metadata": {},
     "output_type": "display_data"
    },
    {
     "name": "stderr",
     "output_type": "stream",
     "text": [
      "2021-09-30 01:43:18,705\tINFO trainable.py:106 -- Trainable.setup took 16.655 seconds. If your trainable is slow to initialize, consider setting reuse_actors=True to reduce actor creation overheads.\n",
      "2021-09-30 01:43:19,106\tINFO trainable.py:382 -- Restored on 10.28.0.20 from checkpoint: AlphaZero_small_6/checkpoint_000010/checkpoint-10\n",
      "2021-09-30 01:43:19,194\tINFO trainable.py:390 -- Current state after restoring: {'_iteration': 10, '_timesteps_total': None, '_time_total': 243.63806200027466, '_episodes_total': 468}\n",
      "2021-09-30 01:55:42,003\tINFO trainable.py:106 -- Trainable.setup took 17.264 seconds. If your trainable is slow to initialize, consider setting reuse_actors=True to reduce actor creation overheads.\n"
     ]
    },
    {
     "data": {
      "application/vnd.jupyter.widget-view+json": {
       "model_id": "f573f57f61fd47078701157c5e05e275",
       "version_major": 2,
       "version_minor": 0
      },
      "text/plain": [
       "       └── AlphaZero_small_7:   0%|          | 0/10 [00:00<?, ?it/s]"
      ]
     },
     "metadata": {},
     "output_type": "display_data"
    },
    {
     "name": "stderr",
     "output_type": "stream",
     "text": [
      "2021-09-30 02:03:08,011\tINFO trainable.py:106 -- Trainable.setup took 38.835 seconds. If your trainable is slow to initialize, consider setting reuse_actors=True to reduce actor creation overheads.\n",
      "2021-09-30 02:03:08,564\tINFO trainable.py:382 -- Restored on 10.28.0.20 from checkpoint: AlphaZero_small_7/checkpoint_000010/checkpoint-10\n",
      "2021-09-30 02:03:08,590\tINFO trainable.py:390 -- Current state after restoring: {'_iteration': 10, '_timesteps_total': None, '_time_total': 401.3225677013397, '_episodes_total': 416}\n",
      "2021-09-30 02:04:33,938\tINFO trainable.py:106 -- Trainable.setup took 36.542 seconds. If your trainable is slow to initialize, consider setting reuse_actors=True to reduce actor creation overheads.\n"
     ]
    },
    {
     "data": {
      "application/vnd.jupyter.widget-view+json": {
       "model_id": "6384ddbdfc604e8ab893c2daaa5cb8e5",
       "version_major": 2,
       "version_minor": 0
      },
      "text/plain": [
       "       └── AlphaZero_small_11:   0%|          | 0/10 [00:00<?, ?it/s]"
      ]
     },
     "metadata": {},
     "output_type": "display_data"
    },
    {
     "name": "stderr",
     "output_type": "stream",
     "text": [
      "2021-09-30 02:12:46,011\tINFO trainable.py:106 -- Trainable.setup took 56.991 seconds. If your trainable is slow to initialize, consider setting reuse_actors=True to reduce actor creation overheads.\n",
      "2021-09-30 02:12:46,893\tINFO trainable.py:382 -- Restored on 10.28.0.20 from checkpoint: AlphaZero_small_11/checkpoint_000010/checkpoint-10\n",
      "2021-09-30 02:12:46,955\tINFO trainable.py:390 -- Current state after restoring: {'_iteration': 10, '_timesteps_total': None, '_time_total': 427.0717580318451, '_episodes_total': 478}\n",
      "2021-09-30 02:17:07,757\tINFO trainable.py:106 -- Trainable.setup took 54.749 seconds. If your trainable is slow to initialize, consider setting reuse_actors=True to reduce actor creation overheads.\n"
     ]
    },
    {
     "data": {
      "application/vnd.jupyter.widget-view+json": {
       "model_id": "92e31ae7b4d84ee5a98436ac50808baf",
       "version_major": 2,
       "version_minor": 0
      },
      "text/plain": [
       "       └── AlphaZero_small_28:   0%|          | 0/10 [00:00<?, ?it/s]"
      ]
     },
     "metadata": {},
     "output_type": "display_data"
    },
    {
     "name": "stderr",
     "output_type": "stream",
     "text": [
      "2021-09-30 02:26:24,896\tINFO trainable.py:106 -- Trainable.setup took 56.116 seconds. If your trainable is slow to initialize, consider setting reuse_actors=True to reduce actor creation overheads.\n",
      "2021-09-30 02:26:25,821\tINFO trainable.py:382 -- Restored on 10.28.0.20 from checkpoint: AlphaZero_small_28/checkpoint_000010/checkpoint-10\n",
      "2021-09-30 02:26:25,925\tINFO trainable.py:390 -- Current state after restoring: {'_iteration': 10, '_timesteps_total': None, '_time_total': 492.13836669921875, '_episodes_total': 432}\n",
      "2021-09-30 02:30:31,578\tINFO trainable.py:106 -- Trainable.setup took 41.824 seconds. If your trainable is slow to initialize, consider setting reuse_actors=True to reduce actor creation overheads.\n"
     ]
    },
    {
     "data": {
      "application/vnd.jupyter.widget-view+json": {
       "model_id": "772177ce48944c389473f6ff045d1d39",
       "version_major": 2,
       "version_minor": 0
      },
      "text/plain": [
       "       └── AlphaZero_small_42:   0%|          | 0/10 [00:00<?, ?it/s]"
      ]
     },
     "metadata": {},
     "output_type": "display_data"
    },
    {
     "name": "stderr",
     "output_type": "stream",
     "text": [
      "2021-09-30 02:40:25,958\tINFO trainable.py:106 -- Trainable.setup took 64.915 seconds. If your trainable is slow to initialize, consider setting reuse_actors=True to reduce actor creation overheads.\n",
      "2021-09-30 02:40:27,183\tINFO trainable.py:382 -- Restored on 10.28.0.20 from checkpoint: AlphaZero_small_42/checkpoint_000010/checkpoint-10\n",
      "2021-09-30 02:40:27,328\tINFO trainable.py:390 -- Current state after restoring: {'_iteration': 10, '_timesteps_total': None, '_time_total': 518.9625465869904, '_episodes_total': 451}\n",
      "2021-09-30 02:46:21,901\tINFO trainable.py:106 -- Trainable.setup took 62.225 seconds. If your trainable is slow to initialize, consider setting reuse_actors=True to reduce actor creation overheads.\n"
     ]
    },
    {
     "data": {
      "application/vnd.jupyter.widget-view+json": {
       "model_id": "0da03141bbc34bcabdb6fce715462b77",
       "version_major": 2,
       "version_minor": 0
      },
      "text/plain": [
       "       └── AlphaZero_small_1337:   0%|          | 0/10 [00:00<?, ?it/s]"
      ]
     },
     "metadata": {},
     "output_type": "display_data"
    },
    {
     "name": "stderr",
     "output_type": "stream",
     "text": [
      "2021-09-30 02:58:11,620\tINFO trainable.py:106 -- Trainable.setup took 102.588 seconds. If your trainable is slow to initialize, consider setting reuse_actors=True to reduce actor creation overheads.\n",
      "2021-09-30 02:58:13,057\tINFO trainable.py:382 -- Restored on 10.28.0.20 from checkpoint: AlphaZero_small_1337/checkpoint_000010/checkpoint-10\n",
      "2021-09-30 02:58:13,148\tINFO trainable.py:390 -- Current state after restoring: {'_iteration': 10, '_timesteps_total': None, '_time_total': 595.7492537498474, '_episodes_total': 378}\n"
     ]
    },
    {
     "data": {
      "application/vnd.jupyter.widget-view+json": {
       "model_id": "01d6145801604a8984f498b27fa715ba",
       "version_major": 2,
       "version_minor": 0
      },
      "text/plain": [
       "    └── R2D2@small:   0%|          | 0/10 [00:00<?, ?it/s]"
      ]
     },
     "metadata": {},
     "output_type": "display_data"
    },
    {
     "name": "stderr",
     "output_type": "stream",
     "text": [
      "2021-09-30 03:11:48,547\tINFO trainable.py:106 -- Trainable.setup took 37.543 seconds. If your trainable is slow to initialize, consider setting reuse_actors=True to reduce actor creation overheads.\n"
     ]
    },
    {
     "data": {
      "application/vnd.jupyter.widget-view+json": {
       "model_id": "fa0b4a2c25f64b79b421b0e7be3be091",
       "version_major": 2,
       "version_minor": 0
      },
      "text/plain": [
       "       └── R2D2_small_0:   0%|          | 0/10 [00:00<?, ?it/s]"
      ]
     },
     "metadata": {},
     "output_type": "display_data"
    },
    {
     "name": "stderr",
     "output_type": "stream",
     "text": [
      "2021-09-30 03:24:03,402\tINFO trainable.py:106 -- Trainable.setup took 67.186 seconds. If your trainable is slow to initialize, consider setting reuse_actors=True to reduce actor creation overheads.\n",
      "2021-09-30 03:24:06,543\tINFO trainable.py:382 -- Restored on 10.28.0.20 from checkpoint: R2D2_small_0/checkpoint_000010/checkpoint-10\n",
      "2021-09-30 03:24:06,642\tINFO trainable.py:390 -- Current state after restoring: {'_iteration': 10, '_timesteps_total': None, '_time_total': 650.2927560806274, '_episodes_total': 619}\n",
      "2021-09-30 03:25:12,295\tINFO trainable.py:106 -- Trainable.setup took 42.731 seconds. If your trainable is slow to initialize, consider setting reuse_actors=True to reduce actor creation overheads.\n"
     ]
    },
    {
     "data": {
      "application/vnd.jupyter.widget-view+json": {
       "model_id": "cba28e2a44034e2882f91385475d8711",
       "version_major": 2,
       "version_minor": 0
      },
      "text/plain": [
       "       └── R2D2_small_1:   0%|          | 0/10 [00:01<?, ?it/s]"
      ]
     },
     "metadata": {},
     "output_type": "display_data"
    },
    {
     "name": "stderr",
     "output_type": "stream",
     "text": [
      "2021-09-30 03:40:05,184\tINFO trainable.py:106 -- Trainable.setup took 71.909 seconds. If your trainable is slow to initialize, consider setting reuse_actors=True to reduce actor creation overheads.\n",
      "2021-09-30 03:40:07,585\tINFO trainable.py:382 -- Restored on 10.28.0.20 from checkpoint: R2D2_small_1/checkpoint_000010/checkpoint-10\n",
      "2021-09-30 03:40:07,685\tINFO trainable.py:390 -- Current state after restoring: {'_iteration': 10, '_timesteps_total': None, '_time_total': 801.6426005363464, '_episodes_total': 599}\n",
      "2021-09-30 03:41:24,090\tINFO trainable.py:106 -- Trainable.setup took 44.777 seconds. If your trainable is slow to initialize, consider setting reuse_actors=True to reduce actor creation overheads.\n"
     ]
    },
    {
     "data": {
      "application/vnd.jupyter.widget-view+json": {
       "model_id": "16fa6f82890146e997dbe7363dc51a68",
       "version_major": 2,
       "version_minor": 0
      },
      "text/plain": [
       "       └── R2D2_small_2:   0%|          | 0/10 [00:00<?, ?it/s]"
      ]
     },
     "metadata": {},
     "output_type": "display_data"
    },
    {
     "name": "stderr",
     "output_type": "stream",
     "text": [
      "2021-09-30 03:58:44,996\tINFO trainable.py:106 -- Trainable.setup took 82.799 seconds. If your trainable is slow to initialize, consider setting reuse_actors=True to reduce actor creation overheads.\n",
      "2021-09-30 03:58:48,962\tINFO trainable.py:382 -- Restored on 10.28.0.20 from checkpoint: R2D2_small_2/checkpoint_000010/checkpoint-10\n",
      "2021-09-30 03:58:49,080\tINFO trainable.py:390 -- Current state after restoring: {'_iteration': 10, '_timesteps_total': None, '_time_total': 934.9014189243317, '_episodes_total': 633}\n",
      "2021-09-30 03:59:52,724\tINFO trainable.py:106 -- Trainable.setup took 48.412 seconds. If your trainable is slow to initialize, consider setting reuse_actors=True to reduce actor creation overheads.\n"
     ]
    },
    {
     "data": {
      "application/vnd.jupyter.widget-view+json": {
       "model_id": "249a3119c6394ec5aae631dd136fb213",
       "version_major": 2,
       "version_minor": 0
      },
      "text/plain": [
       "       └── R2D2_small_3:   0%|          | 0/10 [00:00<?, ?it/s]"
      ]
     },
     "metadata": {},
     "output_type": "display_data"
    },
    {
     "name": "stderr",
     "output_type": "stream",
     "text": [
      "2021-09-30 04:19:12,449\tINFO trainable.py:106 -- Trainable.setup took 91.665 seconds. If your trainable is slow to initialize, consider setting reuse_actors=True to reduce actor creation overheads.\n",
      "2021-09-30 04:19:16,577\tINFO trainable.py:382 -- Restored on 10.28.0.20 from checkpoint: R2D2_small_3/checkpoint_000010/checkpoint-10\n",
      "2021-09-30 04:19:16,635\tINFO trainable.py:390 -- Current state after restoring: {'_iteration': 10, '_timesteps_total': None, '_time_total': 1040.5419487953186, '_episodes_total': 677}\n",
      "2021-09-30 04:20:38,202\tINFO trainable.py:106 -- Trainable.setup took 52.617 seconds. If your trainable is slow to initialize, consider setting reuse_actors=True to reduce actor creation overheads.\n"
     ]
    },
    {
     "data": {
      "application/vnd.jupyter.widget-view+json": {
       "model_id": "b4f4b69f00794b56bae4d431a232bd2b",
       "version_major": 2,
       "version_minor": 0
      },
      "text/plain": [
       "       └── R2D2_small_6:   0%|          | 0/10 [00:01<?, ?it/s]"
      ]
     },
     "metadata": {},
     "output_type": "display_data"
    },
    {
     "name": "stderr",
     "output_type": "stream",
     "text": [
      "2021-09-30 04:41:15,180\tINFO trainable.py:106 -- Trainable.setup took 98.406 seconds. If your trainable is slow to initialize, consider setting reuse_actors=True to reduce actor creation overheads.\n",
      "2021-09-30 04:41:19,290\tINFO trainable.py:382 -- Restored on 10.28.0.20 from checkpoint: R2D2_small_6/checkpoint_000010/checkpoint-10\n",
      "2021-09-30 04:41:19,373\tINFO trainable.py:390 -- Current state after restoring: {'_iteration': 10, '_timesteps_total': None, '_time_total': 1109.3675401210785, '_episodes_total': 627}\n",
      "2021-09-30 04:42:50,911\tINFO trainable.py:106 -- Trainable.setup took 56.576 seconds. If your trainable is slow to initialize, consider setting reuse_actors=True to reduce actor creation overheads.\n"
     ]
    },
    {
     "data": {
      "application/vnd.jupyter.widget-view+json": {
       "model_id": "2ec33818cc0c4f1183f9ea2cec8c3a9b",
       "version_major": 2,
       "version_minor": 0
      },
      "text/plain": [
       "       └── R2D2_small_7:   0%|          | 0/10 [00:00<?, ?it/s]"
      ]
     },
     "metadata": {},
     "output_type": "display_data"
    },
    {
     "name": "stderr",
     "output_type": "stream",
     "text": [
      "2021-09-30 05:04:42,163\tINFO trainable.py:106 -- Trainable.setup took 106.187 seconds. If your trainable is slow to initialize, consider setting reuse_actors=True to reduce actor creation overheads.\n",
      "2021-09-30 05:04:46,985\tINFO trainable.py:382 -- Restored on 10.28.0.20 from checkpoint: R2D2_small_7/checkpoint_000010/checkpoint-10\n",
      "2021-09-30 05:04:47,137\tINFO trainable.py:390 -- Current state after restoring: {'_iteration': 10, '_timesteps_total': None, '_time_total': 1172.4949643611908, '_episodes_total': 621}\n",
      "2021-09-30 05:06:19,130\tINFO trainable.py:106 -- Trainable.setup took 60.890 seconds. If your trainable is slow to initialize, consider setting reuse_actors=True to reduce actor creation overheads.\n"
     ]
    },
    {
     "data": {
      "application/vnd.jupyter.widget-view+json": {
       "model_id": "a0c2fb9c7f514160bc1f24b8ba45cab2",
       "version_major": 2,
       "version_minor": 0
      },
      "text/plain": [
       "       └── R2D2_small_11:   0%|          | 0/10 [00:01<?, ?it/s]"
      ]
     },
     "metadata": {},
     "output_type": "display_data"
    },
    {
     "name": "stderr",
     "output_type": "stream",
     "text": [
      "2021-09-30 05:29:23,443\tINFO trainable.py:106 -- Trainable.setup took 117.031 seconds. If your trainable is slow to initialize, consider setting reuse_actors=True to reduce actor creation overheads.\n",
      "2021-09-30 05:29:27,858\tINFO trainable.py:382 -- Restored on 10.28.0.20 from checkpoint: R2D2_small_11/checkpoint_000010/checkpoint-10\n",
      "2021-09-30 05:29:28,081\tINFO trainable.py:390 -- Current state after restoring: {'_iteration': 10, '_timesteps_total': None, '_time_total': 1232.0638337135315, '_episodes_total': 593}\n",
      "2021-09-30 05:31:16,906\tINFO trainable.py:106 -- Trainable.setup took 68.874 seconds. If your trainable is slow to initialize, consider setting reuse_actors=True to reduce actor creation overheads.\n"
     ]
    },
    {
     "data": {
      "application/vnd.jupyter.widget-view+json": {
       "model_id": "6f458d7cdd684f4393e65b0fdb779f0b",
       "version_major": 2,
       "version_minor": 0
      },
      "text/plain": [
       "       └── R2D2_small_28:   0%|          | 0/10 [00:01<?, ?it/s]"
      ]
     },
     "metadata": {},
     "output_type": "display_data"
    },
    {
     "name": "stderr",
     "output_type": "stream",
     "text": [
      "2021-09-30 05:56:28,015\tINFO trainable.py:106 -- Trainable.setup took 122.369 seconds. If your trainable is slow to initialize, consider setting reuse_actors=True to reduce actor creation overheads.\n",
      "2021-09-30 05:56:33,407\tINFO trainable.py:382 -- Restored on 10.28.0.20 from checkpoint: R2D2_small_28/checkpoint_000010/checkpoint-10\n",
      "2021-09-30 05:56:33,548\tINFO trainable.py:390 -- Current state after restoring: {'_iteration': 10, '_timesteps_total': None, '_time_total': 1350.186371564865, '_episodes_total': 614}\n",
      "2021-09-30 05:58:27,573\tINFO trainable.py:106 -- Trainable.setup took 69.777 seconds. If your trainable is slow to initialize, consider setting reuse_actors=True to reduce actor creation overheads.\n"
     ]
    },
    {
     "data": {
      "application/vnd.jupyter.widget-view+json": {
       "model_id": "1a7b8a3d2f6f4d958d746c339d4e7e50",
       "version_major": 2,
       "version_minor": 0
      },
      "text/plain": [
       "       └── R2D2_small_42:   0%|          | 0/10 [00:00<?, ?it/s]"
      ]
     },
     "metadata": {},
     "output_type": "display_data"
    },
    {
     "name": "stderr",
     "output_type": "stream",
     "text": [
      "2021-09-30 06:24:59,782\tINFO trainable.py:106 -- Trainable.setup took 128.946 seconds. If your trainable is slow to initialize, consider setting reuse_actors=True to reduce actor creation overheads.\n",
      "2021-09-30 06:25:05,660\tINFO trainable.py:382 -- Restored on 10.28.0.20 from checkpoint: R2D2_small_42/checkpoint_000010/checkpoint-10\n",
      "2021-09-30 06:25:06,011\tINFO trainable.py:390 -- Current state after restoring: {'_iteration': 10, '_timesteps_total': None, '_time_total': 1422.7538180351257, '_episodes_total': 638}\n",
      "2021-09-30 06:27:05,796\tINFO trainable.py:106 -- Trainable.setup took 71.824 seconds. If your trainable is slow to initialize, consider setting reuse_actors=True to reduce actor creation overheads.\n"
     ]
    },
    {
     "data": {
      "application/vnd.jupyter.widget-view+json": {
       "model_id": "35f0cdbaa07b4a77aabec0394acc72b2",
       "version_major": 2,
       "version_minor": 0
      },
      "text/plain": [
       "       └── R2D2_small_1337:   0%|          | 0/10 [00:01<?, ?it/s]"
      ]
     },
     "metadata": {},
     "output_type": "display_data"
    },
    {
     "name": "stderr",
     "output_type": "stream",
     "text": [
      "2021-09-30 06:55:40,533\tINFO trainable.py:106 -- Trainable.setup took 141.499 seconds. If your trainable is slow to initialize, consider setting reuse_actors=True to reduce actor creation overheads.\n",
      "2021-09-30 06:55:48,249\tINFO trainable.py:382 -- Restored on 10.28.0.20 from checkpoint: R2D2_small_1337/checkpoint_000010/checkpoint-10\n",
      "2021-09-30 06:55:48,596\tINFO trainable.py:390 -- Current state after restoring: {'_iteration': 10, '_timesteps_total': None, '_time_total': 1527.8430078029633, '_episodes_total': 614}\n"
     ]
    },
    {
     "data": {
      "application/vnd.jupyter.widget-view+json": {
       "model_id": "62a4e0f23b4b4ab2b3b62c10c8c6a05c",
       "version_major": 2,
       "version_minor": 0
      },
      "text/plain": [
       "    └── rule-based@small:   0%|          | 0/10 [00:01<?, ?it/s]"
      ]
     },
     "metadata": {},
     "output_type": "display_data"
    },
    {
     "name": "stderr",
     "output_type": "stream",
     "text": [
      "2021-09-30 06:56:28,178\tWARNING import_thread.py:123 -- The actor 'RolloutWorker' has been exported 100 times. It's possible that this warning is accidental, but this may indicate that the same remote function is being defined repeatedly from within many tasks and exported to all of the workers. This can be a performance issue and can be resolved by defining the remote function on the driver instead. See https://github.com/ray-project/ray/issues/6240 for more discussion.\n",
      "2021-09-30 06:56:32,561\tINFO trainable.py:106 -- Trainable.setup took 15.546 seconds. If your trainable is slow to initialize, consider setting reuse_actors=True to reduce actor creation overheads.\n",
      "2021-09-30 06:56:58,381\tINFO trainable.py:106 -- Trainable.setup took 17.049 seconds. If your trainable is slow to initialize, consider setting reuse_actors=True to reduce actor creation overheads.\n",
      "2021-09-30 06:57:22,760\tINFO trainable.py:106 -- Trainable.setup took 14.377 seconds. If your trainable is slow to initialize, consider setting reuse_actors=True to reduce actor creation overheads.\n",
      "2021-09-30 06:57:49,374\tINFO trainable.py:106 -- Trainable.setup took 16.011 seconds. If your trainable is slow to initialize, consider setting reuse_actors=True to reduce actor creation overheads.\n",
      "2021-09-30 06:58:12,143\tINFO trainable.py:106 -- Trainable.setup took 14.628 seconds. If your trainable is slow to initialize, consider setting reuse_actors=True to reduce actor creation overheads.\n",
      "2021-09-30 06:58:37,863\tINFO trainable.py:106 -- Trainable.setup took 15.787 seconds. If your trainable is slow to initialize, consider setting reuse_actors=True to reduce actor creation overheads.\n",
      "2021-09-30 06:59:02,991\tINFO trainable.py:106 -- Trainable.setup took 14.280 seconds. If your trainable is slow to initialize, consider setting reuse_actors=True to reduce actor creation overheads.\n",
      "2021-09-30 06:59:29,136\tINFO trainable.py:106 -- Trainable.setup took 15.848 seconds. If your trainable is slow to initialize, consider setting reuse_actors=True to reduce actor creation overheads.\n",
      "2021-09-30 06:59:54,797\tINFO trainable.py:106 -- Trainable.setup took 14.400 seconds. If your trainable is slow to initialize, consider setting reuse_actors=True to reduce actor creation overheads.\n",
      "2021-09-30 07:00:24,842\tINFO trainable.py:106 -- Trainable.setup took 17.753 seconds. If your trainable is slow to initialize, consider setting reuse_actors=True to reduce actor creation overheads.\n"
     ]
    },
    {
     "data": {
      "application/vnd.jupyter.widget-view+json": {
       "model_id": "ed89eb50cf414f3684bd9702c590fb69",
       "version_major": 2,
       "version_minor": 0
      },
      "text/plain": [
       "    └── random@small:   0%|          | 0/10 [00:01<?, ?it/s]"
      ]
     },
     "metadata": {},
     "output_type": "display_data"
    },
    {
     "name": "stderr",
     "output_type": "stream",
     "text": [
      "2021-09-30 07:00:57,013\tINFO trainable.py:106 -- Trainable.setup took 15.765 seconds. If your trainable is slow to initialize, consider setting reuse_actors=True to reduce actor creation overheads.\n",
      "2021-09-30 07:01:23,254\tINFO trainable.py:106 -- Trainable.setup took 16.506 seconds. If your trainable is slow to initialize, consider setting reuse_actors=True to reduce actor creation overheads.\n",
      "2021-09-30 07:01:48,414\tINFO trainable.py:106 -- Trainable.setup took 15.827 seconds. If your trainable is slow to initialize, consider setting reuse_actors=True to reduce actor creation overheads.\n",
      "2021-09-30 07:02:17,402\tINFO trainable.py:106 -- Trainable.setup took 18.044 seconds. If your trainable is slow to initialize, consider setting reuse_actors=True to reduce actor creation overheads.\n",
      "2021-09-30 07:02:45,581\tINFO trainable.py:106 -- Trainable.setup took 16.649 seconds. If your trainable is slow to initialize, consider setting reuse_actors=True to reduce actor creation overheads.\n",
      "2021-09-30 07:03:18,835\tINFO trainable.py:106 -- Trainable.setup took 20.136 seconds. If your trainable is slow to initialize, consider setting reuse_actors=True to reduce actor creation overheads.\n",
      "2021-09-30 07:03:48,451\tINFO trainable.py:106 -- Trainable.setup took 16.916 seconds. If your trainable is slow to initialize, consider setting reuse_actors=True to reduce actor creation overheads.\n",
      "2021-09-30 07:04:17,583\tINFO trainable.py:106 -- Trainable.setup took 17.783 seconds. If your trainable is slow to initialize, consider setting reuse_actors=True to reduce actor creation overheads.\n",
      "2021-09-30 07:04:45,409\tINFO trainable.py:106 -- Trainable.setup took 15.880 seconds. If your trainable is slow to initialize, consider setting reuse_actors=True to reduce actor creation overheads.\n",
      "2021-09-30 07:05:18,567\tINFO trainable.py:106 -- Trainable.setup took 19.217 seconds. If your trainable is slow to initialize, consider setting reuse_actors=True to reduce actor creation overheads.\n"
     ]
    },
    {
     "data": {
      "application/vnd.jupyter.widget-view+json": {
       "model_id": "45f2fbe8767845859ffdaf31150cb96b",
       "version_major": 2,
       "version_minor": 0
      },
      "text/plain": [
       "└── medium-small:   0%|          | 0/4 [00:02<?, ?it/s]"
      ]
     },
     "metadata": {},
     "output_type": "display_data"
    },
    {
     "data": {
      "application/vnd.jupyter.widget-view+json": {
       "model_id": "41c905e4c6334616b26b34ae73ef7e4d",
       "version_major": 2,
       "version_minor": 0
      },
      "text/plain": [
       "    └── AlphaZero@medium-small:   0%|          | 0/10 [00:02<?, ?it/s]"
      ]
     },
     "metadata": {},
     "output_type": "display_data"
    },
    {
     "name": "stderr",
     "output_type": "stream",
     "text": [
      "2021-09-30 07:09:32,212\tINFO trainable.py:106 -- Trainable.setup took 230.072 seconds. If your trainable is slow to initialize, consider setting reuse_actors=True to reduce actor creation overheads.\n"
     ]
    },
    {
     "data": {
      "application/vnd.jupyter.widget-view+json": {
       "model_id": "ddb36c8749404d59a86221c9e7f3cbfa",
       "version_major": 2,
       "version_minor": 0
      },
      "text/plain": [
       "       └── AlphaZero_medium-small_0:   0%|          | 0/10 [00:02<?, ?it/s]"
      ]
     },
     "metadata": {},
     "output_type": "display_data"
    },
    {
     "name": "stderr",
     "output_type": "stream",
     "text": [
      "2021-09-30 07:48:52,740\tINFO trainable.py:106 -- Trainable.setup took 495.178 seconds. If your trainable is slow to initialize, consider setting reuse_actors=True to reduce actor creation overheads.\n",
      "2021-09-30 07:48:57,459\tINFO trainable.py:382 -- Restored on 10.28.0.20 from checkpoint: AlphaZero_medium-small_0/checkpoint_000010/checkpoint-10\n",
      "2021-09-30 07:48:58,270\tINFO trainable.py:390 -- Current state after restoring: {'_iteration': 10, '_timesteps_total': None, '_time_total': 1805.718020915985, '_episodes_total': 367}\n",
      "2021-09-30 08:06:58,944\tINFO trainable.py:106 -- Trainable.setup took 278.423 seconds. If your trainable is slow to initialize, consider setting reuse_actors=True to reduce actor creation overheads.\n"
     ]
    },
    {
     "data": {
      "application/vnd.jupyter.widget-view+json": {
       "model_id": "b7566703510441988503cfd3ff351b56",
       "version_major": 2,
       "version_minor": 0
      },
      "text/plain": [
       "       └── AlphaZero_medium-small_1:   0%|          | 0/10 [00:02<?, ?it/s]"
      ]
     },
     "metadata": {},
     "output_type": "display_data"
    },
    {
     "name": "stderr",
     "output_type": "stream",
     "text": [
      "2021-09-30 08:50:45,133\tINFO trainable.py:106 -- Trainable.setup took 589.646 seconds. If your trainable is slow to initialize, consider setting reuse_actors=True to reduce actor creation overheads.\n",
      "2021-09-30 08:50:49,530\tINFO trainable.py:382 -- Restored on 10.28.0.20 from checkpoint: AlphaZero_medium-small_1/checkpoint_000010/checkpoint-10\n",
      "2021-09-30 08:50:49,739\tINFO trainable.py:390 -- Current state after restoring: {'_iteration': 10, '_timesteps_total': None, '_time_total': 1971.3794963359833, '_episodes_total': 395}\n",
      "2021-09-30 09:17:18,561\tINFO trainable.py:106 -- Trainable.setup took 292.150 seconds. If your trainable is slow to initialize, consider setting reuse_actors=True to reduce actor creation overheads.\n"
     ]
    },
    {
     "data": {
      "application/vnd.jupyter.widget-view+json": {
       "model_id": "eef57f9dda8d441bb28051a392473268",
       "version_major": 2,
       "version_minor": 0
      },
      "text/plain": [
       "       └── AlphaZero_medium-small_2:   0%|          | 0/10 [00:02<?, ?it/s]"
      ]
     },
     "metadata": {},
     "output_type": "display_data"
    },
    {
     "name": "stderr",
     "output_type": "stream",
     "text": [
      "2021-09-30 10:03:51,107\tINFO trainable.py:106 -- Trainable.setup took 587.328 seconds. If your trainable is slow to initialize, consider setting reuse_actors=True to reduce actor creation overheads.\n",
      "2021-09-30 10:03:56,335\tINFO trainable.py:382 -- Restored on 10.28.0.20 from checkpoint: AlphaZero_medium-small_2/checkpoint_000010/checkpoint-10\n",
      "2021-09-30 10:03:57,437\tINFO trainable.py:390 -- Current state after restoring: {'_iteration': 10, '_timesteps_total': None, '_time_total': 2122.9606473445892, '_episodes_total': 379}\n",
      "2021-09-30 10:32:03,335\tINFO trainable.py:106 -- Trainable.setup took 286.502 seconds. If your trainable is slow to initialize, consider setting reuse_actors=True to reduce actor creation overheads.\n"
     ]
    },
    {
     "data": {
      "application/vnd.jupyter.widget-view+json": {
       "model_id": "97f59fe743e24d0a8cdcde2fb25542d7",
       "version_major": 2,
       "version_minor": 0
      },
      "text/plain": [
       "       └── AlphaZero_medium-small_3:   0%|          | 0/10 [00:04<?, ?it/s]"
      ]
     },
     "metadata": {},
     "output_type": "display_data"
    },
    {
     "name": "stderr",
     "output_type": "stream",
     "text": [
      "2021-09-30 11:21:05,868\tINFO trainable.py:106 -- Trainable.setup took 626.599 seconds. If your trainable is slow to initialize, consider setting reuse_actors=True to reduce actor creation overheads.\n",
      "2021-09-30 11:21:11,204\tINFO trainable.py:382 -- Restored on 10.28.0.20 from checkpoint: AlphaZero_medium-small_3/checkpoint_000010/checkpoint-10\n",
      "2021-09-30 11:21:11,777\tINFO trainable.py:390 -- Current state after restoring: {'_iteration': 10, '_timesteps_total': None, '_time_total': 2234.22594666481, '_episodes_total': 325}\n",
      "2021-09-30 12:48:16,470\tINFO trainable.py:106 -- Trainable.setup took 331.692 seconds. If your trainable is slow to initialize, consider setting reuse_actors=True to reduce actor creation overheads.\n"
     ]
    },
    {
     "data": {
      "application/vnd.jupyter.widget-view+json": {
       "model_id": "8d5b8620e63b4140b1715848cd6f6037",
       "version_major": 2,
       "version_minor": 0
      },
      "text/plain": [
       "       └── AlphaZero_medium-small_6:   0%|          | 0/10 [00:03<?, ?it/s]"
      ]
     },
     "metadata": {},
     "output_type": "display_data"
    },
    {
     "name": "stderr",
     "output_type": "stream",
     "text": [
      "2021-09-30 13:39:24,437\tINFO trainable.py:106 -- Trainable.setup took 655.571 seconds. If your trainable is slow to initialize, consider setting reuse_actors=True to reduce actor creation overheads.\n",
      "2021-09-30 13:39:28,748\tINFO trainable.py:382 -- Restored on 10.28.0.20 from checkpoint: AlphaZero_medium-small_6/checkpoint_000010/checkpoint-10\n",
      "2021-09-30 13:39:29,172\tINFO trainable.py:390 -- Current state after restoring: {'_iteration': 10, '_timesteps_total': None, '_time_total': 2318.7335131168365, '_episodes_total': 349}\n",
      "2021-09-30 14:38:35,671\tINFO trainable.py:106 -- Trainable.setup took 299.238 seconds. If your trainable is slow to initialize, consider setting reuse_actors=True to reduce actor creation overheads.\n"
     ]
    },
    {
     "data": {
      "application/vnd.jupyter.widget-view+json": {
       "model_id": "a9c2d07f52a44dd49f0ef041543b4a76",
       "version_major": 2,
       "version_minor": 0
      },
      "text/plain": [
       "       └── AlphaZero_medium-small_7:   0%|          | 0/10 [00:04<?, ?it/s]"
      ]
     },
     "metadata": {},
     "output_type": "display_data"
    },
    {
     "name": "stderr",
     "output_type": "stream",
     "text": [
      "Exception ignored in: <generator object tqdm.__iter__ at 0x7fe0338740b0>\n",
      "Traceback (most recent call last):\n",
      "  File \"/root/.cache/pypoetry/virtualenvs/attack-simulator-_8mgyPy8-py3.8/lib/python3.8/site-packages/tqdm/std.py\", line 1195, in __iter__\n",
      "    self.close()\n",
      "  File \"/root/.cache/pypoetry/virtualenvs/attack-simulator-_8mgyPy8-py3.8/lib/python3.8/site-packages/tqdm/notebook.py\", line 286, in close\n",
      "    self.disp(bar_style='danger', check_delay=False)\n",
      "  File \"/root/.cache/pypoetry/virtualenvs/attack-simulator-_8mgyPy8-py3.8/lib/python3.8/site-packages/tqdm/notebook.py\", line 180, in display\n",
      "    rtext.value = right\n",
      "  File \"/root/.cache/pypoetry/virtualenvs/attack-simulator-_8mgyPy8-py3.8/lib/python3.8/site-packages/traitlets/traitlets.py\", line 606, in __set__\n",
      "    self.set(obj, value)\n",
      "  File \"/root/.cache/pypoetry/virtualenvs/attack-simulator-_8mgyPy8-py3.8/lib/python3.8/site-packages/traitlets/traitlets.py\", line 595, in set\n",
      "    obj._notify_trait(self.name, old_value, new_value)\n",
      "  File \"/root/.cache/pypoetry/virtualenvs/attack-simulator-_8mgyPy8-py3.8/lib/python3.8/site-packages/traitlets/traitlets.py\", line 1219, in _notify_trait\n",
      "    self.notify_change(Bunch(\n",
      "  File \"/root/.cache/pypoetry/virtualenvs/attack-simulator-_8mgyPy8-py3.8/lib/python3.8/site-packages/ipywidgets/widgets/widget.py\", line 605, in notify_change\n",
      "    "
     ]
    }
   ],
   "source": [
    "savename = \"returns-agent-eval.csv\"\n",
    "\n",
    "df = generate(savename) if not os.path.exists(savename) else pd.read_csv(savename, index_col=0)"
   ]
  },
  {
   "cell_type": "code",
   "execution_count": null,
   "id": "dd5ae506-5fc6-4fcf-b1fe-91a2df9f12ca",
   "metadata": {},
   "outputs": [],
   "source": [
    "df"
   ]
  },
  {
   "cell_type": "code",
   "execution_count": null,
   "id": "8c984bbe-82c6-4dca-8436-6d78cf97d68b",
   "metadata": {},
   "outputs": [],
   "source": [
    "sns.set(style=\"darkgrid\", rc={\"figure.figsize\": (12, 8)})"
   ]
  },
  {
   "cell_type": "code",
   "execution_count": null,
   "id": "f5424a47-3486-472b-a604-779d30ca7b88",
   "metadata": {},
   "outputs": [],
   "source": [
    "g = sns.lineplot(data=df, x=\"Graph size\", y=\"Returns\", hue=\"Agent\", ci=\"sd\")\n",
    "g.legend(title=\"Agent\", loc=\"lower left\")\n",
    "g.set_title(\"Returns vs Size (random attacker)\")"
   ]
  },
  {
   "cell_type": "code",
   "execution_count": null,
   "id": "0fa2d787-49db-4d90-a8ae-a69d97c085f5",
   "metadata": {},
   "outputs": [],
   "source": [
    "g = sns.lineplot(data=df, x=\"Graph size\", y=\"Episode lengths\", hue=\"Agent\", ci=\"sd\")\n",
    "g.legend(title=\"Agent\", loc=\"upper left\")\n",
    "g.set_title(\"Episode lengths vs Size (random attacker)\")"
   ]
  },
  {
   "cell_type": "code",
   "execution_count": null,
   "id": "f3b6d9d1-2b14-4e48-a4a9-85785a112121",
   "metadata": {},
   "outputs": [],
   "source": [
    "pd.set_option(\"display.max_columns\", 32)\n",
    "df.groupby(\"Agent\").describe()"
   ]
  }
 ],
 "metadata": {
  "kernelspec": {
   "display_name": "Python 3 (ipykernel)",
   "language": "python",
   "name": "python3"
  },
  "language_info": {
   "codemirror_mode": {
    "name": "ipython",
    "version": 3
   },
   "file_extension": ".py",
   "mimetype": "text/x-python",
   "name": "python",
   "nbconvert_exporter": "python",
   "pygments_lexer": "ipython3",
   "version": "3.8.11"
  }
 },
 "nbformat": 4,
 "nbformat_minor": 5
}
